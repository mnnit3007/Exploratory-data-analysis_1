{
  "nbformat": 4,
  "nbformat_minor": 0,
  "metadata": {
    "colab": {
      "private_outputs": true,
      "provenance": [],
      "collapsed_sections": [
        "vncDsAP0Gaoa",
        "FJNUwmbgGyua",
        "w6K7xa23Elo4",
        "yQaldy8SH6Dl",
        "PH-0ReGfmX4f",
        "mDgbUHAGgjLW",
        "O_i_v8NEhb9l",
        "HhfV-JJviCcP",
        "Y3lxredqlCYt",
        "3RnN4peoiCZX",
        "x71ZqKXriCWQ",
        "7hBIi_osiCS2",
        "JlHwYmJAmNHm",
        "35m5QtbWiB9F",
        "PoPl-ycgm1ru",
        "H0kj-8xxnORC",
        "nA9Y7ga8ng1Z",
        "PBTbrJXOngz2",
        "u3PMJOP6ngxN",
        "dauF4eBmngu3",
        "bKJF3rekwFvQ",
        "MSa1f5Uengrz",
        "GF8Ens_Soomf",
        "0wOQAZs5pc--",
        "K5QZ13OEpz2H",
        "lQ7QKXXCp7Bj",
        "448CDAPjqfQr",
        "KSlN3yHqYklG",
        "t6dVpIINYklI",
        "ijmpgYnKYklI",
        "-JiQyfWJYklI",
        "EM7whBJCYoAo",
        "fge-S5ZAYoAp",
        "85gYPyotYoAp",
        "RoGjAbkUYoAp",
        "4Of9eVA-YrdM",
        "iky9q4vBYrdO",
        "F6T5p64dYrdO",
        "y-Ehk30pYrdP",
        "bamQiAODYuh1",
        "QHF8YVU7Yuh3",
        "GwzvFGzlYuh3",
        "qYpmQ266Yuh3",
        "OH-pJp9IphqM",
        "bbFf2-_FphqN",
        "_ouA3fa0phqN",
        "Seke61FWphqN",
        "PIIx-8_IphqN",
        "t27r6nlMphqO",
        "r2jJGEOYphqO",
        "b0JNsNcRphqO",
        "BZR9WyysphqO",
        "jj7wYXLtphqO",
        "eZrbJ2SmphqO",
        "rFu4xreNphqO",
        "YJ55k-q6phqO",
        "gCFgpxoyphqP",
        "OVtJsKN_phqQ",
        "lssrdh5qphqQ",
        "U2RJ9gkRphqQ",
        "1M8mcRywphqQ",
        "tgIPom80phqQ",
        "JMzcOPDDphqR",
        "x-EpHcCOp1ci",
        "X_VqEhTip1ck",
        "8zGJKyg5p1ck",
        "PVzmfK_Ep1ck",
        "n3dbpmDWp1ck",
        "ylSl6qgtp1ck",
        "ZWILFDl5p1ck",
        "M7G43BXep1ck",
        "Ag9LCva-p1cl",
        "E6MkPsBcp1cl",
        "2cELzS2fp1cl",
        "3MPXvC8up1cl",
        "NC_X3p0fY2L0",
        "UV0SzAkaZNRQ",
        "YPEH6qLeZNRQ",
        "q29F0dvdveiT",
        "EXh0U9oCveiU",
        "22aHeOlLveiV",
        "JcMwzZxoAimU",
        "8G2x9gOozGDZ",
        "gCX9965dhzqZ",
        "gIfDvo9L0UH2"
      ],
      "include_colab_link": true
    },
    "kernelspec": {
      "name": "python3",
      "display_name": "Python 3"
    },
    "language_info": {
      "name": "python"
    }
  },
  "cells": [
    {
      "cell_type": "markdown",
      "metadata": {
        "id": "view-in-github",
        "colab_type": "text"
      },
      "source": [
        "<a href=\"https://colab.research.google.com/github/mnnit3007/Global-Terrorism-Data-EDA/blob/main/EDA_Project13.ipynb\" target=\"_parent\"><img src=\"https://colab.research.google.com/assets/colab-badge.svg\" alt=\"Open In Colab\"/></a>"
      ]
    },
    {
      "cell_type": "markdown",
      "source": [
        "# **Project Name**    -EDA Global Terrorism Database\n",
        "\n"
      ],
      "metadata": {
        "id": "vncDsAP0Gaoa"
      }
    },
    {
      "cell_type": "markdown",
      "source": [
        "##### **Project Type**    - EDA\n",
        "##### **Contribution**    - Individual\n",
        "##### **Contributer Name -** Ayush Kumar Srivastava\n"
      ],
      "metadata": {
        "id": "beRrZCGUAJYm"
      }
    },
    {
      "cell_type": "markdown",
      "source": [
        "# **Project Summary -**"
      ],
      "metadata": {
        "id": "FJNUwmbgGyua"
      }
    },
    {
      "cell_type": "markdown",
      "source": [
        "Write the summary here within 500-600 words."
      ],
      "metadata": {
        "id": "F6v_1wHtG2nS"
      }
    },
    {
      "cell_type": "markdown",
      "source": [
        "# **GitHub Link -**"
      ],
      "metadata": {
        "id": "w6K7xa23Elo4"
      }
    },
    {
      "cell_type": "markdown",
      "source": [
        "Provide your GitHub Link here."
      ],
      "metadata": {
        "id": "h1o69JH3Eqqn"
      }
    },
    {
      "cell_type": "markdown",
      "source": [
        "# **Problem Statement**\n"
      ],
      "metadata": {
        "id": "yQaldy8SH6Dl"
      }
    },
    {
      "cell_type": "markdown",
      "source": [
        "The WEF's Global Risk Report lists terrorism as a important global threat to humanity's wellbeing.In this context,The Global Terrorism Database (GTD),an open-source database including information on terrorist attacks around the world from 1970 through 2017,presents insightful statistics.The problem statement here, is to analyse these ststistics to draw conclusions which can benefit several stakeholders.\n"
      ],
      "metadata": {
        "id": "DpeJGUA3kjGy"
      }
    },
    {
      "cell_type": "markdown",
      "source": [
        "#### **Define Your Business Objective?**"
      ],
      "metadata": {
        "id": "PH-0ReGfmX4f"
      }
    },
    {
      "cell_type": "markdown",
      "source": [
        "Business objectives are:-\n",
        "1."
      ],
      "metadata": {
        "id": "PhDvGCAqmjP1"
      }
    },
    {
      "cell_type": "markdown",
      "source": [
        "# **General Guidelines** : -  "
      ],
      "metadata": {
        "id": "mDgbUHAGgjLW"
      }
    },
    {
      "cell_type": "markdown",
      "source": [
        "1.   Well-structured, formatted, and commented code is required.\n",
        "2.   Exception Handling, Production Grade Code & Deployment Ready Code will be a plus. Those students will be awarded some additional credits.\n",
        "     \n",
        "     The additional credits will have advantages over other students during Star Student selection.\n",
        "       \n",
        "             [ Note: - Deployment Ready Code is defined as, the whole .ipynb notebook should be executable in one go\n",
        "                       without a single error logged. ]\n",
        "\n",
        "3.   Each and every logic should have proper comments.\n",
        "4. You may add as many number of charts you want. Make Sure for each and every chart the following format should be answered.\n",
        "        \n",
        "\n",
        "```\n",
        "# Chart visualization code\n",
        "```\n",
        "            \n",
        "\n",
        "*   Why did you pick the specific chart?\n",
        "*   What is/are the insight(s) found from the chart?\n",
        "* Will the gained insights help creating a positive business impact?\n",
        "Are there any insights that lead to negative growth? Justify with specific reason.\n",
        "\n",
        "5. You have to create at least 20 logical & meaningful charts having important insights.\n",
        "\n",
        "\n",
        "[ Hints : - Do the Vizualization in  a structured way while following \"UBM\" Rule.\n",
        "\n",
        "U - Univariate Analysis,\n",
        "\n",
        "B - Bivariate Analysis (Numerical - Categorical, Numerical - Numerical, Categorical - Categorical)\n",
        "\n",
        "M - Multivariate Analysis\n",
        " ]\n",
        "\n",
        "\n",
        "\n"
      ],
      "metadata": {
        "id": "ZrxVaUj-hHfC"
      }
    },
    {
      "cell_type": "markdown",
      "source": [
        "# ***Let's Begin !***"
      ],
      "metadata": {
        "id": "O_i_v8NEhb9l"
      }
    },
    {
      "cell_type": "markdown",
      "source": [
        "## ***1. Know Your Data***"
      ],
      "metadata": {
        "id": "HhfV-JJviCcP"
      }
    },
    {
      "cell_type": "markdown",
      "source": [
        "### Import Libraries"
      ],
      "metadata": {
        "id": "Y3lxredqlCYt"
      }
    },
    {
      "cell_type": "code",
      "source": [
        "#Importing Libraries\n",
        "from google.colab import drive\n",
        "import numpy as np\n",
        "import pandas as pd\n",
        "import matplotlib.pyplot as plt\n",
        "import seaborn as sns"
      ],
      "metadata": {
        "id": "M8Vqi-pPk-HR"
      },
      "execution_count": null,
      "outputs": []
    },
    {
      "cell_type": "markdown",
      "source": [
        "### Dataset Loading"
      ],
      "metadata": {
        "id": "3RnN4peoiCZX"
      }
    },
    {
      "cell_type": "code",
      "source": [
        "drive.mount('/content/drive')"
      ],
      "metadata": {
        "id": "4CkvbW_SlZ_R"
      },
      "execution_count": null,
      "outputs": []
    },
    {
      "cell_type": "code",
      "source": [
        "path=\"/content/drive/My Drive/Global Terrorism Data.csv\""
      ],
      "metadata": {
        "id": "UUKb4RGeDyRY"
      },
      "execution_count": null,
      "outputs": []
    },
    {
      "cell_type": "code",
      "source": [
        "#Reading CSV dataset\n",
        "df=pd.read_csv(path, encoding = \"ISO-8859-1\")"
      ],
      "metadata": {
        "id": "wk1ieFhIDymo"
      },
      "execution_count": null,
      "outputs": []
    },
    {
      "cell_type": "code",
      "source": [
        "pd.set_option(\"display.max_columns\", 135)\n",
        "pd.set_option(\"display.max_rows\", 10000)"
      ],
      "metadata": {
        "id": "u_0CGA9zFPjP"
      },
      "execution_count": null,
      "outputs": []
    },
    {
      "cell_type": "markdown",
      "source": [
        "### Dataset First View"
      ],
      "metadata": {
        "id": "x71ZqKXriCWQ"
      }
    },
    {
      "cell_type": "code",
      "source": [
        "#Top 5 rows of dataset\n",
        "df.head()"
      ],
      "metadata": {
        "id": "BF9blM5zHq4l"
      },
      "execution_count": null,
      "outputs": []
    },
    {
      "cell_type": "code",
      "source": [
        "#Bottom 5 rows of dataset\n",
        "df.tail()"
      ],
      "metadata": {
        "id": "Erur9aNGHtW4"
      },
      "execution_count": null,
      "outputs": []
    },
    {
      "cell_type": "markdown",
      "source": [
        "### Dataset Rows & Columns count"
      ],
      "metadata": {
        "id": "7hBIi_osiCS2"
      }
    },
    {
      "cell_type": "code",
      "source": [
        "# Dataset Columns count\n",
        "len(df.columns)"
      ],
      "metadata": {
        "id": "Kllu7SJgmLij"
      },
      "execution_count": null,
      "outputs": []
    },
    {
      "cell_type": "code",
      "source": [
        "#Dataset rows count\n",
        "print(len(df))"
      ],
      "metadata": {
        "id": "c_f0UAGAag1z"
      },
      "execution_count": null,
      "outputs": []
    },
    {
      "cell_type": "code",
      "source": [
        "#Dataset columns and rows count\n",
        "df.shape"
      ],
      "metadata": {
        "id": "EHPi3CvULfd3"
      },
      "execution_count": null,
      "outputs": []
    },
    {
      "cell_type": "markdown",
      "source": [
        "### Dataset Information"
      ],
      "metadata": {
        "id": "JlHwYmJAmNHm"
      }
    },
    {
      "cell_type": "code",
      "source": [
        "# Dataset Info\n",
        "df.info()"
      ],
      "metadata": {
        "id": "e9hRXRi6meOf"
      },
      "execution_count": null,
      "outputs": []
    },
    {
      "cell_type": "code",
      "source": [
        "#Data types of columns\n",
        "df.dtypes"
      ],
      "metadata": {
        "id": "5lORN6eClANq"
      },
      "execution_count": null,
      "outputs": []
    },
    {
      "cell_type": "code",
      "source": [
        "#Statistical info of dataset\n",
        "df.describe()"
      ],
      "metadata": {
        "id": "MkNoMxngl-eF"
      },
      "execution_count": null,
      "outputs": []
    },
    {
      "cell_type": "markdown",
      "source": [
        "#### Duplicate Values"
      ],
      "metadata": {
        "id": "35m5QtbWiB9F"
      }
    },
    {
      "cell_type": "code",
      "source": [
        "# Dataset Duplicate Value Count\n",
        "df.duplicated().value_counts()\n"
      ],
      "metadata": {
        "id": "1sLdpKYkmox0"
      },
      "execution_count": null,
      "outputs": []
    },
    {
      "cell_type": "markdown",
      "source": [
        "#### Missing Values/Null Values"
      ],
      "metadata": {
        "id": "PoPl-ycgm1ru"
      }
    },
    {
      "cell_type": "code",
      "source": [
        "#Replacing all varieties of null with Nan\n",
        "df.replace('-','np.NaN',inplace=True)\n",
        "df.replace(' ','np.NaN',inplace=True)\n",
        "df.replace('?','np.NaN',inplace=True)\n",
        "df.replace('-99','np.NaN',inplace=True)\n",
        "df.replace(-99,'np.NaN',inplace=True)\n",
        "df.replace('nan','np.NaN',inplace=True)\n",
        "df.replace('Andhra pradesh','Andhra Pradesh',inplace=True)\n",
        "df.replace('Orissa','Odisha',inplace=True)"
      ],
      "metadata": {
        "id": "ODpflFdY2Drz"
      },
      "execution_count": null,
      "outputs": []
    },
    {
      "cell_type": "code",
      "source": [
        "# Missing Values/Null Values Count\n",
        "df.isnull().sum()"
      ],
      "metadata": {
        "id": "GgHWkxvamxVg"
      },
      "execution_count": null,
      "outputs": []
    },
    {
      "cell_type": "code",
      "source": [
        "# Visualizing the missing values\n",
        "plt.figure(figsize=(12,20))\n",
        "ax=sns.heatmap(data=df.isna(),cmap='binary',cbar=False)\n",
        "plt.title(\"Missing values visualization heatmap\",fontsize=15)\n",
        "plt.show()"
      ],
      "metadata": {
        "id": "3q5wnI3om9sJ"
      },
      "execution_count": null,
      "outputs": []
    },
    {
      "cell_type": "markdown",
      "source": [
        "### What did you know about your dataset?"
      ],
      "metadata": {
        "id": "H0kj-8xxnORC"
      }
    },
    {
      "cell_type": "markdown",
      "source": [
        "1. The Global Terrorism Dataset contains information on terrorist\n",
        "attacks around the world from 1970 through 2017.\n",
        "2. The dataset contains 135 columns, which provide comprehensive detail about the terror events throughout the world.\n",
        "3. The following are the columns of the dataset:-eventid,iyear,imonth,iday,approxdate,extended,resolution,country,country_txt,region,region_txt,provstate,city,latitude,longitude,specificity,vicinity,location,summary,crit1,crit2,crit3,doubtterr,alternative,alternative_txt,multiple,success,suicide,attacktype1,attacktype1_txt,attacktype2,attacktype2_txt,attacktype3,attacktype3_txt,targtype1,targtype1_txt,targsubtype1,targsubtype1_txt,corp1,target1,natlty1,natlty1_txt,targtype2,targtype2_txt,targsubtype2,targsubtype2_txt,corp2,target2,natlty2,natlty2_txt,targtype3,targtype3_txt,targsubtype3,targsubtype3_txt,corp3,target3,natlty3,natlty3_txt,gname,gsubname,gname2,gsubname2,gname3,gsubname3,motive,guncertain1,guncertain2,guncertain3,individual,nperps,nperpcap,claimed,claimmode,claimmode_txt,claim2,claimmode2,claimmode2_txt,claim3,claimmode3,claimmode3_txt,compclaim,weaptype1,weaptype1_txt,weapsubtype1,weapsubtype1_txt,weaptype2,weaptype2_txt,weapsubtype2,weapsubtype2_txt,weaptype3,weaptype3_txt,weapsubtype3,weapsubtype3_txt,weaptype4,weaptype4_txt,weapsubtype4,weapsubtype4_txt,weapdetail,nkill,nkillus,nkillter,nwound,nwoundus,nwoundte,property,propextent,propextent_txt,propvalue,propcomment,ishostkid,nhostkid,nhostkidus,nhours,ndays,divert,kidhijcountry,ransom,ransomamt,ransomamtus,ransompaid,ransompaidus,ransomnote,hostkidoutcome,hostkidoutcome_txt,nreleased,addnotes,scite1,scite2,scite3,dbsource,INT_LOG,INT_IDEO,INT_MISC,INT_ANY,related.\n",
        "4. The dataset contain 181691 rows.\n",
        "5. The datatypes of various columns are:-float(55 columns), int(22 columns) and object(58 columns).\n",
        "6. There are no duplicate rows in the dataset.\n",
        "7. Null is present in various varieties as ' ','-','?','-99','NaN'.\n",
        "8. There are no Null values in the  following columns:-eventid,iyear,imonth,iday,extended,country,country_txt,region,region_txt,vicinity,crit1,crit2,crit3,success,suicide,attacktype1,attacktype1_txt,targtype1,targtype1_txt,gname,individual,weaptype1,weaptype1_txt,property,dbsource,INT_LOG,INT_IDEO,INT_MISC,INT_ANY.\n",
        "\n",
        "\n",
        "\n",
        "\n",
        "\n"
      ],
      "metadata": {
        "id": "gfoNAAC-nUe_"
      }
    },
    {
      "cell_type": "markdown",
      "source": [
        "## ***2. Understanding Your Variables***"
      ],
      "metadata": {
        "id": "nA9Y7ga8ng1Z"
      }
    },
    {
      "cell_type": "code",
      "source": [
        "# Dataset Columns\n",
        "col=df.columns\n",
        "col.tolist()"
      ],
      "metadata": {
        "id": "j7xfkqrt5Ag5"
      },
      "execution_count": null,
      "outputs": []
    },
    {
      "cell_type": "code",
      "source": [
        "# Dataset Describe\n",
        "df.describe(include='all')"
      ],
      "metadata": {
        "id": "DnOaZdaE5Q5t"
      },
      "execution_count": null,
      "outputs": []
    },
    {
      "cell_type": "markdown",
      "source": [
        "### Variables Description"
      ],
      "metadata": {
        "id": "PBTbrJXOngz2"
      }
    },
    {
      "cell_type": "markdown",
      "source": [
        "All the variables are broadly classified as continuous and categorical variables.\n",
        "\n",
        "**Continuous variables-**\n",
        "\n",
        "1.   eventid-Unique identifier of each recorded terror incident.\n",
        "2.   approxdate-Approximate date of the incident.\n",
        "3.   resolution-Date of resolution of incident if its extended.\n",
        "4.   latitude-Latitude of terror attack.\n",
        "5.   longitude-Longitude of terror attack.\n",
        "6.   location-Location of terror attack\n",
        "7.   summary-Gist of terror incident from start to resolution\n",
        "8.   corp1-First target corporation\n",
        "9.   target1-First target individual or place\n",
        "10.  corp2-Second target corporation\n",
        "11.  target2-Second target individual or place\n",
        "12.  corp3-Third target corporation\n",
        "13.  target3-Third target individual or place\n",
        "14.  gname-Gang name\n",
        "15.  gsubname-Gang subname\n",
        "16.  gname2-Second gang name\n",
        "17.  gsubname2-Second gang subname\n",
        "18.  gname3-Third gang name\n",
        "19.  gsubname3-Third gang subname\n",
        "20.  motive-Motive of terror attack\n",
        "21.  weapdetail-Details of weapons used in terror strike.\n",
        "22.  propvalue-Value of damaged property in terror attack.\n",
        "23.  propcomment-Details of damages\n",
        "24.  nhours-Hours for which taken as a hostage.\n",
        "25.  ndays-Days for which taken as a hostage.\n",
        "26.  divert-Kidnapped,taken as a hostage diverted to which other place.\n",
        "27.  kidhijcountry-Kidnapped hostages country.\n",
        "28.  ransomamt-Amount demanded as ransom.\n",
        "29.  ransomamtus-Amount demanded as ransom from US.\n",
        "30.  ransompaid-Amount paid as ransom.\n",
        "31.  ransompaidus-Amount paid as ransom by US.\n",
        "32.  ransomnote-Ransomnote details.\n",
        "33.  nreleased-Number of hostages released.\n",
        "34.  addnotes-Additional notes\n",
        "35.  scite1-Text editor 1\n",
        "36.  scite2-Text editor 2\n",
        "37.  scite3-Text editor 3\n",
        "38.  dbsource-Source of the terror database.\n",
        "39.  related-Related incidents eventids.\n",
        "\n",
        "\n",
        "\n",
        "**Categorical variables-**\n",
        "1.  iyear-Event year\n",
        "2.  imonth-Event month\n",
        "3.  iday-Event day\n",
        "4.  extended-If the event extended for more than one day(1-yes 0-no)\n",
        "5.  country-Country code where terror incident occured.\n",
        "6.  country_txt-Country name where terror incident occured.\n",
        "7.  region-Region code where terror incident occured.\n",
        "8.  region_txt-Region name where terror incident occured.\n",
        "9.  provstate-Province/State name where terror incident occured.\n",
        "10.  city-City where terror incident occured.\n",
        "11.  specificity-How specific and not general, has been the provided details.\n",
        "12.  vicinity-If the event occured in the neighbourhood of the location(0-No,1-Yes).\n",
        "13.  crit1-Whether 1st criterion for terror attack was fulfilled.(1-Yes/0-No)\n",
        "14.  crit2-Whether 2nd criterion for terror attack was fulfilled.(1-Yes/0-No)\n",
        "15.  crit3-Whether 3rd criterion for terror attack was fulfilled.(1-Yes/0-No)\n",
        "16.  doubtterr-If its doubted to be a terror attack(1-Yes,0-No)\n",
        "17.  alternative-If doubtterr is 1(terror attack is doubtful), codes for the alternatives(1-Insurgency/guerilla action,2-Other crime type,3-Intra/inter-group conflict,4-Lck of intentionality,5-State actors)\n",
        "18.  alternative_txt-If doubtterr is 1(terror attack is doubtful),the alternatives according to the code.\n",
        "19.  multiple-If multiple events(0-No,1-Yes)\n",
        "20.  success-If event was a success(0-No,1-Yes)\n",
        "21.  suicide-Was it a suicide attack(1-Yes,0-No)\n",
        "22.  attacktype1-Code for first type of attack(1-Assasination,2-Armed assault,3-Bombing/Explosion,4-Hijacking,5-Hostage taking/barricade incident,6-Hostage taking/Kidnapping,7-Facility/Infrastucture attack,8-Unarmed assault,9-Unknown)\n",
        "23.  attacktype1_txt-Text for first attack type corresponding to the code.\n",
        "24.  attacktype2-Code for second type of attack.\n",
        "25.  attacktype2_txt-Text for second attack type corresponding to the code.\n",
        "26.  attacktype3-Code for third type of attack\n",
        "27.  attacktype3_txt-Text for third attack type corresponding to the code.\n",
        "28.  targtype1-Codes for first target\n",
        "29.  targtype1_txt-Text for first target type corresponding to the code.\n",
        "30.  targsubtype1-Codes for first target subtype.\n",
        "31.  targsubtype1_txt-Text for first target subtype corresponding to the code.\n",
        "32.  natlty1-Country code of first target\n",
        "33.  natlty1_txt-Country name of first target\n",
        "34.  targtype2-Codes for second target\n",
        "35.  targtype2_txt-Text for second target type corresponding to the code.\n",
        "36. targsubtype2-Codes for second target subtype.\n",
        "37.  targsubtype2_txt-Text for second target subtype corresponding to the code.\n",
        "38.  natlty2-Country code of second target\n",
        "39.  natlty2_txt-Country name of second target\n",
        "40.  targtype3-Codes for third target\n",
        "41.  targtype3_txt-Text for third target type corresponding to the code.\n",
        "42.  targsubtype3-Codes for third target subtype.\n",
        "43.  targsubtype3_txt-Text for third target subtype corresponding to the code.\n",
        "44.  natlty3-Country code of third target\n",
        "45.  natlty3_txt-Country name of third target\n",
        "46.  guncertain1-(If 1st gun certainly used.1-Yes,0-No)\n",
        "47.  guncertain2-(If 2nd gun certainly used.1-Yes,0-No)\n",
        "48.  guncertain3-(If 3rd gun certainly used.1-Yes,0-No)\n",
        "49.  individual-(If individual involved in attack.1-Yes,0-No)\n",
        "50.  nperps-Number of perpetrators involved in attack.\n",
        "51.  nperpcap-Number of perpetrators wearing a cap\n",
        "52.  claimed-Has anyone claimed the attack(1-Yes,0-No)\n",
        "53.  claimmode-Code for the mode of claiming the attack.\n",
        "54.  claimmode_txt-Attack claimed through what mode corresponding to the code.\n",
        "55.  claim2-Has any second claim been made(1-Yes,0-No)\n",
        "56.  claimmode2-If claim2 is 1.Code for the mode of claiming the attack.\n",
        "57.  claimmode2_txt-If claim2 is 1.Attack claimed through what mode corresponding to the code.\n",
        "58.  claim3-Has any third claim been made(1-Yes,0-No)\n",
        "59.  claimmode3-If claim3 is 1.Code for the mode of claiming the attack.\n",
        "60.  claimmode3_txt-If claim3 is 1.Attack claimed through what mode corresponding to the code.\n",
        "61.  compclaim-Has any competing claim been made(1-Yes,0-No)\n",
        "62.  weaptype1-Code of first weapon type\n",
        "63.  weaptype1_txt-Name of first weapon type corresponding to the code\n",
        "64.  weapsubtype1-Code of first weapon subtype\n",
        "65.  weapsubtype1_txt-Name of first weapon subtype corresponding to the code\n",
        "66.  weaptype2-Code of second weapon type\n",
        "67.  weaptype2_txt-Name of second weapon type corresponding to the code\n",
        "68.  weapsubtype2-Code of second weapon subtype\n",
        "69.  weapsubtype2_txt-Name of second weapon subtype corresponding to the code\n",
        "70.  weaptype3-Code of third weapon type\n",
        "71.  weaptype3_txt-Name of third weapon type corresponding to the code\n",
        "72.  weapsubtype3-Code of third weapon subtype\n",
        "73.  weapsubtype3_txt-Name of third weapon subtype corresponding to the code\n",
        "74.  weaptype4-Code of fourth weapon type\n",
        "75.  weaptype4_txt-Name of fourth weapon type corresponding to the code\n",
        "76.  weapsubtype4-Code of fourth weapon subtype\n",
        "77.  weapsubtype4_txt-Name of fourth weapon subtype corresponding to the code\n",
        "78.  nkill-Numbers killed\n",
        "79.  nkillus-Numbers killed among civilians\n",
        "80.  nkillter-Numbers killed aming terrorists\n",
        "81.  nwound-Numbers wounded\n",
        "82.  nwoundus-Numbers wounded among civilians\n",
        "83.  nwoundte-Numbers wounded among terrorists\n",
        "84.  property-Is property damaged(1-Yes,0-No)\n",
        "85.  propextent-Codes for property damage sustained.\n",
        "86.  propextent_txt-Extent of property damage sustained corresponding to codes.\n",
        "87.  ishostkid-Has kidnapping/taken as hostages occured(1-Yes,0-No)\n",
        "88.  nhostkid-Number of kidnapped persons taken as hostages.\n",
        "89.  nhostkidus-Number of kidnapped persons taken as hostages from US.\n",
        "90.  ransom-Was ransom demanded(1-Yes,0-No)\n",
        "91.  hostkidoutcome-Codes for outcome of kidnapped/taken as hostages\n",
        "92.  hostkidoutcome_txt-Details of hostage outcome corresponding to codes.\n",
        "93.  INT_LOG-(1-Yes,0-No)\n",
        "94.  INT_IDEO-(1-Yes,0-No)\n",
        "95.  INT_MISC-(1-Yes,0-No)\n",
        "96.  INT_ANY-(1-Yes,0-No)\n",
        "\n",
        "\n",
        "\n",
        "\n",
        "\n",
        "\n",
        "\n",
        "\n",
        "\n",
        "\n",
        "\n",
        "\n",
        "\n",
        "\n",
        "\n"
      ],
      "metadata": {
        "id": "aJV4KIxSnxay"
      }
    },
    {
      "cell_type": "markdown",
      "source": [
        "### Check Unique Values for each variable."
      ],
      "metadata": {
        "id": "u3PMJOP6ngxN"
      }
    },
    {
      "cell_type": "code",
      "source": [
        "# Check Unique Values for each variable.\n",
        "for i in col.tolist():\n",
        "    print(f\"The number of unique values in column {i} is {df[i].nunique()}\")"
      ],
      "metadata": {
        "id": "zms12Yq5n-jE"
      },
      "execution_count": null,
      "outputs": []
    },
    {
      "cell_type": "markdown",
      "source": [
        "## 3. ***Data Wrangling***"
      ],
      "metadata": {
        "id": "dauF4eBmngu3"
      }
    },
    {
      "cell_type": "markdown",
      "source": [
        "### Data Wrangling Code"
      ],
      "metadata": {
        "id": "bKJF3rekwFvQ"
      }
    },
    {
      "cell_type": "code",
      "source": [
        "# Write your code to make your dataset analysis ready.\n",
        "# Dropping null values <10% of total number of values in a column\n",
        "subset=['provstate','city','latitude','longitude','specificity','doubtterr','targsubtype1','targsubtype1_txt','target1','natlty1','natlty1_txt','guncertain1','nkill','ishostkid','nwound']\n",
        "dff=df.dropna(subset=subset,axis=0,inplace=False)"
      ],
      "metadata": {
        "id": "wk-9a2fpoLcV"
      },
      "execution_count": null,
      "outputs": []
    },
    {
      "cell_type": "code",
      "source": [
        "#Mean infilled inplace of NaN for these columns and changing datatypes to float.\n",
        "\"\"\"\n",
        "1. propvalue-Value of damaged property in terror attack.\n",
        "2. 𝑛ℎ𝑜𝑢𝑟𝑠−𝐻𝑜𝑢𝑟𝑠𝑓𝑜𝑟𝑤ℎ𝑖𝑐ℎ𝑡𝑎𝑘𝑒𝑛𝑎𝑠𝑎ℎ𝑜𝑠𝑡𝑎𝑔𝑒.\n",
        "3. ndays-Days for which taken as a hostage.\n",
        "4. ransomamt-Amount demanded as ransom.\n",
        "5. ransomamtus-Amount demanded as ransom from US.\n",
        "6. ransompaid-Amount paid as ransom.\n",
        "7. ransompaidus-Amount paid as ransom by US.\n",
        "8. 𝑛𝑟𝑒𝑙𝑒𝑎𝑠𝑒𝑑−𝑁𝑢𝑚𝑏𝑒𝑟𝑜𝑓ℎ𝑜𝑠𝑡𝑎𝑔𝑒𝑠𝑟𝑒𝑙𝑒𝑎𝑠𝑒𝑑.\n",
        "9. 𝑛𝑝𝑒𝑟𝑝𝑠−𝑁𝑢𝑚𝑏𝑒𝑟𝑜𝑓𝑝𝑒𝑟𝑝𝑒𝑡𝑟𝑎𝑡𝑜𝑟𝑠𝑖𝑛𝑣𝑜𝑙𝑣𝑒𝑑𝑖𝑛𝑎𝑡𝑡𝑎𝑐𝑘.\n",
        "10. 𝑛𝑝𝑒𝑟𝑝𝑐𝑎𝑝−𝑁𝑢𝑚𝑏𝑒𝑟𝑜𝑓𝑝𝑒𝑟𝑝𝑒𝑡𝑟𝑎𝑡𝑜𝑟𝑠𝑤𝑒𝑎𝑟𝑖𝑛𝑔𝑎𝑐𝑎𝑝\n",
        "11. 𝑛𝑘𝑖𝑙𝑙−𝑁𝑢𝑚𝑏𝑒𝑟𝑠𝑘𝑖𝑙𝑙𝑒𝑑\n",
        "12. 𝑛𝑘𝑖𝑙𝑙𝑢𝑠−𝑁𝑢𝑚𝑏𝑒𝑟𝑠𝑘𝑖𝑙𝑙𝑒𝑑𝑎𝑚𝑜𝑛𝑔𝑐𝑖𝑣𝑖𝑙𝑖𝑎𝑛𝑠\n",
        "13. 𝑛𝑘𝑖𝑙𝑙𝑡𝑒𝑟−𝑁𝑢𝑚𝑏𝑒𝑟𝑠𝑘𝑖𝑙𝑙𝑒𝑑𝑎𝑚𝑖𝑛𝑔𝑡𝑒𝑟𝑟𝑜𝑟𝑖𝑠𝑡𝑠\n",
        "14. 𝑛𝑤𝑜𝑢𝑛𝑑−𝑁𝑢𝑚𝑏𝑒𝑟𝑠𝑤𝑜𝑢𝑛𝑑𝑒𝑑\n",
        "15. 𝑛𝑤𝑜𝑢𝑛𝑑𝑢𝑠−𝑁𝑢𝑚𝑏𝑒𝑟𝑠𝑤𝑜𝑢𝑛𝑑𝑒𝑑𝑎𝑚𝑜𝑛𝑔𝑐𝑖𝑣𝑖𝑙𝑖𝑎𝑛𝑠\n",
        "16. 𝑛𝑤𝑜𝑢𝑛𝑑𝑡𝑒−𝑁𝑢𝑚𝑏𝑒𝑟𝑠𝑤𝑜𝑢𝑛𝑑𝑒𝑑𝑎𝑚𝑜𝑛𝑔𝑡𝑒𝑟𝑟𝑜𝑟𝑖𝑠𝑡𝑠∗∗\n",
        "17. nhostkid-Number of kidnapped persons taken as hostages.\n",
        "18. nhostkidus-Number of kidnapped persons taken as hostages from US.\n",
        "19. property-Is property damaged(1-Yes,0-No)\n",
        "20. ishostkid-Has kidnapping/taken as hostages occured(1-Yes,0-No)\n",
        "21. ransom-Was ransom demanded(1-Yes,0-No)\n",
        "\"\"\"\n",
        "dff['ransomamt'] = pd.to_numeric(dff['ransomamt'],errors = 'coerce')\n",
        "dff['ransomamtus'] = pd.to_numeric(dff['ransomamtus'],errors = 'coerce')\n",
        "dff['ransompaid'] = pd.to_numeric(dff['ransompaid'],errors = 'coerce')\n",
        "dff['ransompaidus'] = pd.to_numeric(dff['ransompaidus'],errors = 'coerce')\n",
        "\n",
        "mean_ransomamt=dff[dff['ransom']==1]['ransomamt'].astype(float).mean()\n",
        "mean_ransomamtus=dff[dff['ransom']==1]['ransomamtus'].astype(float).mean()\n",
        "mean_ransompaid=dff[dff['ransom']==1]['ransompaid'].astype(float).mean()\n",
        "mean_ransompaidus=dff[dff['ransom']==1]['ransompaidus'].astype(float).mean()\n",
        "dff[dff['ransom']==1]['ransomamt'].fillna(value=mean_ransomamt,inplace=True)\n",
        "dff[dff['ransom']==1]['ransomamtus'].fillna(value=mean_ransomamtus,inplace=True)\n",
        "dff[dff['ransom']==1]['ransompaid'].fillna(value=mean_ransompaid,inplace=True)\n",
        "dff[dff['ransom']==1]['ransompaidus'].fillna(value=mean_ransompaidus,inplace=True)\n",
        "\n",
        "dff['nhours'] = pd.to_numeric(dff['nhours'],errors = 'coerce')\n",
        "dff['ndays'] = pd.to_numeric(dff['ndays'],errors = 'coerce')\n",
        "dff['nreleased'] = pd.to_numeric(dff['nreleased'],errors = 'coerce')\n",
        "dff['nhostkid'] = pd.to_numeric(dff['nhostkid'],errors = 'coerce')\n",
        "dff['nhostkidus'] = pd.to_numeric(dff['nhostkidus'],errors = 'coerce')\n",
        "\n",
        "\n",
        "\n",
        "mean_nhours=dff[dff['ishostkid']==1]['nhours'].astype(float).mean()\n",
        "mean_ndays=dff[dff['ishostkid']==1]['ndays'].astype(float).mean()\n",
        "mean_nreleased=dff[dff['ishostkid']==1]['nreleased'].astype(float).mean()\n",
        "mean_nhostkid=dff[dff['ishostkid']==1]['nhostkid'].astype(float).mean()\n",
        "mean_nhostkidus=dff[dff['ishostkid']==1]['nhostkidus'].astype(float).mean()\n",
        "dff[dff['ishostkid']==1]['nhours'].fillna(value=mean_nhours,inplace=True)\n",
        "dff[dff['ishostkid']==1]['ndays'].fillna(value=mean_ndays,inplace=True)\n",
        "dff[dff['ishostkid']==1]['nreleased'].fillna(value=mean_nreleased,inplace=True)\n",
        "dff[dff['ishostkid']==1]['nhostkid'].fillna(value=mean_nhostkid,inplace=True)\n",
        "dff[dff['ishostkid']==1]['nhostkidus'].fillna(value=mean_nhostkidus,inplace=True)\n",
        "\n",
        "\n",
        "dff['propvalue'] = pd.to_numeric(dff['propvalue'],errors = 'coerce')\n",
        "mean_prop_value=dff[dff['property']==1]['propvalue'].astype(float).mean()\n",
        "dff[dff['property']==1]['propvalue'].fillna(value=mean_prop_value,inplace=True)\n",
        "\n",
        "al=['nkill','nkillus','nkillter','nwound','nwoundus','nwoundte','nperps','nperpcap']\n",
        "for i in al:\n",
        "    dff[i] = pd.to_numeric(dff[i],errors = 'coerce')\n",
        "    dff[i].fillna(value=dff[i].astype(float).mean(),inplace=True)"
      ],
      "metadata": {
        "id": "TdZcyt9y0oXF"
      },
      "execution_count": null,
      "outputs": []
    },
    {
      "cell_type": "code",
      "source": [
        "#Temporal analysis\n",
        "#Finding the no. of terror events per year.\n",
        "dff.groupby('iyear')['eventid'].count()"
      ],
      "metadata": {
        "id": "TIaCKFF_DfTR"
      },
      "execution_count": null,
      "outputs": []
    },
    {
      "cell_type": "code",
      "source": [
        "#Value of property affected per year due to terrer events\n",
        "dff.groupby('iyear')['propvalue'].sum()"
      ],
      "metadata": {
        "id": "kykVVMpN09i6"
      },
      "execution_count": null,
      "outputs": []
    },
    {
      "cell_type": "code",
      "source": [
        "#Numbers killed per year due to terror events\n",
        "dff.groupby('iyear')['nkill'].sum()"
      ],
      "metadata": {
        "id": "fJuGsxIb1DvR"
      },
      "execution_count": null,
      "outputs": []
    },
    {
      "cell_type": "code",
      "source": [
        "\"\"\"\n",
        "Adding new column 'Decade' using .apply() and lambda with the condition as:-\n",
        " '1970s' if 1970<=x<=1979\n",
        " '1980s' if 1980<=x<=1989\n",
        " '1990s' if 1990<=x<=1999\n",
        " '2000s' if 2000<=x<=2009\n",
        " '2010s' if x>=2000\n",
        "\"\"\"\n",
        "dff['Decade']=dff['iyear'].apply(lambda x:'1970s' if 1970<=x<=1979 else '1980s' if 1980<=x<=1989 else '1990s' if 1990<=x<=1999 else '2000s' if 2000<=x<=2009 else '2010s')"
      ],
      "metadata": {
        "id": "el3GxRAZzZOk"
      },
      "execution_count": null,
      "outputs": []
    },
    {
      "cell_type": "code",
      "source": [
        "#Newly added column 'Decade'\n",
        "dff['Decade']"
      ],
      "metadata": {
        "id": "4Hx29XDL1oZv"
      },
      "execution_count": null,
      "outputs": []
    },
    {
      "cell_type": "code",
      "source": [
        "#Decade wise analysis"
      ],
      "metadata": {
        "id": "B1bZ5P2E1527"
      },
      "execution_count": null,
      "outputs": []
    },
    {
      "cell_type": "code",
      "source": [
        "#Events per decade\n",
        "dff.groupby('Decade')['eventid'].count()"
      ],
      "metadata": {
        "id": "S166b_AY2hGG"
      },
      "execution_count": null,
      "outputs": []
    },
    {
      "cell_type": "code",
      "source": [
        "#Value of Property destroyed per decade\n",
        "dff.groupby('Decade')['propvalue'].sum()"
      ],
      "metadata": {
        "id": "WERrIIMa2mab"
      },
      "execution_count": null,
      "outputs": []
    },
    {
      "cell_type": "code",
      "source": [
        "#Numbers killed per decade\n",
        "dff.groupby('Decade')['nkill'].sum()"
      ],
      "metadata": {
        "id": "VUFwvXUP22mA"
      },
      "execution_count": null,
      "outputs": []
    },
    {
      "cell_type": "code",
      "source": [
        "#Numbers wounded per decade\n",
        "dff.groupby('Decade')['nwound'].sum()"
      ],
      "metadata": {
        "id": "q2r0UvRS27vk"
      },
      "execution_count": null,
      "outputs": []
    },
    {
      "cell_type": "code",
      "source": [
        "#Numbers taken as hostage per decade\n",
        "dff.groupby('Decade')['nhostkid'].sum()"
      ],
      "metadata": {
        "id": "aQk2iT7l2-_z"
      },
      "execution_count": null,
      "outputs": []
    },
    {
      "cell_type": "code",
      "source": [
        "#Ransom amount demanded per decade\n",
        "dff.groupby('Decade')['ransomamt'].sum()"
      ],
      "metadata": {
        "id": "oMXeGa9y3Eof"
      },
      "execution_count": null,
      "outputs": []
    },
    {
      "cell_type": "code",
      "source": [
        "#Ransom amount paid per decade\n",
        "dff.groupby('Decade')['ransompaid'].sum()"
      ],
      "metadata": {
        "id": "qeXDp2zN3Jux"
      },
      "execution_count": null,
      "outputs": []
    },
    {
      "cell_type": "code",
      "source": [
        "#Spatial distribution of terror events since 1970s\n",
        "dff.groupby('region_txt')['eventid'].count()"
      ],
      "metadata": {
        "id": "o2XI-uof4Km8"
      },
      "execution_count": null,
      "outputs": []
    },
    {
      "cell_type": "code",
      "source": [
        "# Decadewise spatial distribution of terror events\n",
        "for i in dff['Decade'].unique():\n",
        "    print(f\"Terror events in {i} in {dff[dff['Decade']==i].groupby('region_txt')['eventid'].count()}\",)"
      ],
      "metadata": {
        "id": "Htp9iCBW4O6K"
      },
      "execution_count": null,
      "outputs": []
    },
    {
      "cell_type": "code",
      "source": [
        "# Regionwise temporal distribution of terror events\n",
        "for i in dff['region_txt'].unique():\n",
        "    print(f\"Terror events in {i} in {dff[dff['region_txt']==i].groupby('Decade')['eventid'].count()}\",)"
      ],
      "metadata": {
        "id": "nENNsknf4PJr"
      },
      "execution_count": null,
      "outputs": []
    },
    {
      "cell_type": "code",
      "source": [
        "#Dropping rows for which month and days values is '0'\n",
        "ld=list(dff[dff['imonth']==0].index)\n",
        "lm=list(dff[dff['iday']==0].index)\n",
        "l=list(set(ld+lm))\n",
        "dff.drop(index=l,inplace=True)"
      ],
      "metadata": {
        "id": "-cWU4k6I4PNG"
      },
      "execution_count": null,
      "outputs": []
    },
    {
      "cell_type": "code",
      "source": [
        "#No. of terror events per month\n",
        "dff.groupby('imonth')['eventid'].count()"
      ],
      "metadata": {
        "id": "WYYnfyrr4PQN"
      },
      "execution_count": null,
      "outputs": []
    },
    {
      "cell_type": "code",
      "source": [
        "#No. of terror events date wise\n",
        "dff.groupby('iday')['eventid'].count()"
      ],
      "metadata": {
        "id": "zXX8jiZQyL6s"
      },
      "execution_count": null,
      "outputs": []
    },
    {
      "cell_type": "code",
      "source": [
        "#Alternatives to terror events\n",
        "dff.groupby('alternative_txt')['eventid'].count()"
      ],
      "metadata": {
        "id": "HWATPegv4PS4"
      },
      "execution_count": null,
      "outputs": []
    },
    {
      "cell_type": "code",
      "source": [
        "# Decadewise spatial distribution of alternative events\n",
        "for i in dff['Decade'].unique():\n",
        "    print(f\"Alternative to terror events in {i} is {dff[dff['Decade']==i].groupby('alternative_txt')['eventid'].count()}\",)"
      ],
      "metadata": {
        "id": "xEobNZCI4PVp"
      },
      "execution_count": null,
      "outputs": []
    },
    {
      "cell_type": "code",
      "source": [
        "#Grouping terror attcks by attack types\n",
        "dff.groupby('attacktype1_txt')['eventid'].count()"
      ],
      "metadata": {
        "id": "s0_MG9634PZH"
      },
      "execution_count": null,
      "outputs": []
    },
    {
      "cell_type": "code",
      "source": [],
      "metadata": {
        "id": "jebLZU58D4s5"
      },
      "execution_count": null,
      "outputs": []
    },
    {
      "cell_type": "code",
      "source": [
        "dff.groupby('attacktype2_txt')['eventid'].count()"
      ],
      "metadata": {
        "id": "8H1zOYOw8NVu"
      },
      "execution_count": null,
      "outputs": []
    },
    {
      "cell_type": "code",
      "source": [
        "#Grouping terror attcks by targets.Who were at maximum hit list of terrorists.\n",
        "dff.groupby('targtype1_txt')['eventid'].count()"
      ],
      "metadata": {
        "id": "Kd_xlo0x8ObD"
      },
      "execution_count": null,
      "outputs": []
    },
    {
      "cell_type": "code",
      "source": [
        "dff.groupby('targtype2_txt')['eventid'].count()"
      ],
      "metadata": {
        "id": "TXHWA97b8Vqp"
      },
      "execution_count": null,
      "outputs": []
    },
    {
      "cell_type": "code",
      "source": [
        "dff.groupby('targtype3_txt')['eventid'].count()"
      ],
      "metadata": {
        "id": "E7rQgoOs8eBW"
      },
      "execution_count": null,
      "outputs": []
    },
    {
      "cell_type": "code",
      "source": [
        "#Analysing effect on logistics and supply chain\n",
        "Tgrt=['Airports & Aircraft','Maritime','Transportation']"
      ],
      "metadata": {
        "id": "T9yNlhw08VzC"
      },
      "execution_count": null,
      "outputs": []
    },
    {
      "cell_type": "code",
      "source": [
        "#Details of terror attack with targets as Trgt\n",
        "#1.Spatial\n",
        "#2.Temporal\n",
        "#3.Tgrtsubdetail"
      ],
      "metadata": {
        "id": "aVlPI5Jk8V-n"
      },
      "execution_count": null,
      "outputs": []
    },
    {
      "cell_type": "code",
      "source": [
        "    dff[dff['targtype1_txt']=='Airports & Aircraft'][['iyear','country_txt','city','targsubtype1_txt','target1']]"
      ],
      "metadata": {
        "id": "-Fsi0qEe97Gz"
      },
      "execution_count": null,
      "outputs": []
    },
    {
      "cell_type": "code",
      "source": [
        "    dff[dff['targtype2_txt']=='Airports & Aircraft'][['iyear','country_txt','city','targsubtype2_txt','target2']]"
      ],
      "metadata": {
        "id": "-XCEYSby-GfA"
      },
      "execution_count": null,
      "outputs": []
    },
    {
      "cell_type": "code",
      "source": [
        "    dff[dff['targtype3_txt']=='Airports & Aircraft'][['iyear','country_txt','city','targsubtype3_txt','target3']]"
      ],
      "metadata": {
        "id": "aN4mFFoi97U0"
      },
      "execution_count": null,
      "outputs": []
    },
    {
      "cell_type": "code",
      "source": [
        "    dff[dff['targtype1_txt']=='Maritime'][['iyear','country_txt','city','targsubtype1_txt','target1']]"
      ],
      "metadata": {
        "id": "orgGat1f-QAM"
      },
      "execution_count": null,
      "outputs": []
    },
    {
      "cell_type": "code",
      "source": [
        "    dff[dff['targtype2_txt']=='Maritime'][['iyear','country_txt','city','targsubtype2_txt','target2']]"
      ],
      "metadata": {
        "id": "3qRj2-q3-TQS"
      },
      "execution_count": null,
      "outputs": []
    },
    {
      "cell_type": "code",
      "source": [
        "    dff[dff['targtype3_txt']=='Maritime'][['iyear','country_txt','city','targsubtype3_txt','target3']]"
      ],
      "metadata": {
        "id": "bYYeycsF-QQe"
      },
      "execution_count": null,
      "outputs": []
    },
    {
      "cell_type": "code",
      "source": [
        "    dff[dff['targtype1_txt']=='Transportation'][['iyear','country_txt','city','targsubtype1_txt','target1']]"
      ],
      "metadata": {
        "id": "kMXUO1mc-QTk"
      },
      "execution_count": null,
      "outputs": []
    },
    {
      "cell_type": "code",
      "source": [
        "    dff[dff['targtype2_txt']=='Transporation'][['iyear','country_txt','city','targsubtype2_txt','target2']]"
      ],
      "metadata": {
        "id": "XTR0nXUn-QXA"
      },
      "execution_count": null,
      "outputs": []
    },
    {
      "cell_type": "code",
      "source": [
        "    dff[dff['targtype3_txt']=='Transportation'][['iyear','country_txt','city','targsubtype3_txt','target3']]"
      ],
      "metadata": {
        "id": "cgF-JfMY8WBq"
      },
      "execution_count": null,
      "outputs": []
    },
    {
      "cell_type": "code",
      "source": [
        "#JOURNALISTS AS TARGET OF TERROR ATTACKS\n",
        "dff[dff['targtype1_txt']=='Journalists & Media'][['iyear','country_txt','city','targsubtype1_txt','target1']]"
      ],
      "metadata": {
        "id": "ugOwTqdi8WE9"
      },
      "execution_count": null,
      "outputs": []
    },
    {
      "cell_type": "code",
      "source": [
        "  dff[dff['targtype2_txt']=='Journalists & Media'][['iyear','country_txt','city','targsubtype2_txt','target2']]"
      ],
      "metadata": {
        "id": "SL4j-4Ot-nbT"
      },
      "execution_count": null,
      "outputs": []
    },
    {
      "cell_type": "code",
      "source": [
        "  dff[dff['targtype3_txt']=='Journalists & Media'][['iyear','country_txt','city','targsubtype3_txt','target3']]"
      ],
      "metadata": {
        "id": "gOhCnbax-n2y"
      },
      "execution_count": null,
      "outputs": []
    },
    {
      "cell_type": "code",
      "source": [
        "#Tourists as target"
      ],
      "metadata": {
        "id": "PrLh5fx8-yJI"
      },
      "execution_count": null,
      "outputs": []
    },
    {
      "cell_type": "code",
      "source": [
        " dff[dff['targtype1_txt']=='Tourists'][['iyear','country_txt','city','targsubtype1_txt','target1']]"
      ],
      "metadata": {
        "id": "neasaM-W-z8r"
      },
      "execution_count": null,
      "outputs": []
    },
    {
      "cell_type": "code",
      "source": [
        " dff[dff['targtype2_txt']=='Tourists'][['iyear','country_txt','city','targsubtype2_txt','target2']]"
      ],
      "metadata": {
        "id": "DW6RI58a-3Jn"
      },
      "execution_count": null,
      "outputs": []
    },
    {
      "cell_type": "code",
      "source": [
        " dff[dff['targtype3_txt']=='Tourists'][['iyear','country_txt','city','targsubtype3_txt','target3']]"
      ],
      "metadata": {
        "id": "ZQ73wjzh-3SI"
      },
      "execution_count": null,
      "outputs": []
    },
    {
      "cell_type": "code",
      "source": [
        "#Communalistic terror"
      ],
      "metadata": {
        "id": "3pIf_Au7-3VN"
      },
      "execution_count": null,
      "outputs": []
    },
    {
      "cell_type": "code",
      "source": [
        "dff[dff['targtype1_txt']=='Religious Figures/Institutions'][['iyear','country_txt','city','targsubtype1_txt','target1']]"
      ],
      "metadata": {
        "id": "dwla9pVz-3X7"
      },
      "execution_count": null,
      "outputs": []
    },
    {
      "cell_type": "code",
      "source": [
        " dff[dff['targtype2_txt']=='Religious Figures/Institutions'][['iyear','country_txt','city','targsubtype2_txt','target2']]"
      ],
      "metadata": {
        "id": "p07rbLxN_Jy0"
      },
      "execution_count": null,
      "outputs": []
    },
    {
      "cell_type": "code",
      "source": [
        " dff[dff['targtype3_txt']=='Religious Figures/Institutions'][['iyear','country_txt','city','targsubtype3_txt','target3']]\n"
      ],
      "metadata": {
        "id": "PNv0N2G4_J57"
      },
      "execution_count": null,
      "outputs": []
    },
    {
      "cell_type": "code",
      "source": [
        "#Identifying the gangs active regionwise and ranking them based on no. of events involved and killings so as to sanction under UN regeulation"
      ],
      "metadata": {
        "id": "VwoSA4I-_RnN"
      },
      "execution_count": null,
      "outputs": []
    },
    {
      "cell_type": "code",
      "source": [
        "dff_g=dff[['region_txt','gname','gname2','gname3','nkill']]"
      ],
      "metadata": {
        "id": "qhPwmucV_Tx0"
      },
      "execution_count": null,
      "outputs": []
    },
    {
      "cell_type": "code",
      "source": [
        "for i in dff['region_txt'].unique():\n",
        "        print(f\"Gangs involved in terror activities in {i} are {dff[dff['region_txt']==i]['gname'].unique()}\",    )\n",
        "        print(\"\")"
      ],
      "metadata": {
        "id": "HvjdSyIm_T1S"
      },
      "execution_count": null,
      "outputs": []
    },
    {
      "cell_type": "code",
      "source": [
        "kl=dff.groupby('gname')['nkill'].sum()\n",
        "kl['Zetas']"
      ],
      "metadata": {
        "id": "NUK659G9_J_f"
      },
      "execution_count": null,
      "outputs": []
    },
    {
      "cell_type": "code",
      "source": [
        "#Categorising gangs as Severe(S),Dangerous(D) and High(H) based on killings and no. of regions of operation.\n",
        "\"\"\"\n",
        "Severe if nkill>1000 or regions>6\n",
        "Danger if nkill>1000 or regions>2-6\n",
        "Threat if nkill<100  or regions<2\n",
        "\n",
        "\"\"\""
      ],
      "metadata": {
        "id": "vLx6Lh-n_KCl"
      },
      "execution_count": null,
      "outputs": []
    },
    {
      "cell_type": "code",
      "source": [
        "reg=dff.groupby('gname')['region'].nunique()"
      ],
      "metadata": {
        "id": "EYWRERaB_kFK"
      },
      "execution_count": null,
      "outputs": []
    },
    {
      "cell_type": "code",
      "source": [
        "def gang_rating(g):\n",
        "            if (kl[g]>1000) or (reg[g]>6):\n",
        "                return 'Severe'\n",
        "            elif(100<=kl[g]<1000) or (2<reg[g]<=6):\n",
        "                return 'Danger'\n",
        "            else:\n",
        "                return 'Threat'"
      ],
      "metadata": {
        "id": "tPZeeykm_kNF"
      },
      "execution_count": null,
      "outputs": []
    },
    {
      "cell_type": "code",
      "source": [
        "dff['Gang Category']=dff['gname'].apply(gang_rating)"
      ],
      "metadata": {
        "id": "b76dPTTG_kP4"
      },
      "execution_count": null,
      "outputs": []
    },
    {
      "cell_type": "code",
      "source": [
        "dff['Gang Category']"
      ],
      "metadata": {
        "id": "kRfBZdFS_1gp"
      },
      "execution_count": null,
      "outputs": []
    },
    {
      "cell_type": "code",
      "source": [
        "#Most used claim mode by region and decade\n",
        "#Correlating claims mode with killings and property damage"
      ],
      "metadata": {
        "id": "3Xmv8qN-_1pT"
      },
      "execution_count": null,
      "outputs": []
    },
    {
      "cell_type": "code",
      "source": [
        "dff[['isclaimmade','claimmode_txt','nkill','propextent_txt']]"
      ],
      "metadata": {
        "id": "9xXvcMtJ2jXI"
      },
      "execution_count": null,
      "outputs": []
    },
    {
      "cell_type": "code",
      "source": [
        "dff[dff['Decade']=='1970s'].groupby('claimmode_txt')['eventid'].count()"
      ],
      "metadata": {
        "id": "z_caNlxl_1sq"
      },
      "execution_count": null,
      "outputs": []
    },
    {
      "cell_type": "code",
      "source": [
        "dff[dff['Decade']=='1980s'].groupby('claimmode_txt')['eventid'].count()"
      ],
      "metadata": {
        "id": "XVzUB0bKAKI2"
      },
      "execution_count": null,
      "outputs": []
    },
    {
      "cell_type": "code",
      "source": [
        "dff[dff['Decade']=='1990s'].groupby('claimmode_txt')['eventid'].count()"
      ],
      "metadata": {
        "id": "LPY3vXFUAKN9"
      },
      "execution_count": null,
      "outputs": []
    },
    {
      "cell_type": "code",
      "source": [
        "dff[dff['Decade']=='2000s'].groupby('claimmode_txt')['eventid'].count()"
      ],
      "metadata": {
        "id": "wqA54-LVAKRA"
      },
      "execution_count": null,
      "outputs": []
    },
    {
      "cell_type": "code",
      "source": [
        "dff[dff['Decade']=='2010s'].groupby('claimmode_txt')['eventid'].count()"
      ],
      "metadata": {
        "id": "iok_uyPaAKT9"
      },
      "execution_count": null,
      "outputs": []
    },
    {
      "cell_type": "code",
      "source": [
        "#Property damage analysis.Which areas more property damage."
      ],
      "metadata": {
        "id": "uUIrL5DdAWge"
      },
      "execution_count": null,
      "outputs": []
    },
    {
      "cell_type": "code",
      "source": [
        "dff['propextent_txt'].value_counts()"
      ],
      "metadata": {
        "id": "yQDt5o_AAWjq"
      },
      "execution_count": null,
      "outputs": []
    },
    {
      "cell_type": "code",
      "source": [
        "dff[dff['propextent_txt']=='Catastrophic (likely >= $1 billion)'][['country_txt','city']].value_counts()"
      ],
      "metadata": {
        "id": "0TEOgO1_AWm7"
      },
      "execution_count": null,
      "outputs": []
    },
    {
      "cell_type": "code",
      "source": [
        "dff[dff['propextent_txt']=='Major (likely >= $1 million but < $1 billion)'][['country_txt','city']].value_counts()"
      ],
      "metadata": {
        "id": "AHus9QxPAWpy"
      },
      "execution_count": null,
      "outputs": []
    },
    {
      "cell_type": "code",
      "source": [
        "dff[dff['propextent_txt']=='Minor (likely < $1 million)'][['country_txt','city']].value_counts()"
      ],
      "metadata": {
        "id": "jM7My8ukAglK"
      },
      "execution_count": null,
      "outputs": []
    },
    {
      "cell_type": "code",
      "source": [
        "#Weapon analysis"
      ],
      "metadata": {
        "id": "GxkdzNuTAgwg"
      },
      "execution_count": null,
      "outputs": []
    },
    {
      "cell_type": "code",
      "source": [
        "#All weapons used in various terror attacks\n",
        "dff['weaptype1_txt'].value_counts()"
      ],
      "metadata": {
        "id": "Y-xvK4CTAgzi"
      },
      "execution_count": null,
      "outputs": []
    },
    {
      "cell_type": "code",
      "source": [
        "#Weapons used grouped by terror groups.\n",
        "dff.groupby('gname')['weaptype1_txt'].unique()"
      ],
      "metadata": {
        "id": "CTzoNML84_xT"
      },
      "execution_count": null,
      "outputs": []
    },
    {
      "cell_type": "code",
      "source": [
        "#What are the types of explosives.\n",
        "dff[dff['weaptype1_txt']=='Explosives']['weapsubtype1_txt'].unique()"
      ],
      "metadata": {
        "id": "loYg35wVAg2i"
      },
      "execution_count": null,
      "outputs": []
    },
    {
      "cell_type": "code",
      "source": [
        "#What are the types of firearms.\n",
        "dff[dff['weaptype1_txt']=='Firearms']['weapsubtype1_txt'].unique()"
      ],
      "metadata": {
        "id": "FOeB7qobAg5S"
      },
      "execution_count": null,
      "outputs": []
    },
    {
      "cell_type": "code",
      "source": [
        "#Diff types of incendiary\n",
        "dff[dff['weaptype1_txt']=='Incendiary']['weapsubtype1_txt'].unique()"
      ],
      "metadata": {
        "id": "wyhe-LnkAg8d"
      },
      "execution_count": null,
      "outputs": []
    },
    {
      "cell_type": "code",
      "source": [
        "dff[dff['weaptype1_txt']=='Melee']['weapsubtype1_txt'].unique()"
      ],
      "metadata": {
        "id": "2WXaLPWg_kTD"
      },
      "execution_count": null,
      "outputs": []
    },
    {
      "cell_type": "code",
      "source": [
        "dff[dff['weaptype1_txt']=='Chemical']['weapsubtype1_txt'].unique()"
      ],
      "metadata": {
        "id": "_vOUktMwA5sA"
      },
      "execution_count": null,
      "outputs": []
    },
    {
      "cell_type": "code",
      "source": [
        "dff[dff['weaptype1_txt']=='Chemical']['weapsubtype1_txt'].unique()"
      ],
      "metadata": {
        "id": "jg74e36zA5zK"
      },
      "execution_count": null,
      "outputs": []
    },
    {
      "cell_type": "code",
      "source": [
        "#Analysing kidnappings decade wise"
      ],
      "metadata": {
        "id": "yB4S1NpIA51z"
      },
      "execution_count": null,
      "outputs": []
    },
    {
      "cell_type": "code",
      "source": [
        "dff[['Decade','nhostkid']].groupby('Decade').sum()"
      ],
      "metadata": {
        "id": "CDkJwYlPBTqU"
      },
      "execution_count": null,
      "outputs": []
    },
    {
      "cell_type": "code",
      "source": [
        "dff['hostkidoutcome_txt'].value_counts()"
      ],
      "metadata": {
        "id": "-KqNOJ8aBWWr"
      },
      "execution_count": null,
      "outputs": []
    },
    {
      "cell_type": "code",
      "source": [
        "dff[dff['hostkidoutcome_txt']=='Successful Rescue']['country_txt'].value_counts()"
      ],
      "metadata": {
        "id": "d-vAhhSPBWaX"
      },
      "execution_count": null,
      "outputs": []
    },
    {
      "cell_type": "code",
      "source": [
        "#INDIA Specific\n",
        "df_india=dff[dff['country_txt']=='India']"
      ],
      "metadata": {
        "id": "mtvVW3bTBWdQ"
      },
      "execution_count": null,
      "outputs": []
    },
    {
      "cell_type": "code",
      "source": [
        "#Temporal trend in India\n",
        "df_india.groupby('Decade')['eventid'].count()"
      ],
      "metadata": {
        "id": "GoixfMXIBWgo"
      },
      "execution_count": null,
      "outputs": []
    },
    {
      "cell_type": "code",
      "source": [
        "#Spatial trend in India\n",
        "df_india.groupby('provstate')['eventid'].count()"
      ],
      "metadata": {
        "id": "2pt5O6orBWjs"
      },
      "execution_count": null,
      "outputs": []
    },
    {
      "cell_type": "code",
      "source": [
        "#Alternative to terror events\n",
        "df_india.groupby('alternative_txt')['eventid'].count()"
      ],
      "metadata": {
        "id": "JD6oKLfBA55V"
      },
      "execution_count": null,
      "outputs": []
    },
    {
      "cell_type": "code",
      "source": [
        "#Hijacking events in India\n",
        "df_india[df_india['attacktype1_txt']=='Hijacking'][['iyear','targtype1_txt','corp1','gname','weapdetail','divert','kidhijcountry','nhostkid','hostkidoutcome_txt']]"
      ],
      "metadata": {
        "id": "UIEP5NblB0_r"
      },
      "execution_count": null,
      "outputs": []
    },
    {
      "cell_type": "code",
      "source": [
        "#Various foreign target types in India details of attack\n",
        "df_india[(df_india['natlty1_txt']!='India')][['targsubtype1_txt','corp1','natlty1_txt','gname','attacktype1_txt','weapdetail','city']]"
      ],
      "metadata": {
        "id": "10cj8fkAB1Cw"
      },
      "execution_count": null,
      "outputs": []
    },
    {
      "cell_type": "code",
      "source": [
        "df_india[df_india['attacktype2_txt']=='Hijacking'][['iyear','targtype1_txt','corp1','gname','weapdetail','divert','kidhijcountry','nhostkid','hostkidoutcome_txt']]"
      ],
      "metadata": {
        "id": "QnQ_Ix-zB1Fr"
      },
      "execution_count": null,
      "outputs": []
    },
    {
      "cell_type": "code",
      "source": [
        "#Assasination events in India\n",
        "df_india[df_india['attacktype1_txt']=='Assassination'][['iyear','targtype1_txt','target1','gname','weapdetail']]"
      ],
      "metadata": {
        "id": "M9wSput-B1Kp"
      },
      "execution_count": null,
      "outputs": []
    },
    {
      "cell_type": "code",
      "source": [
        "#which are top gangs in India by involvement\n",
        "df_india['gname'].value_counts()"
      ],
      "metadata": {
        "id": "62ty4EjoB1Nq"
      },
      "execution_count": null,
      "outputs": []
    },
    {
      "cell_type": "code",
      "source": [
        "#Most dangerous gangs by no. of killings\n",
        "gr=df_india.groupby('gname')['nkill'].sum()\n",
        "gr.sort_values(ascending=False)"
      ],
      "metadata": {
        "id": "1m2bxGzACSTx"
      },
      "execution_count": null,
      "outputs": []
    },
    {
      "cell_type": "code",
      "source": [],
      "metadata": {
        "id": "YjCW9mzCB1QZ"
      },
      "execution_count": null,
      "outputs": []
    },
    {
      "cell_type": "markdown",
      "source": [
        "### What all manipulations have you done and insights you found?"
      ],
      "metadata": {
        "id": "MSa1f5Uengrz"
      }
    },
    {
      "cell_type": "markdown",
      "source": [
        "I have done the following manipulations:-\n",
        "1. Dropping null values where no. of null values in a column is <10% of total number of values in a column.\n",
        "2. Mean infilled in place of null for few columns and changing the datatypes to float.\n",
        "3. Next, i undertake temporal analysis of terror events-finding trends in no. of terror events,no. of killings and destruction per year.To make analysis more precise, a new column 'Decade' is added to find trends decade wise.\n",
        "4. Next, i undertake spatial analysis of terror events.\n",
        "5.Thereafter combining temporal and spatial aspects, we get regionwise decadal occurence and decade wise regional occurence of terror events.\n",
        "6. Terror events are grouped monthwise and datewise to inspect for some trends.\n",
        "7. Next,we try to decode the alternatives to terror attacks,the hit list of terrorists and the modusoperandi of terror attacks committed.\n",
        "8. Thereafter, we try to find out the impact of terror activities on global supplychain and logistics industry by finding more insights for events targetting transportation,shipping and airways.\n",
        "9. After it, we analyse attacks targetting journalists,tourists and religious places.This is important as journalists often face the burnt of terrorism during professional duties.Tourist industry is deeply affected by terror and religion as a target give hint about communal sentiments as a driver of terrorism.\n",
        "10. Next,we try to identify the gangs active regionwise and categorising gangs as Severe(S),Dangerous(D) and High(H) based on killings and no. of regions of operation so as to sanction them under UN regeulation UNSC1267.\n",
        "11. Then,we use infirmation about claims to find if claimmade and mode of claim correlate with killings and how technology is being used by terror groups as dominant mode of claim changes with decade.\n",
        "12. We also do property damage analysis to find out which areas suffer most damages.It combined with other data like for disaster damage provide insights about regions needing more investments in housing and infrastructure.\n",
        "13. Next.we analyse different types of weapons used by terror groups.It give hint of financial muscle of terror groups.Also we look at types of explosives,incendiary,ammunition etc used in terror events.It may help to better target efforts to ban rawmaterials used to manufacture them.\n",
        "14. Next we analyse the trends of kidnappings and their outcomes.We also try to find counties most successful in getting the hostages released.They would help understand and share bestpractices to tackle such events in future.\n",
        "15.At last we analyse india specific terror events findings.\n",
        "\n",
        "INSIGHTS found:-\n",
        "1.\n"
      ],
      "metadata": {
        "id": "LbyXE7I1olp8"
      }
    },
    {
      "cell_type": "markdown",
      "source": [
        "## ***4. Data Vizualization, Storytelling & Experimenting with charts : Understand the relationships between variables***"
      ],
      "metadata": {
        "id": "GF8Ens_Soomf"
      }
    },
    {
      "cell_type": "markdown",
      "source": [
        "#### Chart - 1"
      ],
      "metadata": {
        "id": "0wOQAZs5pc--"
      }
    },
    {
      "cell_type": "code",
      "source": [
        "# Chart - 1 visualization code\n",
        "#Temporal trends of terror events\n",
        "fig, axs = plt.subplots(2, 2)\n",
        "plt.subplots_adjust(wspace=0.4, hspace=0.4)\n",
        "fig.set_size_inches(10, 10)\n",
        "plt.subplot(2,2,1)\n",
        "sns.countplot(data=dff,x='iyear')\n",
        "plt.title(\"Terror event count year wise\")\n",
        "plt.xlabel('Year')\n",
        "plt.subplot(2,2,2)\n",
        "sns.lineplot(data=dff,x='iyear',y='Casualty')\n",
        "plt.ylabel('Casualties(in thousands)')\n",
        "plt.xlabel('Year')\n",
        "plt.title(\"Year wise trend in terror killings\")\n",
        "plt.subplot(2,2,3)\n",
        "sns.countplot(data=dff,x='Decade')\n",
        "plt.title(\"Terror event count decade wise\")\n",
        "plt.subplot(2,2,4)\n",
        "sns.countplot(data=dff,x='imonth')\n",
        "plt.xlabel('Month')\n",
        "plt.title(\"Terror events count per month\")"
      ],
      "metadata": {
        "id": "7v_ESjsspbW7"
      },
      "execution_count": null,
      "outputs": []
    },
    {
      "cell_type": "markdown",
      "source": [
        "##### 1. Why did you pick the specific chart?"
      ],
      "metadata": {
        "id": "K5QZ13OEpz2H"
      }
    },
    {
      "cell_type": "markdown",
      "source": [
        "Various temporal trends are to be probed.Variables considered are-Number of terror events and Number of casualties.\n",
        "We have to plot their number of occurences,hence countplot is used for yearwise trends,decade wise trends and month wise trends in number of terror events.\n",
        "Lineplot is used to plot casualties against years.\n",
        "All four plots need to be spaced carefully, hence subplots are used."
      ],
      "metadata": {
        "id": "cOnw6wQsdGhs"
      }
    },
    {
      "cell_type": "markdown",
      "source": [
        "##### 2. What is/are the insight(s) found from the chart?"
      ],
      "metadata": {
        "id": "lQ7QKXXCp7Bj"
      }
    },
    {
      "cell_type": "markdown",
      "source": [
        "1. Terror events have increased in recent years.2014 recorded the highest number of terror events nearing 14000.\n",
        "2. The decade of 2010-2017 experienced highest number of terror events in last five decades with count exceeding 70000.It is disproportionately more than in last 4 decades when terror events were under 30000.\n",
        "3. Terror events have been distributed almost equally through all months of the year.However most terror events have occured in months of May,followed by in July.\n",
        "4.  Terrorism related casualties(fatalities+wounding) have decresed since 2007, but still hovers above 5000 a year,which is worrisome."
      ],
      "metadata": {
        "id": "C_j1G7yiqdRP"
      }
    },
    {
      "cell_type": "markdown",
      "source": [
        "##### 3. Will the gained insights help creating a positive business impact?\n",
        "Are there any insights that lead to negative growth? Justify with specific reason."
      ],
      "metadata": {
        "id": "448CDAPjqfQr"
      }
    },
    {
      "cell_type": "markdown",
      "source": [
        "1. Increasing terror events create negative sentiments for most businesses to operate,hence increasing terror events may lead to negative growth.\n",
        "2. To tackle rising terrorism incidents warrants alert and armed police and security mechanism, it would create avenues for businesses related to anti-terror arms,warfare and equipments to boom."
      ],
      "metadata": {
        "id": "3cspy4FjqxJW"
      }
    },
    {
      "cell_type": "markdown",
      "source": [
        "#### Chart - 2"
      ],
      "metadata": {
        "id": "KSlN3yHqYklG"
      }
    },
    {
      "cell_type": "code",
      "source": [
        "# Chart - 2 visualization code\n",
        "#Spatial distribution of terror events\n",
        "sns.countplot(data=dff,y='region_txt')\n",
        "plt.ylabel('Region')\n",
        "plt.title(\"Terror events count for every region\",fontsize=10)\n",
        "plt.show()\n",
        "fig, axs = plt.subplots()\n",
        "fig.set_size_inches(15,50)\n",
        "sns.countplot(data=dff,y='country_txt')\n",
        "plt.ylabel('Country')\n",
        "plt.title(\"Terror events count for every country\",fontsize=20)\n",
        "plt.show()"
      ],
      "metadata": {
        "id": "R4YgtaqtYklH"
      },
      "execution_count": null,
      "outputs": []
    },
    {
      "cell_type": "markdown",
      "source": [
        "##### 1. Why did you pick the specific chart?"
      ],
      "metadata": {
        "id": "t6dVpIINYklI"
      }
    },
    {
      "cell_type": "markdown",
      "source": [
        "We pick countplot, with y representing various regions, to depict the total number of terror events which have occured in various regions of the world since 1970.Its visually appealing too.\n",
        "For countries comparison, we use histplot since we have to compare the countries based on the no. of terror events which happened there.It brings an element of diversity in presentation.\n"
      ],
      "metadata": {
        "id": "5aaW0BYyYklI"
      }
    },
    {
      "cell_type": "markdown",
      "source": [
        "##### 2. What is/are the insight(s) found from the chart?"
      ],
      "metadata": {
        "id": "ijmpgYnKYklI"
      }
    },
    {
      "cell_type": "markdown",
      "source": [
        "1. Middle East & North Africa has experienced most terror events amongst all regions  of the world with count exceeding 40000.\n",
        "2. South Asia closely follows Middle East & North Africa with count reaching 40000.Its alarming as it the most populous region of the world.\n",
        "3. Amongst developed world,Western Europe has suffered most number of terror related incidents.\n",
        "4. Iraq is the country with most terror related incidents.\n",
        "5. Other countries which have bore the maximum brunt of terror events(>10000 events) are Pakistan,Afghanistan and India."
      ],
      "metadata": {
        "id": "PSx9atu2YklI"
      }
    },
    {
      "cell_type": "markdown",
      "source": [
        "##### 3. Will the gained insights help creating a positive business impact?\n",
        "Are there any insights that lead to negative growth? Justify with specific reason."
      ],
      "metadata": {
        "id": "-JiQyfWJYklI"
      }
    },
    {
      "cell_type": "markdown",
      "source": [
        "1. Middle East & North Africa is a dangerous region for businesses to operate.Its particularly worrisome as region houses pertorefining and transportation firms(major shipping lanes in the region).\n",
        "2. Also the region has scope for solar energy,which calls for necessary measures to be deployed by companies in the sector operating in the region.\n",
        "3. The regions ultra rich focus on construction activity,demands that adequate security measures be deployed by companies in the sector operating in the region.\n",
        "4. South Asia is a consumer and labour surplus region, thus its receiving momre investment as a result of global supply chain restructuring after Covid.Its important that companies take sufficient precautionary measures considering terror event history of the region.  "
      ],
      "metadata": {
        "id": "BcBbebzrYklV"
      }
    },
    {
      "cell_type": "markdown",
      "source": [
        "#### Chart - 3"
      ],
      "metadata": {
        "id": "EM7whBJCYoAo"
      }
    },
    {
      "cell_type": "code",
      "source": [
        "# Chart - 3 visualization code\n",
        "#Combining spatial and temporal aspects in terror events occurence\n",
        "fig, axs = plt.subplots()\n",
        "plt.subplots_adjust(wspace=0.4, hspace=0.4)\n",
        "fig.set_size_inches(25,5)\n",
        "sns.countplot(data=dff,x='region_txt',hue='Decade')\n",
        "plt.xlabel('Region',fontsize=15)\n",
        "plt.title(\"Terror events count for every region\",fontsize=15)\n",
        "plt.show()\n",
        "fig, axs = plt.subplots()\n",
        "plt.subplots_adjust(wspace=0.4, hspace=0.4)\n",
        "fig.set_size_inches(25,5)\n",
        "sns.countplot(data=dff,x='Decade',hue='region_txt')\n",
        "plt.xlabel('Decade',fontsize=15)\n",
        "plt.title(\"Terror events count decadewise\",fontsize=15)\n",
        "plt.show()"
      ],
      "metadata": {
        "id": "t6GMdE67YoAp"
      },
      "execution_count": null,
      "outputs": []
    },
    {
      "cell_type": "markdown",
      "source": [
        "##### 1. Why did you pick the specific chart?"
      ],
      "metadata": {
        "id": "fge-S5ZAYoAp"
      }
    },
    {
      "cell_type": "markdown",
      "source": [
        "Count plots are used to plot trends of number of terror events in every region with decade.It is most covenient and easily unerstandable in the situation.\n"
      ],
      "metadata": {
        "id": "5dBItgRVYoAp"
      }
    },
    {
      "cell_type": "markdown",
      "source": [
        "##### 2. What is/are the insight(s) found from the chart?"
      ],
      "metadata": {
        "id": "85gYPyotYoAp"
      }
    },
    {
      "cell_type": "markdown",
      "source": [
        "1. Middle East & North Africa, South Asia, East Europe and SE Asia has witnessed consistent increase on terror events over the past five decades.\n",
        "2. Sub Saharan Africa, South Asia and Middle East & North Africa has witnessed considerable increase in terror events compared to last decade.\n",
        "3. The remaining regions have witnessed a reduction in terror activities compared to previous decades.\n",
        "4. The following regions dominated in terror events in the following decades:-\n",
        "  1970s-Western Europe,\n",
        "  1980s-South America,\n",
        "  1990s-S.America,S Asia,Middle East and North Africa,\n",
        "  2000s-S Asia,Middle East and North Africa,\n",
        "  2010s-S Asia,Middle East and North Africa"
      ],
      "metadata": {
        "id": "4jstXR6OYoAp"
      }
    },
    {
      "cell_type": "markdown",
      "source": [
        "##### 3. Will the gained insights help creating a positive business impact?\n",
        "Are there any insights that lead to negative growth? Justify with specific reason."
      ],
      "metadata": {
        "id": "RoGjAbkUYoAp"
      }
    },
    {
      "cell_type": "markdown",
      "source": [
        "1. Businesses, which can afford, may consider relocating to regions witnessing a downward trend in terror activities if they are located in S Asia,Middle East and North Africa and Sub Saharan Africa.\n",
        "2. The international effort and resources heralded by UN to combat terrorism must focus on S Asia,Middle East and North Africa and Sub Saharan Africa."
      ],
      "metadata": {
        "id": "zfJ8IqMcYoAp"
      }
    },
    {
      "cell_type": "markdown",
      "source": [
        "#### Chart - 4"
      ],
      "metadata": {
        "id": "4Of9eVA-YrdM"
      }
    },
    {
      "cell_type": "code",
      "source": [
        "# Chart - 4 visualization code\n",
        "#Findings using boxplot\n",
        "dff[['iday','imonth']].plot(kind='box', title='Day and Month of terror event')\n",
        "plt.show()\n",
        "dff[['attacktype1','targtype1','weaptype1']].plot(kind='box', title='Box plot-Attack types,Target types and Weapon types')\n",
        "plt.show()"
      ],
      "metadata": {
        "id": "irlUoxc8YrdO"
      },
      "execution_count": null,
      "outputs": []
    },
    {
      "cell_type": "markdown",
      "source": [
        "##### 1. Why did you pick the specific chart?"
      ],
      "metadata": {
        "id": "iky9q4vBYrdO"
      }
    },
    {
      "cell_type": "markdown",
      "source": [
        "Box plots are used to get statistical information like highest,75 percentile,median,25 percentile,lowest and outliers.Here, its used to get such information for day and month of terror attack,type of terror attack,target types and weapon used."
      ],
      "metadata": {
        "id": "aJRCwT6DYrdO"
      }
    },
    {
      "cell_type": "markdown",
      "source": [
        "##### 2. What is/are the insight(s) found from the chart?"
      ],
      "metadata": {
        "id": "F6T5p64dYrdO"
      }
    },
    {
      "cell_type": "markdown",
      "source": [
        "1. Day box plot reprent normal distribution,whereas month box plot is slightly negatively skewed.There are no outliers in them.\n",
        "2. Target types are more diverse compared to attack types and weapon types.All three of them show a skewed distribution.Attack types and weapon types display several outliers.\n",
        "4. Median attack type is 3-Bombing/explosion\n",
        "5. Median target type is 4-Military\n",
        "6. Median weapon type is 6-Explosives"
      ],
      "metadata": {
        "id": "Xx8WAJvtYrdO"
      }
    },
    {
      "cell_type": "markdown",
      "source": [
        "3. Will the gained insights help creating a positive business impact?\n",
        "Are there any insights that lead to negative growth? Justify with specific reason."
      ],
      "metadata": {
        "id": "y-Ehk30pYrdP"
      }
    },
    {
      "cell_type": "markdown",
      "source": [
        "1. Slight skew in month needs probe to explain, if more terror events happen during certain months eg-fairs,tourism months etc.\n",
        "2. Bombing as the preferred type and explosives as predominant terror weapon calls for countries to take stern measures to regulate the manufacture and use of explosive substamces.It may increase redtapism for explosives manufacturers negatively affecting the industry growth.\n",
        "3. Diversity of terror targets show that terrorists are less selective,thus increased caution is advisable for all stake holders, to reduce damage and losses."
      ],
      "metadata": {
        "id": "jLNxxz7MYrdP"
      }
    },
    {
      "cell_type": "markdown",
      "source": [
        "#### Chart - 5"
      ],
      "metadata": {
        "id": "bamQiAODYuh1"
      }
    },
    {
      "cell_type": "code",
      "source": [
        "# Chart - 5 visualization code\n",
        "#Alternatives to terrorist attack if terror event is doubtful\n",
        "dff.groupby(['alternative_txt']).count().plot(kind='pie',y='alternative',autopct=\"%1.2f%%\",shadow=False,startangle=0,explode=[0.15,0.1,0.1,0.1,0.1])\n",
        "plt.show()\n",
        "#Attack types\n",
        "ax=dff.groupby(['attacktype1_txt']).count().plot(kind='pie',y='attacktype1',autopct=\"%1.2f%%\",shadow=False,startangle=0)\n",
        "ax.legend(bbox_to_anchor=(1, 1.5), loc='upper left')\n",
        "plt.show()\n",
        "#Target of terror events\n",
        "sns.countplot(data=dff,y='targtype1_txt')\n",
        "plt.title('Target of terror events')\n",
        "plt.ylabel('Targets')\n",
        "plt.show()"
      ],
      "metadata": {
        "id": "TIJwrbroYuh3"
      },
      "execution_count": null,
      "outputs": []
    },
    {
      "cell_type": "markdown",
      "source": [
        "##### 1. Why did you pick the specific chart?"
      ],
      "metadata": {
        "id": "QHF8YVU7Yuh3"
      }
    },
    {
      "cell_type": "markdown",
      "source": [
        "Pie chart is used to display the percent share of alternatives if the event is doubtful to be a terror attack and for various attack types.It's picked because of limited unique alternatives in the dataframe and simplicity in understanding by audiences, besides visual appeal.A countplot is used to depict count of targets of various terror events."
      ],
      "metadata": {
        "id": "dcxuIMRPYuh3"
      }
    },
    {
      "cell_type": "markdown",
      "source": [
        "##### 2. What is/are the insight(s) found from the chart?"
      ],
      "metadata": {
        "id": "GwzvFGzlYuh3"
      }
    },
    {
      "cell_type": "markdown",
      "source": [
        "1. Insurgency/Guerilla Action has 80% share among the alternatives,disproportionately more than the others.\n",
        "2. More than 49% of attack types are Bombing/Explosion related.Its followed by armed assault 24% and assassination 11%.\n",
        "3. Main target of terror events is private citizen and property(>35000 events),followed by military,police and Government(general)."
      ],
      "metadata": {
        "id": "uyqkiB8YYuh3"
      }
    },
    {
      "cell_type": "markdown",
      "source": [
        "##### 3. Will the gained insights help creating a positive business impact?\n",
        "Are there any insights that lead to negative growth? Justify with specific reason."
      ],
      "metadata": {
        "id": "qYpmQ266Yuh3"
      }
    },
    {
      "cell_type": "markdown",
      "source": [
        "1. Insurgency/Guerilla Action is a major impediment in operation of businesses.Many targets of such insurgency are corporates.Thus, its important that concerns of all groups be taken into account specially of locals to avert such a situation and businesses may prosper.\n",
        "2. Its of utmost importance in tribal,rural belts like NE India,Plateau belts rich in minerals like Katanga plateau(Africa) etc.\n",
        "3. Targetting private citizen and property affects purchasing power and disposable income in the economy,resulting in a slowdown.\n",
        "4. Bombing as the preferred type and explosives as predominant terror weapon calls for countries to take stern measures to regulate the manufacture and use of explosive substamces.It may increase redtapism for explosives manufacturers negatively affecting the industry growth."
      ],
      "metadata": {
        "id": "_WtzZ_hCYuh4"
      }
    },
    {
      "cell_type": "markdown",
      "source": [
        "#### Chart - 6"
      ],
      "metadata": {
        "id": "OH-pJp9IphqM"
      }
    },
    {
      "cell_type": "code",
      "source": [
        "# Chart - 6 visualization code\n",
        "#Effect on logistics and Supplychain\n",
        "Tgrt=['Airports & Aircraft','Maritime','Transportation']\n",
        "#[['iyear','country_txt','city','targsubtype1_txt','target1']]\n",
        "#Aero targets\n",
        "fig, axs = plt.subplots()\n",
        "fig.set_size_inches(10,50)\n",
        "sns.countplot(data=dff[dff['targtype1_txt']=='Airports & Aircraft'],hue='targsubtype1_txt',y='country_txt')\n",
        "plt.show()"
      ],
      "metadata": {
        "id": "kuRf4wtuphqN"
      },
      "execution_count": null,
      "outputs": []
    },
    {
      "cell_type": "code",
      "source": [
        "#Maritime targets\n",
        "fig, axs = plt.subplots()\n",
        "fig.set_size_inches(10,30)\n",
        "sns.countplot(data=dff[dff['targtype1_txt']=='Maritime'],hue='targsubtype1_txt',y='country_txt')\n",
        "plt.show()"
      ],
      "metadata": {
        "id": "MiiwtnbNTxPA"
      },
      "execution_count": null,
      "outputs": []
    },
    {
      "cell_type": "code",
      "source": [
        "#Transportation target\n",
        "fig, axs = plt.subplots()\n",
        "fig.set_size_inches(10,150)\n",
        "sns.countplot(data=dff[dff['targtype1_txt']=='Transportation'],hue='targsubtype1_txt',y='country_txt')\n",
        "plt.show()"
      ],
      "metadata": {
        "id": "Q9_T0ofpT0T7"
      },
      "execution_count": null,
      "outputs": []
    },
    {
      "cell_type": "markdown",
      "source": [
        "##### 1. Why did you pick the specific chart?"
      ],
      "metadata": {
        "id": "bbFf2-_FphqN"
      }
    },
    {
      "cell_type": "markdown",
      "source": [
        "Answer Here."
      ],
      "metadata": {
        "id": "loh7H2nzphqN"
      }
    },
    {
      "cell_type": "markdown",
      "source": [
        "##### 2. What is/are the insight(s) found from the chart?"
      ],
      "metadata": {
        "id": "_ouA3fa0phqN"
      }
    },
    {
      "cell_type": "markdown",
      "source": [
        "Answer Here"
      ],
      "metadata": {
        "id": "VECbqPI7phqN"
      }
    },
    {
      "cell_type": "markdown",
      "source": [
        "##### 3. Will the gained insights help creating a positive business impact?\n",
        "Are there any insights that lead to negative growth? Justify with specific reason."
      ],
      "metadata": {
        "id": "Seke61FWphqN"
      }
    },
    {
      "cell_type": "markdown",
      "source": [
        "Answer Here"
      ],
      "metadata": {
        "id": "DW4_bGpfphqN"
      }
    },
    {
      "cell_type": "markdown",
      "source": [
        "#### Chart - 7"
      ],
      "metadata": {
        "id": "PIIx-8_IphqN"
      }
    },
    {
      "cell_type": "code",
      "source": [
        "\n",
        "# Chart - 7 visualization code\n",
        "# Chart - 7 visualization code\n",
        "#Journalist target\n",
        "\n",
        "fig, axs = plt.subplots()\n",
        "fig.set_size_inches(10,150)\n",
        "sns.countplot(data=dff[dff['targtype1_txt']=='Journalists & Media'],hue='targsubtype1_txt',y='country_txt')\n",
        "plt.show()"
      ],
      "metadata": {
        "id": "lqAIGUfyphqO"
      },
      "execution_count": null,
      "outputs": []
    },
    {
      "cell_type": "markdown",
      "source": [
        "##### 1. Why did you pick the specific chart?"
      ],
      "metadata": {
        "id": "t27r6nlMphqO"
      }
    },
    {
      "cell_type": "markdown",
      "source": [
        "Answer Here."
      ],
      "metadata": {
        "id": "iv6ro40sphqO"
      }
    },
    {
      "cell_type": "markdown",
      "source": [
        "##### 2. What is/are the insight(s) found from the chart?"
      ],
      "metadata": {
        "id": "r2jJGEOYphqO"
      }
    },
    {
      "cell_type": "markdown",
      "source": [
        "Answer Here"
      ],
      "metadata": {
        "id": "Po6ZPi4hphqO"
      }
    },
    {
      "cell_type": "markdown",
      "source": [
        "##### 3. Will the gained insights help creating a positive business impact?\n",
        "Are there any insights that lead to negative growth? Justify with specific reason."
      ],
      "metadata": {
        "id": "b0JNsNcRphqO"
      }
    },
    {
      "cell_type": "markdown",
      "source": [
        "Answer Here"
      ],
      "metadata": {
        "id": "xvSq8iUTphqO"
      }
    },
    {
      "cell_type": "markdown",
      "source": [
        "#### Chart - 8"
      ],
      "metadata": {
        "id": "BZR9WyysphqO"
      }
    },
    {
      "cell_type": "code",
      "source": [
        "# Chart - 8 visualization code\n",
        "# Chart - 8 visualization code\n",
        "#Tourist as target\n",
        "\n",
        "fig, axs = plt.subplots()\n",
        "fig.set_size_inches(10,80)\n",
        "sns.countplot(data=dff[dff['targtype1_txt']=='Tourists'],hue='targsubtype1_txt',y='country_txt')\n",
        "plt.show()"
      ],
      "metadata": {
        "id": "TdPTWpAVphqO"
      },
      "execution_count": null,
      "outputs": []
    },
    {
      "cell_type": "markdown",
      "source": [
        "##### 1. Why did you pick the specific chart?"
      ],
      "metadata": {
        "id": "jj7wYXLtphqO"
      }
    },
    {
      "cell_type": "markdown",
      "source": [
        "Answer Here."
      ],
      "metadata": {
        "id": "Ob8u6rCTphqO"
      }
    },
    {
      "cell_type": "markdown",
      "source": [
        "##### 2. What is/are the insight(s) found from the chart?"
      ],
      "metadata": {
        "id": "eZrbJ2SmphqO"
      }
    },
    {
      "cell_type": "markdown",
      "source": [
        "Answer Here"
      ],
      "metadata": {
        "id": "mZtgC_hjphqO"
      }
    },
    {
      "cell_type": "markdown",
      "source": [
        "##### 3. Will the gained insights help creating a positive business impact?\n",
        "Are there any insights that lead to negative growth? Justify with specific reason."
      ],
      "metadata": {
        "id": "rFu4xreNphqO"
      }
    },
    {
      "cell_type": "markdown",
      "source": [
        "Answer Here"
      ],
      "metadata": {
        "id": "ey_0qi68phqO"
      }
    },
    {
      "cell_type": "markdown",
      "source": [
        "#### Chart - 9"
      ],
      "metadata": {
        "id": "YJ55k-q6phqO"
      }
    },
    {
      "cell_type": "code",
      "source": [
        "# Chart - 9 visualization code\n",
        "# Chart - 9 visualization code\n",
        "#Communal terror\n",
        "\n",
        "fig, axs = plt.subplots()\n",
        "fig.set_size_inches(10,80)\n",
        "sns.countplot(data=dff[dff['targtype1_txt']=='Religious Figures/Institutions'],hue='targsubtype1_txt',y='country_txt')\n",
        "plt.show()"
      ],
      "metadata": {
        "id": "B2aS4O1ophqO"
      },
      "execution_count": null,
      "outputs": []
    },
    {
      "cell_type": "markdown",
      "source": [
        "##### 1. Why did you pick the specific chart?"
      ],
      "metadata": {
        "id": "gCFgpxoyphqP"
      }
    },
    {
      "cell_type": "markdown",
      "source": [
        "Answer Here."
      ],
      "metadata": {
        "id": "TVxDimi2phqP"
      }
    },
    {
      "cell_type": "markdown",
      "source": [
        "##### 2. What is/are the insight(s) found from the chart?"
      ],
      "metadata": {
        "id": "OVtJsKN_phqQ"
      }
    },
    {
      "cell_type": "markdown",
      "source": [
        "Answer Here"
      ],
      "metadata": {
        "id": "ngGi97qjphqQ"
      }
    },
    {
      "cell_type": "markdown",
      "source": [
        "##### 3. Will the gained insights help creating a positive business impact?\n",
        "Are there any insights that lead to negative growth? Justify with specific reason."
      ],
      "metadata": {
        "id": "lssrdh5qphqQ"
      }
    },
    {
      "cell_type": "markdown",
      "source": [
        "Answer Here"
      ],
      "metadata": {
        "id": "tBpY5ekJphqQ"
      }
    },
    {
      "cell_type": "markdown",
      "source": [
        "#### Chart - 10"
      ],
      "metadata": {
        "id": "U2RJ9gkRphqQ"
      }
    },
    {
      "cell_type": "code",
      "source": [
        "# Chart - 10 visualization code\n",
        "#Gang category\n",
        "sns.countplot(y='region_txt',data=dff,hue='Gang Category')\n",
        "plt.show()"
      ],
      "metadata": {
        "id": "GM7a4YP4phqQ"
      },
      "execution_count": null,
      "outputs": []
    },
    {
      "cell_type": "code",
      "source": [
        "#Most resorted to attack type categorised by Gangs\n",
        "ax=sns.countplot(data=dff,hue='attacktype1_txt',x='Gang Category')\n",
        "ax.legend(bbox_to_anchor=(1, 1.5), loc='upper left')\n",
        "plt.title(\"Attack types resorted to by various gangs\")\n",
        "plt.show()"
      ],
      "metadata": {
        "id": "G2T709Q9Hqbi"
      },
      "execution_count": null,
      "outputs": []
    },
    {
      "cell_type": "code",
      "source": [
        "#Targets of various Gangs\n",
        "fig, axs = plt.subplots()\n",
        "ax=sns.countplot(data=dff,hue='targtype1_txt',x='Gang Category')\n",
        "ax.legend(bbox_to_anchor=(1, 1.5), loc='upper left')\n",
        "fig.set_size_inches(10,10)\n",
        "plt.title(\"Targets of various gangs\")\n",
        "plt.show()"
      ],
      "metadata": {
        "id": "uF2SPo8oHqxb"
      },
      "execution_count": null,
      "outputs": []
    },
    {
      "cell_type": "markdown",
      "source": [
        "##### 1. Why did you pick the specific chart?"
      ],
      "metadata": {
        "id": "1M8mcRywphqQ"
      }
    },
    {
      "cell_type": "markdown",
      "source": [
        "Answer Here."
      ],
      "metadata": {
        "id": "8agQvks0phqQ"
      }
    },
    {
      "cell_type": "markdown",
      "source": [
        "##### 2. What is/are the insight(s) found from the chart?"
      ],
      "metadata": {
        "id": "tgIPom80phqQ"
      }
    },
    {
      "cell_type": "markdown",
      "source": [
        "Answer Here"
      ],
      "metadata": {
        "id": "Qp13pnNzphqQ"
      }
    },
    {
      "cell_type": "markdown",
      "source": [
        "##### 3. Will the gained insights help creating a positive business impact?\n",
        "Are there any insights that lead to negative growth? Justify with specific reason."
      ],
      "metadata": {
        "id": "JMzcOPDDphqR"
      }
    },
    {
      "cell_type": "markdown",
      "source": [
        "Answer Here"
      ],
      "metadata": {
        "id": "R4Ka1PC2phqR"
      }
    },
    {
      "cell_type": "markdown",
      "source": [
        "#### Chart - 11"
      ],
      "metadata": {
        "id": "x-EpHcCOp1ci"
      }
    },
    {
      "cell_type": "code",
      "source": [
        "# Chart - 11 visualization code\n",
        "#Overall Claims share\n",
        "ax=dff.groupby(['claimmode_txt']).count().plot(kind='pie',y='claimmode',autopct=\"%1.2f%%\",shadow=False,startangle=0)\n",
        "ax.legend(bbox_to_anchor=(1, 1.5), loc='upper left')\n",
        "plt.show()"
      ],
      "metadata": {
        "id": "mAQTIvtqp1cj"
      },
      "execution_count": null,
      "outputs": []
    },
    {
      "cell_type": "code",
      "source": [
        "#Correlating claims mode with Casualties and property damage\n",
        "fig, axs = plt.subplots()\n",
        "fig.set_size_inches(15,15)\n",
        "ax=sns.scatterplot(data=dff,y='Casualty',x='propvalue',hue='claimed')\n",
        "plt.title(\"Correlating Casualities and property damage for both claimed and unclaimed terror events\")\n",
        "plt.yscale('log')\n",
        "plt.xscale('log')\n",
        "plt.show()"
      ],
      "metadata": {
        "id": "XYssWHw9gm3u"
      },
      "execution_count": null,
      "outputs": []
    },
    {
      "cell_type": "markdown",
      "source": [
        "##### 1. Why did you pick the specific chart?"
      ],
      "metadata": {
        "id": "X_VqEhTip1ck"
      }
    },
    {
      "cell_type": "markdown",
      "source": [
        "Answer Here."
      ],
      "metadata": {
        "id": "-vsMzt_np1ck"
      }
    },
    {
      "cell_type": "markdown",
      "source": [
        "##### 2. What is/are the insight(s) found from the chart?"
      ],
      "metadata": {
        "id": "8zGJKyg5p1ck"
      }
    },
    {
      "cell_type": "markdown",
      "source": [
        "Answer Here"
      ],
      "metadata": {
        "id": "ZYdMsrqVp1ck"
      }
    },
    {
      "cell_type": "markdown",
      "source": [
        "##### 3. Will the gained insights help creating a positive business impact?\n",
        "Are there any insights that lead to negative growth? Justify with specific reason."
      ],
      "metadata": {
        "id": "PVzmfK_Ep1ck"
      }
    },
    {
      "cell_type": "markdown",
      "source": [
        "Answer Here"
      ],
      "metadata": {
        "id": "druuKYZpp1ck"
      }
    },
    {
      "cell_type": "markdown",
      "source": [
        "#### Chart - 12"
      ],
      "metadata": {
        "id": "n3dbpmDWp1ck"
      }
    },
    {
      "cell_type": "code",
      "source": [
        "# Chart - 12 visualization code\n",
        "#Property damage analysis.Which areas more property damage.\n",
        "sns.countplot(data=dff,y='region_txt',hue='propextent_txt')\n",
        "plt.show()"
      ],
      "metadata": {
        "id": "bwevp1tKp1ck"
      },
      "execution_count": null,
      "outputs": []
    },
    {
      "cell_type": "code",
      "source": [
        "#Cities with catastrophic property damage\n",
        "ax=dff.groupby(dff[dff['propextent_txt']=='Catastrophic (likely >= $1 billion)']['city']).count().plot(kind='pie',y='city',autopct=\"%1.2f%%\",shadow=False,startangle=89)\n",
        "plt.title(\"Cities with catastrophic damage\",fontsize=12)\n",
        "plt.show()"
      ],
      "metadata": {
        "id": "jhD0yr8Yg3X3"
      },
      "execution_count": null,
      "outputs": []
    },
    {
      "cell_type": "code",
      "source": [
        "#Countries with major property damage\n",
        "fig, axs = plt.subplots()\n",
        "fig.set_size_inches(20,20)\n",
        "sns.countplot(data=dff[dff['propextent_txt']=='Major (likely >= $1 million but < $1 billion)'],y='country_txt')\n",
        "plt.title(\"Countries with major property damage\",fontsize=20)\n",
        "plt.show()"
      ],
      "metadata": {
        "id": "_9YPjK4lg9Ss"
      },
      "execution_count": null,
      "outputs": []
    },
    {
      "cell_type": "code",
      "source": [
        "#Regions with minor damage\n",
        "ax=dff.groupby(dff[dff['propextent_txt']=='Minor (likely < $1 million)']['region_txt']).count().plot(kind='pie',y='region',autopct=\"%1.2f%%\",shadow=False,startangle=0,radius=1)\n",
        "ax.legend(bbox_to_anchor=(2, 1.5), loc='upper left')\n",
        "plt.title(\"Regions with minor property damage\",fontsize=12)\n",
        "plt.show()"
      ],
      "metadata": {
        "id": "QNdBWsnKhQml"
      },
      "execution_count": null,
      "outputs": []
    },
    {
      "cell_type": "code",
      "source": [],
      "metadata": {
        "id": "-ydyebehhD-Y"
      },
      "execution_count": null,
      "outputs": []
    },
    {
      "cell_type": "markdown",
      "source": [
        "##### 1. Why did you pick the specific chart?"
      ],
      "metadata": {
        "id": "ylSl6qgtp1ck"
      }
    },
    {
      "cell_type": "markdown",
      "source": [
        "Answer Here."
      ],
      "metadata": {
        "id": "m2xqNkiQp1ck"
      }
    },
    {
      "cell_type": "markdown",
      "source": [
        "##### 2. What is/are the insight(s) found from the chart?"
      ],
      "metadata": {
        "id": "ZWILFDl5p1ck"
      }
    },
    {
      "cell_type": "markdown",
      "source": [
        "Answer Here"
      ],
      "metadata": {
        "id": "x-lUsV2mp1ck"
      }
    },
    {
      "cell_type": "markdown",
      "source": [
        "##### 3. Will the gained insights help creating a positive business impact?\n",
        "Are there any insights that lead to negative growth? Justify with specific reason."
      ],
      "metadata": {
        "id": "M7G43BXep1ck"
      }
    },
    {
      "cell_type": "markdown",
      "source": [
        "Answer Here"
      ],
      "metadata": {
        "id": "5wwDJXsLp1cl"
      }
    },
    {
      "cell_type": "markdown",
      "source": [
        "#### Chart - 13"
      ],
      "metadata": {
        "id": "Ag9LCva-p1cl"
      }
    },
    {
      "cell_type": "code",
      "source": [
        "# Chart - 13 visualization code\n",
        "#Weapon analysis\n",
        "ax=dff.groupby(dff['weaptype1_txt']).count().plot(kind='pie',y='weaptype1',autopct=\"%1.2f%%\",shadow=False,startangle=0)\n",
        "ax.legend(bbox_to_anchor=(1, 1.5), loc='upper left')\n",
        "plt.title(\"Share of weapons used in all terror events\",fontsize=12)\n",
        "plt.show()"
      ],
      "metadata": {
        "id": "EUfxeq9-p1cl"
      },
      "execution_count": null,
      "outputs": []
    },
    {
      "cell_type": "code",
      "source": [],
      "metadata": {
        "id": "Y2LfV8B_hrGd"
      },
      "execution_count": null,
      "outputs": []
    },
    {
      "cell_type": "markdown",
      "source": [
        "#### Chart - 14"
      ],
      "metadata": {
        "id": "IWIKcBaISOll"
      }
    },
    {
      "cell_type": "code",
      "source": [
        "# Chart - 14 visualization code\n",
        "#Analysing kidnappings year wise\n",
        "sns.lineplot(data=dff,y='nhostkid',x='iyear')\n",
        "plt.title(\"Yearwise trend in no. of hostages taken\")\n",
        "plt.show()"
      ],
      "metadata": {
        "id": "GidPjjrCSOlw"
      },
      "execution_count": null,
      "outputs": []
    },
    {
      "cell_type": "code",
      "source": [
        "#Countries involved in successful rescue of hostages\n",
        "fig, axs = plt.subplots()\n",
        "fig.set_size_inches(20,20)\n",
        "sns.countplot(data=dff[dff['hostkidoutcome_txt']=='Successful Rescue'],y='country_txt')\n",
        "plt.title(\"Successful rescue count countrywise\",fontsize=20)\n",
        "plt.show()"
      ],
      "metadata": {
        "id": "2TQJDgYCSssX"
      },
      "execution_count": null,
      "outputs": []
    },
    {
      "cell_type": "markdown",
      "source": [
        "#### Chart - 15-India Specific"
      ],
      "metadata": {
        "id": "WBBIWmXlSMQT"
      }
    },
    {
      "cell_type": "code",
      "source": [
        "#Temporal\n",
        "sns.histplot(data=df_india,x='iyear')\n",
        "plt.title(\"Frequency of terror events in India yearwise\")\n",
        "plt.show()"
      ],
      "metadata": {
        "id": "gJTX1v40SMQU"
      },
      "execution_count": null,
      "outputs": []
    },
    {
      "cell_type": "code",
      "source": [
        "#Spatial\n",
        "fig, axs = plt.subplots()\n",
        "fig.set_size_inches(7,7)\n",
        "sns.histplot(data=df_india,y='provstate')\n",
        "plt.title(\"Count of terror events in India statewise\")\n",
        "plt.show()"
      ],
      "metadata": {
        "id": "kbniCpMKTF4Q"
      },
      "execution_count": null,
      "outputs": []
    },
    {
      "cell_type": "code",
      "source": [
        "#Combining temporal and spatial aspects\n",
        "fig, axs = plt.subplots()\n",
        "fig.set_size_inches(10,25)\n",
        "sns.countplot(data=df_india,hue='provstate',y='Decade')\n",
        "plt.title(\"Count of terror events in India statewise\",fontsize=12)\n",
        "plt.show()"
      ],
      "metadata": {
        "id": "7nhOwHisTJqq"
      },
      "execution_count": null,
      "outputs": []
    },
    {
      "cell_type": "code",
      "source": [
        "#Alternatives to terror events\n",
        "sns.countplot(data=df_india,y='alternative_txt')\n",
        "plt.title(\"Count of alternatives to terror events\",fontsize=12)\n",
        "plt.show()"
      ],
      "metadata": {
        "id": "KmkF8OX9TOXl"
      },
      "execution_count": null,
      "outputs": []
    },
    {
      "cell_type": "code",
      "source": [
        "#Which gangs involved in Hijacking events\n",
        "sns.histplot(data=df_india[df_india['attacktype1_txt']=='Hijacking'],y='gname')\n",
        "plt.title(\"Gangs involved in Hijacking\")\n",
        "plt.show()"
      ],
      "metadata": {
        "id": "09x5xBmrTR1d"
      },
      "execution_count": null,
      "outputs": []
    },
    {
      "cell_type": "code",
      "source": [
        "#Targets of Hijacking\n",
        "ax=df_india[df_india['attacktype1_txt']=='Hijacking'].groupby(dff['targtype1_txt']).count().plot(kind='pie',y='targtype1',autopct=\"%1.2f%%\",shadow=False,startangle=0)\n",
        "ax.legend(bbox_to_anchor=(1, 1.5), loc='upper left')\n",
        "plt.title(\"Hijacking targets in India\",fontsize=12)\n",
        "plt.show()"
      ],
      "metadata": {
        "id": "GbePGMdVTW53"
      },
      "execution_count": null,
      "outputs": []
    },
    {
      "cell_type": "code",
      "source": [
        "#Hijacking correlation with date\n",
        "sns.scatterplot(data=df_india[df_india['attacktype1_txt']=='Hijacking'],y='eventid',x='iday')\n",
        "plt.title(\"Hijacking events correlation to day of occurrence in India\")\n",
        "plt.show()"
      ],
      "metadata": {
        "id": "BDbyJ8v0hxt-"
      },
      "execution_count": null,
      "outputs": []
    },
    {
      "cell_type": "code",
      "source": [
        "#Hijacking correlation with month\n",
        "sns.scatterplot(data=df_india[df_india['attacktype1_txt']=='Hijacking'],y='eventid',x='imonth')\n",
        "plt.title(\"Hijacking events correlation to month of occurrence in India\")\n",
        "plt.show()"
      ],
      "metadata": {
        "id": "zKm09hG4TjVy"
      },
      "execution_count": null,
      "outputs": []
    },
    {
      "cell_type": "code",
      "source": [
        "#Gangs involved in targetting foreign targets in India\n",
        "fig, axs = plt.subplots()\n",
        "fig.set_size_inches(10,10)\n",
        "sns.histplot(data=df_india[(df_india['natlty1_txt']!='India')],y='gname')\n",
        "plt.title(\"Gangs involved in targetting forign targets in India\")\n",
        "plt.show()"
      ],
      "metadata": {
        "id": "J2Um3VrOTpcZ"
      },
      "execution_count": null,
      "outputs": []
    },
    {
      "cell_type": "code",
      "source": [
        "#Modusoperandi of terrorists targetting foreigners in India\n",
        "ax=df_india[(df_india['natlty1_txt']!='India')].groupby(dff['attacktype1_txt']).count().plot(kind='pie',y='attacktype1_txt',autopct=\"%1.2f%%\",shadow=False,startangle=0)\n",
        "ax.legend(bbox_to_anchor=(1.2, 1.2), loc='upper left')\n",
        "plt.title(\"Methods used to attack foreign targets in India\",fontsize=12)\n",
        "plt.show()"
      ],
      "metadata": {
        "id": "li82gSy5T36S"
      },
      "execution_count": null,
      "outputs": []
    },
    {
      "cell_type": "code",
      "source": [
        "#Which foreign countries were targetted\n",
        "fig, axs = plt.subplots()\n",
        "fig.set_size_inches(10,10)\n",
        "sns.histplot(data=df_india[(df_india['natlty1_txt']!='India')],y='natlty1_txt')\n",
        "plt.title(\"Which foreign country most targetted in India\")\n",
        "plt.show()"
      ],
      "metadata": {
        "id": "3pKjXghEUGJz"
      },
      "execution_count": null,
      "outputs": []
    },
    {
      "cell_type": "code",
      "source": [
        "#Assasination events\n",
        "fig, axs = plt.subplots()\n",
        "fig.set_size_inches(10,10)\n",
        "sns.histplot(data=df_india[df_india['attacktype1_txt']=='Assassination'],y='targtype1_txt')\n",
        "plt.title(\"Targets of Assasination events in India\")\n",
        "plt.show()"
      ],
      "metadata": {
        "id": "2MdbhppLUSUv"
      },
      "execution_count": null,
      "outputs": []
    },
    {
      "cell_type": "code",
      "source": [
        "#Top gangs categorised by category in India\n",
        "ax=df_india['gname'].groupby(dff['Gang Category']).count().plot(kind='pie',y='Gang Category',autopct=\"%1.2f%%\",shadow=False,startangle=0)\n",
        "ax.legend(bbox_to_anchor=(1.2, 1.2), loc='upper left')\n",
        "plt.title(\"Categories of gangs operating in India\",fontsize=12)\n",
        "plt.show()"
      ],
      "metadata": {
        "id": "nTaQ6VzVUYTI"
      },
      "execution_count": null,
      "outputs": []
    },
    {
      "cell_type": "code",
      "source": [
        "#Mean casualities for various terror attack types in India\n",
        "sns.barplot(data=df_india,x='Casualty',y='attacktype1_txt',estimator='mean')\n",
        "plt.title(\"Mean casualities for various terror attack types in India\")\n",
        "plt.show()"
      ],
      "metadata": {
        "id": "QwXl--vIUh5R"
      },
      "execution_count": null,
      "outputs": []
    },
    {
      "cell_type": "markdown",
      "source": [
        "##### 1. Why did you pick the specific chart?"
      ],
      "metadata": {
        "id": "E6MkPsBcp1cl"
      }
    },
    {
      "cell_type": "markdown",
      "source": [
        "Answer Here."
      ],
      "metadata": {
        "id": "V22bRsFWp1cl"
      }
    },
    {
      "cell_type": "markdown",
      "source": [
        "##### 2. What is/are the insight(s) found from the chart?"
      ],
      "metadata": {
        "id": "2cELzS2fp1cl"
      }
    },
    {
      "cell_type": "markdown",
      "source": [
        "Answer Here"
      ],
      "metadata": {
        "id": "ozQPc2_Ip1cl"
      }
    },
    {
      "cell_type": "markdown",
      "source": [
        "##### 3. Will the gained insights help creating a positive business impact?\n",
        "Are there any insights that lead to negative growth? Justify with specific reason."
      ],
      "metadata": {
        "id": "3MPXvC8up1cl"
      }
    },
    {
      "cell_type": "markdown",
      "source": [
        "Answer Here"
      ],
      "metadata": {
        "id": "GL8l1tdLp1cl"
      }
    },
    {
      "cell_type": "markdown",
      "source": [
        "Chart 14"
      ],
      "metadata": {
        "id": "enXQUJSdiAP3"
      }
    },
    {
      "cell_type": "code",
      "source": [
        "#Analysing kidnappings year wise\n",
        "sns.lineplot(data=dff,y='nhostkid',x='iyear')"
      ],
      "metadata": {
        "id": "LFwbHHueiIB9"
      },
      "execution_count": null,
      "outputs": []
    },
    {
      "cell_type": "markdown",
      "source": [
        "Chart 15"
      ],
      "metadata": {
        "id": "Xj2-xqlQiJpf"
      }
    },
    {
      "cell_type": "code",
      "source": [
        "#Countries involved in successful rescue of hostages\n",
        "fig, axs = plt.subplots()\n",
        "fig.set_size_inches(20,20)\n",
        "sns.countplot(data=dff[dff['hostkidoutcome_txt']=='Successful Rescue'],y='country_txt')\n",
        "plt.title(\"Successful rescue count countrywise\",fontsize=20)\n",
        "plt.show()"
      ],
      "metadata": {
        "id": "b2fLlr69iNCJ"
      },
      "execution_count": null,
      "outputs": []
    },
    {
      "cell_type": "markdown",
      "source": [
        "#### Chart - 16 - Correlation Heatmap"
      ],
      "metadata": {
        "id": "NC_X3p0fY2L0"
      }
    },
    {
      "cell_type": "code",
      "source": [
        "# Correlation Heatmap visualization code\n",
        "data1=df_india[['nperps','Casualty','propvalue','ransomamt','claimed']]\n",
        "sns.heatmap(data1.drop(['claimed'],axis=1).corr(),cmap='coolwarm',annot=True)\n",
        "plt.title(\"Correlation heatmap for data1, a subset of India specific terror event dataframe\")\n",
        "plt.show()"
      ],
      "metadata": {
        "id": "xyC9zolEZNRQ"
      },
      "execution_count": null,
      "outputs": []
    },
    {
      "cell_type": "markdown",
      "source": [
        "##### 1. Why did you pick the specific chart?"
      ],
      "metadata": {
        "id": "UV0SzAkaZNRQ"
      }
    },
    {
      "cell_type": "markdown",
      "source": [
        "Answer Here."
      ],
      "metadata": {
        "id": "DVPuT8LYZNRQ"
      }
    },
    {
      "cell_type": "markdown",
      "source": [
        "##### 2. What is/are the insight(s) found from the chart?"
      ],
      "metadata": {
        "id": "YPEH6qLeZNRQ"
      }
    },
    {
      "cell_type": "markdown",
      "source": [
        "Answer Here"
      ],
      "metadata": {
        "id": "bfSqtnDqZNRR"
      }
    },
    {
      "cell_type": "markdown",
      "source": [
        "#### Chart - 17 - Pair Plot"
      ],
      "metadata": {
        "id": "q29F0dvdveiT"
      }
    },
    {
      "cell_type": "code",
      "source": [
        "# Pair Plot visualization code\n",
        "sns.pairplot(data=data1,hue='claimed',dropna=True)\n",
        "plt.show()"
      ],
      "metadata": {
        "id": "o58-TEIhveiU"
      },
      "execution_count": null,
      "outputs": []
    },
    {
      "cell_type": "markdown",
      "source": [
        "##### 1. Why did you pick the specific chart?"
      ],
      "metadata": {
        "id": "EXh0U9oCveiU"
      }
    },
    {
      "cell_type": "markdown",
      "source": [
        "Answer Here."
      ],
      "metadata": {
        "id": "eMmPjTByveiU"
      }
    },
    {
      "cell_type": "markdown",
      "source": [
        "##### 2. What is/are the insight(s) found from the chart?"
      ],
      "metadata": {
        "id": "22aHeOlLveiV"
      }
    },
    {
      "cell_type": "markdown",
      "source": [
        "Answer Here"
      ],
      "metadata": {
        "id": "uPQ8RGwHveiV"
      }
    },
    {
      "cell_type": "markdown",
      "source": [
        "## **5. Solution to Business Objective**"
      ],
      "metadata": {
        "id": "JcMwzZxoAimU"
      }
    },
    {
      "cell_type": "markdown",
      "source": [
        "#### What do you suggest the client to achieve Business Objective ?\n",
        "Explain Briefly."
      ],
      "metadata": {
        "id": "8G2x9gOozGDZ"
      }
    },
    {
      "cell_type": "markdown",
      "source": [
        "Answer Here."
      ],
      "metadata": {
        "id": "pASKb0qOza21"
      }
    },
    {
      "cell_type": "markdown",
      "source": [
        "# **Conclusion**"
      ],
      "metadata": {
        "id": "gCX9965dhzqZ"
      }
    },
    {
      "cell_type": "markdown",
      "source": [
        "Write the conclusion here."
      ],
      "metadata": {
        "id": "Fjb1IsQkh3yE"
      }
    },
    {
      "cell_type": "markdown",
      "source": [
        "### ***Hurrah! You have successfully completed your EDA Capstone Project !!!***"
      ],
      "metadata": {
        "id": "gIfDvo9L0UH2"
      }
    }
  ]
}