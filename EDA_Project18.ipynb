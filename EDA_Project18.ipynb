{
  "nbformat": 4,
  "nbformat_minor": 0,
  "metadata": {
    "colab": {
      "private_outputs": true,
      "provenance": [],
      "collapsed_sections": [
        "vncDsAP0Gaoa",
        "FJNUwmbgGyua",
        "w6K7xa23Elo4",
        "yQaldy8SH6Dl",
        "PH-0ReGfmX4f",
        "mDgbUHAGgjLW",
        "O_i_v8NEhb9l",
        "HhfV-JJviCcP",
        "Y3lxredqlCYt",
        "3RnN4peoiCZX",
        "x71ZqKXriCWQ",
        "7hBIi_osiCS2",
        "JlHwYmJAmNHm",
        "35m5QtbWiB9F",
        "PoPl-ycgm1ru",
        "H0kj-8xxnORC",
        "nA9Y7ga8ng1Z",
        "PBTbrJXOngz2",
        "u3PMJOP6ngxN",
        "dauF4eBmngu3",
        "bKJF3rekwFvQ",
        "MSa1f5Uengrz",
        "GF8Ens_Soomf",
        "0wOQAZs5pc--",
        "K5QZ13OEpz2H",
        "lQ7QKXXCp7Bj",
        "448CDAPjqfQr",
        "KSlN3yHqYklG",
        "t6dVpIINYklI",
        "ijmpgYnKYklI",
        "-JiQyfWJYklI",
        "EM7whBJCYoAo",
        "fge-S5ZAYoAp",
        "85gYPyotYoAp",
        "RoGjAbkUYoAp",
        "4Of9eVA-YrdM",
        "iky9q4vBYrdO",
        "F6T5p64dYrdO",
        "y-Ehk30pYrdP",
        "bamQiAODYuh1",
        "QHF8YVU7Yuh3",
        "GwzvFGzlYuh3",
        "qYpmQ266Yuh3",
        "OH-pJp9IphqM",
        "bbFf2-_FphqN",
        "_ouA3fa0phqN",
        "Seke61FWphqN",
        "PIIx-8_IphqN",
        "t27r6nlMphqO",
        "r2jJGEOYphqO",
        "b0JNsNcRphqO",
        "BZR9WyysphqO",
        "jj7wYXLtphqO",
        "eZrbJ2SmphqO",
        "rFu4xreNphqO",
        "YJ55k-q6phqO",
        "gCFgpxoyphqP",
        "OVtJsKN_phqQ",
        "lssrdh5qphqQ",
        "U2RJ9gkRphqQ",
        "1M8mcRywphqQ",
        "tgIPom80phqQ",
        "JMzcOPDDphqR",
        "x-EpHcCOp1ci",
        "X_VqEhTip1ck",
        "8zGJKyg5p1ck",
        "PVzmfK_Ep1ck",
        "n3dbpmDWp1ck",
        "ylSl6qgtp1ck",
        "ZWILFDl5p1ck",
        "M7G43BXep1ck",
        "Ag9LCva-p1cl",
        "E6MkPsBcp1cl",
        "2cELzS2fp1cl",
        "3MPXvC8up1cl",
        "NC_X3p0fY2L0",
        "UV0SzAkaZNRQ",
        "YPEH6qLeZNRQ",
        "q29F0dvdveiT",
        "EXh0U9oCveiU",
        "22aHeOlLveiV",
        "JcMwzZxoAimU",
        "8G2x9gOozGDZ",
        "gCX9965dhzqZ",
        "gIfDvo9L0UH2"
      ],
      "include_colab_link": true
    },
    "kernelspec": {
      "name": "python3",
      "display_name": "Python 3"
    },
    "language_info": {
      "name": "python"
    }
  },
  "cells": [
    {
      "cell_type": "markdown",
      "metadata": {
        "id": "view-in-github",
        "colab_type": "text"
      },
      "source": [
        "<a href=\"https://colab.research.google.com/github/mnnit3007/Global-Terrorism-Data-EDA/blob/main/EDA_Project18.ipynb\" target=\"_parent\"><img src=\"https://colab.research.google.com/assets/colab-badge.svg\" alt=\"Open In Colab\"/></a>"
      ]
    },
    {
      "cell_type": "markdown",
      "source": [
        "# **Project Name**    -Global Terrorism Database Analysis\n",
        "\n"
      ],
      "metadata": {
        "id": "vncDsAP0Gaoa"
      }
    },
    {
      "cell_type": "markdown",
      "source": [
        "##### **Project Type**    - EDA\n",
        "##### **Contribution**    - Individual\n",
        "##### **Contributer Name -** Ayush Kumar Srivastava\n"
      ],
      "metadata": {
        "id": "beRrZCGUAJYm"
      }
    },
    {
      "cell_type": "markdown",
      "source": [
        "# **Project Summary -**"
      ],
      "metadata": {
        "id": "FJNUwmbgGyua"
      }
    },
    {
      "cell_type": "markdown",
      "source": [
        "Write the summary here within 500-600 words."
      ],
      "metadata": {
        "id": "F6v_1wHtG2nS"
      }
    },
    {
      "cell_type": "markdown",
      "source": [
        "# **GitHub Link -**"
      ],
      "metadata": {
        "id": "w6K7xa23Elo4"
      }
    },
    {
      "cell_type": "markdown",
      "source": [
        "Provide your GitHub Link here."
      ],
      "metadata": {
        "id": "h1o69JH3Eqqn"
      }
    },
    {
      "cell_type": "markdown",
      "source": [
        "# **Problem Statement**\n"
      ],
      "metadata": {
        "id": "yQaldy8SH6Dl"
      }
    },
    {
      "cell_type": "markdown",
      "source": [
        "The WEF's Global Risk Report lists terrorism as a important global threat to humanity's wellbeing.In this context,The Global Terrorism Database (GTD),an open-source database including information on terrorist attacks around the world from 1970 through 2017,presents insightful statistics.The problem statement here, is to analyse these ststistics to draw conclusions which can benefit several stakeholders.\n"
      ],
      "metadata": {
        "id": "DpeJGUA3kjGy"
      }
    },
    {
      "cell_type": "markdown",
      "source": [
        "#### **Define Your Business Objective?**"
      ],
      "metadata": {
        "id": "PH-0ReGfmX4f"
      }
    },
    {
      "cell_type": "markdown",
      "source": [
        "Business objectives are:-\n",
        "1."
      ],
      "metadata": {
        "id": "PhDvGCAqmjP1"
      }
    },
    {
      "cell_type": "markdown",
      "source": [
        "# **General Guidelines** : -  "
      ],
      "metadata": {
        "id": "mDgbUHAGgjLW"
      }
    },
    {
      "cell_type": "markdown",
      "source": [
        "1.   Well-structured, formatted, and commented code is required.\n",
        "2.   Exception Handling, Production Grade Code & Deployment Ready Code will be a plus. Those students will be awarded some additional credits.\n",
        "     \n",
        "     The additional credits will have advantages over other students during Star Student selection.\n",
        "       \n",
        "             [ Note: - Deployment Ready Code is defined as, the whole .ipynb notebook should be executable in one go\n",
        "                       without a single error logged. ]\n",
        "\n",
        "3.   Each and every logic should have proper comments.\n",
        "4. You may add as many number of charts you want. Make Sure for each and every chart the following format should be answered.\n",
        "        \n",
        "\n",
        "```\n",
        "# Chart visualization code\n",
        "```\n",
        "            \n",
        "\n",
        "*   Why did you pick the specific chart?\n",
        "*   What is/are the insight(s) found from the chart?\n",
        "* Will the gained insights help creating a positive business impact?\n",
        "Are there any insights that lead to negative growth? Justify with specific reason.\n",
        "\n",
        "5. You have to create at least 20 logical & meaningful charts having important insights.\n",
        "\n",
        "\n",
        "[ Hints : - Do the Vizualization in  a structured way while following \"UBM\" Rule.\n",
        "\n",
        "U - Univariate Analysis,\n",
        "\n",
        "B - Bivariate Analysis (Numerical - Categorical, Numerical - Numerical, Categorical - Categorical)\n",
        "\n",
        "M - Multivariate Analysis\n",
        " ]\n",
        "\n",
        "\n",
        "\n"
      ],
      "metadata": {
        "id": "ZrxVaUj-hHfC"
      }
    },
    {
      "cell_type": "markdown",
      "source": [
        "# ***Let's Begin !***"
      ],
      "metadata": {
        "id": "O_i_v8NEhb9l"
      }
    },
    {
      "cell_type": "markdown",
      "source": [
        "## ***1. Know Your Data***"
      ],
      "metadata": {
        "id": "HhfV-JJviCcP"
      }
    },
    {
      "cell_type": "markdown",
      "source": [
        "### Import Libraries"
      ],
      "metadata": {
        "id": "Y3lxredqlCYt"
      }
    },
    {
      "cell_type": "code",
      "source": [
        "#Importing Libraries\n",
        "from google.colab import drive\n",
        "import numpy as np\n",
        "import pandas as pd\n",
        "import matplotlib.pyplot as plt\n",
        "import seaborn as sns\n",
        "import warnings\n",
        "warnings.filterwarnings('ignore')\n",
        "import geopandas as gpd\n",
        "!pip install squarify\n",
        "!pip install pywaffle\n",
        "import squarify\n",
        "from pywaffle import Waffle"
      ],
      "metadata": {
        "id": "M8Vqi-pPk-HR"
      },
      "execution_count": null,
      "outputs": []
    },
    {
      "cell_type": "markdown",
      "source": [
        "### Dataset Loading"
      ],
      "metadata": {
        "id": "3RnN4peoiCZX"
      }
    },
    {
      "cell_type": "code",
      "source": [
        "drive.mount('/content/drive')"
      ],
      "metadata": {
        "id": "4CkvbW_SlZ_R"
      },
      "execution_count": null,
      "outputs": []
    },
    {
      "cell_type": "code",
      "source": [
        "path=\"/content/drive/My Drive/Global Terrorism Data.csv\""
      ],
      "metadata": {
        "id": "UUKb4RGeDyRY"
      },
      "execution_count": null,
      "outputs": []
    },
    {
      "cell_type": "code",
      "source": [
        "#Reading CSV dataset\n",
        "dff=pd.read_csv(path, encoding = \"ISO-8859-1\")"
      ],
      "metadata": {
        "id": "wk1ieFhIDymo"
      },
      "execution_count": null,
      "outputs": []
    },
    {
      "cell_type": "code",
      "source": [
        "pd.set_option(\"display.max_columns\", 135)\n",
        "pd.set_option(\"display.max_rows\", 10000)"
      ],
      "metadata": {
        "id": "u_0CGA9zFPjP"
      },
      "execution_count": null,
      "outputs": []
    },
    {
      "cell_type": "markdown",
      "source": [
        "### Dataset First View"
      ],
      "metadata": {
        "id": "x71ZqKXriCWQ"
      }
    },
    {
      "cell_type": "code",
      "source": [
        "#Top 5 rows of dataset\n",
        "dff.head()"
      ],
      "metadata": {
        "id": "BF9blM5zHq4l"
      },
      "execution_count": null,
      "outputs": []
    },
    {
      "cell_type": "code",
      "source": [
        "#Bottom 5 rows of dataset\n",
        "dff.tail()"
      ],
      "metadata": {
        "id": "Erur9aNGHtW4"
      },
      "execution_count": null,
      "outputs": []
    },
    {
      "cell_type": "markdown",
      "source": [
        "### Dataset Rows & Columns count"
      ],
      "metadata": {
        "id": "7hBIi_osiCS2"
      }
    },
    {
      "cell_type": "code",
      "source": [
        "# Dataset Columns count\n",
        "len(dff.columns)"
      ],
      "metadata": {
        "id": "Kllu7SJgmLij"
      },
      "execution_count": null,
      "outputs": []
    },
    {
      "cell_type": "code",
      "source": [
        "#Dataset rows count\n",
        "print(len(dff))"
      ],
      "metadata": {
        "id": "c_f0UAGAag1z"
      },
      "execution_count": null,
      "outputs": []
    },
    {
      "cell_type": "code",
      "source": [
        "#Dataset columns and rows count\n",
        "dff.shape"
      ],
      "metadata": {
        "id": "EHPi3CvULfd3"
      },
      "execution_count": null,
      "outputs": []
    },
    {
      "cell_type": "markdown",
      "source": [
        "### Dataset Information"
      ],
      "metadata": {
        "id": "JlHwYmJAmNHm"
      }
    },
    {
      "cell_type": "code",
      "source": [
        "# Dataset Info\n",
        "dff.info()"
      ],
      "metadata": {
        "id": "e9hRXRi6meOf"
      },
      "execution_count": null,
      "outputs": []
    },
    {
      "cell_type": "code",
      "source": [
        "#Data types of columns\n",
        "dff.dtypes"
      ],
      "metadata": {
        "id": "5lORN6eClANq"
      },
      "execution_count": null,
      "outputs": []
    },
    {
      "cell_type": "code",
      "source": [
        "#Statistical info of dataset\n",
        "dff.describe()"
      ],
      "metadata": {
        "id": "MkNoMxngl-eF"
      },
      "execution_count": null,
      "outputs": []
    },
    {
      "cell_type": "markdown",
      "source": [
        "#### Duplicate Values"
      ],
      "metadata": {
        "id": "35m5QtbWiB9F"
      }
    },
    {
      "cell_type": "code",
      "source": [
        "# Dataset Duplicate Value Count\n",
        "dff.duplicated().value_counts()\n"
      ],
      "metadata": {
        "id": "1sLdpKYkmox0"
      },
      "execution_count": null,
      "outputs": []
    },
    {
      "cell_type": "markdown",
      "source": [
        "#### Missing Values/Null Values"
      ],
      "metadata": {
        "id": "PoPl-ycgm1ru"
      }
    },
    {
      "cell_type": "code",
      "source": [
        "# Missing Values/Null Values Count\n",
        "dff.isnull().sum()"
      ],
      "metadata": {
        "id": "GgHWkxvamxVg"
      },
      "execution_count": null,
      "outputs": []
    },
    {
      "cell_type": "code",
      "source": [
        "# Visualizing the missing values\n",
        "plt.figure(figsize=(12,20))\n",
        "ax=sns.heatmap(data=dff.isna(),cmap='binary',cbar=False)\n",
        "plt.title(\"Missing values visualization heatmap\",fontsize=15)\n",
        "plt.show()"
      ],
      "metadata": {
        "id": "3q5wnI3om9sJ"
      },
      "execution_count": null,
      "outputs": []
    },
    {
      "cell_type": "markdown",
      "source": [
        "### What did you know about your dataset?"
      ],
      "metadata": {
        "id": "H0kj-8xxnORC"
      }
    },
    {
      "cell_type": "markdown",
      "source": [
        "1. The Global Terrorism Dataset contains information on terrorist\n",
        "attacks around the world from 1970 through 2017.\n",
        "2. The dataset contains 135 columns, which provide comprehensive detail about the terror events throughout the world.\n",
        "3. The following are the columns of the dataset:-eventid,iyear,imonth,iday,approxdate,extended,resolution,country,country_txt,region,region_txt,provstate,city,latitude,longitude,specificity,vicinity,location,summary,crit1,crit2,crit3,doubtterr,alternative,alternative_txt,multiple,success,suicide,attacktype1,attacktype1_txt,attacktype2,attacktype2_txt,attacktype3,attacktype3_txt,targtype1,targtype1_txt,targsubtype1,targsubtype1_txt,corp1,target1,natlty1,natlty1_txt,targtype2,targtype2_txt,targsubtype2,targsubtype2_txt,corp2,target2,natlty2,natlty2_txt,targtype3,targtype3_txt,targsubtype3,targsubtype3_txt,corp3,target3,natlty3,natlty3_txt,gname,gsubname,gname2,gsubname2,gname3,gsubname3,motive,guncertain1,guncertain2,guncertain3,individual,nperps,nperpcap,claimed,claimmode,claimmode_txt,claim2,claimmode2,claimmode2_txt,claim3,claimmode3,claimmode3_txt,compclaim,weaptype1,weaptype1_txt,weapsubtype1,weapsubtype1_txt,weaptype2,weaptype2_txt,weapsubtype2,weapsubtype2_txt,weaptype3,weaptype3_txt,weapsubtype3,weapsubtype3_txt,weaptype4,weaptype4_txt,weapsubtype4,weapsubtype4_txt,weapdetail,nkill,nkillus,nkillter,nwound,nwoundus,nwoundte,property,propextent,propextent_txt,propvalue,propcomment,ishostkid,nhostkid,nhostkidus,nhours,ndays,divert,kidhijcountry,ransom,ransomamt,ransomamtus,ransompaid,ransompaidus,ransomnote,hostkidoutcome,hostkidoutcome_txt,nreleased,addnotes,scite1,scite2,scite3,dbsource,INT_LOG,INT_IDEO,INT_MISC,INT_ANY,related.\n",
        "4. The dataset contain 181691 rows.\n",
        "5. The datatypes of various columns are:-float(55 columns), int(22 columns) and object(58 columns).\n",
        "6. There are no duplicate rows in the dataset.\n",
        "7. Null is present in various varieties as ' ','-','?','-99','NaN'.\n",
        "8. There are no Null values in the  following columns:-eventid,iyear,imonth,iday,extended,country,country_txt,region,region_txt,vicinity,crit1,crit2,crit3,success,suicide,attacktype1,attacktype1_txt,targtype1,targtype1_txt,gname,individual,weaptype1,weaptype1_txt,property,dbsource,INT_LOG,INT_IDEO,INT_MISC,INT_ANY.\n",
        "\n",
        "\n",
        "\n",
        "\n",
        "\n"
      ],
      "metadata": {
        "id": "gfoNAAC-nUe_"
      }
    },
    {
      "cell_type": "markdown",
      "source": [
        "## ***2. Understanding Your Variables***"
      ],
      "metadata": {
        "id": "nA9Y7ga8ng1Z"
      }
    },
    {
      "cell_type": "code",
      "source": [
        "# Dataset Columns\n",
        "col=dff.columns\n",
        "col.tolist()"
      ],
      "metadata": {
        "id": "j7xfkqrt5Ag5"
      },
      "execution_count": null,
      "outputs": []
    },
    {
      "cell_type": "code",
      "source": [
        "# Dataset Describe\n",
        "dff.describe(include='all')"
      ],
      "metadata": {
        "id": "DnOaZdaE5Q5t"
      },
      "execution_count": null,
      "outputs": []
    },
    {
      "cell_type": "markdown",
      "source": [
        "### Variables Description"
      ],
      "metadata": {
        "id": "PBTbrJXOngz2"
      }
    },
    {
      "cell_type": "markdown",
      "source": [
        "All the variables are broadly classified as continuous and categorical variables.\n",
        "\n",
        "**Continuous variables-**\n",
        "\n",
        "1.   eventid-Unique identifier of each recorded terror incident.\n",
        "2.   approxdate-Approximate date of the incident.\n",
        "3.   resolution-Date of resolution of incident if its extended.\n",
        "4.   latitude-Latitude of terror attack.\n",
        "5.   longitude-Longitude of terror attack.\n",
        "6.   location-Location of terror attack\n",
        "7.   summary-Gist of terror incident from start to resolution\n",
        "8.   corp1-First target corporation\n",
        "9.   target1-First target individual or place\n",
        "10.  corp2-Second target corporation\n",
        "11.  target2-Second target individual or place\n",
        "12.  corp3-Third target corporation\n",
        "13.  target3-Third target individual or place\n",
        "14.  gname-Gang name\n",
        "15.  gsubname-Gang subname\n",
        "16.  gname2-Second gang name\n",
        "17.  gsubname2-Second gang subname\n",
        "18.  gname3-Third gang name\n",
        "19.  gsubname3-Third gang subname\n",
        "20.  motive-Motive of terror attack\n",
        "21.  weapdetail-Details of weapons used in terror strike.\n",
        "22.  propvalue-Value of damaged property in terror attack.\n",
        "23.  propcomment-Details of damages\n",
        "24.  nhours-Hours for which taken as a hostage.\n",
        "25.  ndays-Days for which taken as a hostage.\n",
        "26.  divert-Kidnapped,taken as a hostage diverted to which other place.\n",
        "27.  kidhijcountry-Kidnapped hostages country.\n",
        "28.  ransomamt-Amount demanded as ransom.\n",
        "29.  ransomamtus-Amount demanded as ransom from US.\n",
        "30.  ransompaid-Amount paid as ransom.\n",
        "31.  ransompaidus-Amount paid as ransom by US.\n",
        "32.  ransomnote-Ransomnote details.\n",
        "33.  nreleased-Number of hostages released.\n",
        "34.  addnotes-Additional notes\n",
        "35.  scite1-Text editor 1\n",
        "36.  scite2-Text editor 2\n",
        "37.  scite3-Text editor 3\n",
        "38.  dbsource-Source of the terror database.\n",
        "39.  related-Related incidents eventids.\n",
        "\n",
        "\n",
        "\n",
        "**Categorical variables-**\n",
        "1.  iyear-Event year\n",
        "2.  imonth-Event month\n",
        "3.  iday-Event day\n",
        "4.  extended-If the event extended for more than one day(1-yes 0-no)\n",
        "5.  country-Country code where terror incident occured.\n",
        "6.  country_txt-Country name where terror incident occured.\n",
        "7.  region-Region code where terror incident occured.\n",
        "8.  region_txt-Region name where terror incident occured.\n",
        "9.  provstate-Province/State name where terror incident occured.\n",
        "10.  city-City where terror incident occured.\n",
        "11.  specificity-How specific and not general, has been the provided details.\n",
        "12.  vicinity-If the event occured in the neighbourhood of the location(0-No,1-Yes).\n",
        "13.  crit1-Whether 1st criterion for terror attack was fulfilled.(1-Yes/0-No)\n",
        "14.  crit2-Whether 2nd criterion for terror attack was fulfilled.(1-Yes/0-No)\n",
        "15.  crit3-Whether 3rd criterion for terror attack was fulfilled.(1-Yes/0-No)\n",
        "16.  doubtterr-If its doubted to be a terror attack(1-Yes,0-No)\n",
        "17.  alternative-If doubtterr is 1(terror attack is doubtful), codes for the alternatives(1-Insurgency/guerilla action,2-Other crime type,3-Intra/inter-group conflict,4-Lck of intentionality,5-State actors)\n",
        "18.  alternative_txt-If doubtterr is 1(terror attack is doubtful),the alternatives according to the code.\n",
        "19.  multiple-If multiple events(0-No,1-Yes)\n",
        "20.  success-If event was a success(0-No,1-Yes)\n",
        "21.  suicide-Was it a suicide attack(1-Yes,0-No)\n",
        "22.  attacktype1-Code for first type of attack(1-Assasination,2-Armed assault,3-Bombing/Explosion,4-Hijacking,5-Hostage taking/barricade incident,6-Hostage taking/Kidnapping,7-Facility/Infrastucture attack,8-Unarmed assault,9-Unknown)\n",
        "23.  attacktype1_txt-Text for first attack type corresponding to the code.\n",
        "24.  attacktype2-Code for second type of attack.\n",
        "25.  attacktype2_txt-Text for second attack type corresponding to the code.\n",
        "26.  attacktype3-Code for third type of attack\n",
        "27.  attacktype3_txt-Text for third attack type corresponding to the code.\n",
        "28.  targtype1-Codes for first target\n",
        "29.  targtype1_txt-Text for first target type corresponding to the code.\n",
        "30.  targsubtype1-Codes for first target subtype.\n",
        "31.  targsubtype1_txt-Text for first target subtype corresponding to the code.\n",
        "32.  natlty1-Country code of first target\n",
        "33.  natlty1_txt-Country name of first target\n",
        "34.  targtype2-Codes for second target\n",
        "35.  targtype2_txt-Text for second target type corresponding to the code.\n",
        "36. targsubtype2-Codes for second target subtype.\n",
        "37.  targsubtype2_txt-Text for second target subtype corresponding to the code.\n",
        "38.  natlty2-Country code of second target\n",
        "39.  natlty2_txt-Country name of second target\n",
        "40.  targtype3-Codes for third target\n",
        "41.  targtype3_txt-Text for third target type corresponding to the code.\n",
        "42.  targsubtype3-Codes for third target subtype.\n",
        "43.  targsubtype3_txt-Text for third target subtype corresponding to the code.\n",
        "44.  natlty3-Country code of third target\n",
        "45.  natlty3_txt-Country name of third target\n",
        "46.  guncertain1-(If 1st gun certainly used.1-Yes,0-No)\n",
        "47.  guncertain2-(If 2nd gun certainly used.1-Yes,0-No)\n",
        "48.  guncertain3-(If 3rd gun certainly used.1-Yes,0-No)\n",
        "49.  individual-(If individual involved in attack.1-Yes,0-No)\n",
        "50.  nperps-Number of perpetrators involved in attack.\n",
        "51.  nperpcap-Number of perpetrators wearing a cap\n",
        "52.  claimed-Has anyone claimed the attack(1-Yes,0-No)\n",
        "53.  claimmode-Code for the mode of claiming the attack.\n",
        "54.  claimmode_txt-Attack claimed through what mode corresponding to the code.\n",
        "55.  claim2-Has any second claim been made(1-Yes,0-No)\n",
        "56.  claimmode2-If claim2 is 1.Code for the mode of claiming the attack.\n",
        "57.  claimmode2_txt-If claim2 is 1.Attack claimed through what mode corresponding to the code.\n",
        "58.  claim3-Has any third claim been made(1-Yes,0-No)\n",
        "59.  claimmode3-If claim3 is 1.Code for the mode of claiming the attack.\n",
        "60.  claimmode3_txt-If claim3 is 1.Attack claimed through what mode corresponding to the code.\n",
        "61.  compclaim-Has any competing claim been made(1-Yes,0-No)\n",
        "62.  weaptype1-Code of first weapon type\n",
        "63.  weaptype1_txt-Name of first weapon type corresponding to the code\n",
        "64.  weapsubtype1-Code of first weapon subtype\n",
        "65.  weapsubtype1_txt-Name of first weapon subtype corresponding to the code\n",
        "66.  weaptype2-Code of second weapon type\n",
        "67.  weaptype2_txt-Name of second weapon type corresponding to the code\n",
        "68.  weapsubtype2-Code of second weapon subtype\n",
        "69.  weapsubtype2_txt-Name of second weapon subtype corresponding to the code\n",
        "70.  weaptype3-Code of third weapon type\n",
        "71.  weaptype3_txt-Name of third weapon type corresponding to the code\n",
        "72.  weapsubtype3-Code of third weapon subtype\n",
        "73.  weapsubtype3_txt-Name of third weapon subtype corresponding to the code\n",
        "74.  weaptype4-Code of fourth weapon type\n",
        "75.  weaptype4_txt-Name of fourth weapon type corresponding to the code\n",
        "76.  weapsubtype4-Code of fourth weapon subtype\n",
        "77.  weapsubtype4_txt-Name of fourth weapon subtype corresponding to the code\n",
        "78.  nkill-Numbers killed\n",
        "79.  nkillus-Numbers killed among civilians\n",
        "80.  nkillter-Numbers killed aming terrorists\n",
        "81.  nwound-Numbers wounded\n",
        "82.  nwoundus-Numbers wounded among civilians\n",
        "83.  nwoundte-Numbers wounded among terrorists\n",
        "84.  property-Is property damaged(1-Yes,0-No)\n",
        "85.  propextent-Codes for property damage sustained.\n",
        "86.  propextent_txt-Extent of property damage sustained corresponding to codes.\n",
        "87.  ishostkid-Has kidnapping/taken as hostages occured(1-Yes,0-No)\n",
        "88.  nhostkid-Number of kidnapped persons taken as hostages.\n",
        "89.  nhostkidus-Number of kidnapped persons taken as hostages from US.\n",
        "90.  ransom-Was ransom demanded(1-Yes,0-No)\n",
        "91.  hostkidoutcome-Codes for outcome of kidnapped/taken as hostages\n",
        "92.  hostkidoutcome_txt-Details of hostage outcome corresponding to codes.\n",
        "93.  INT_LOG-(1-Yes,0-No)\n",
        "94.  INT_IDEO-(1-Yes,0-No)\n",
        "95.  INT_MISC-(1-Yes,0-No)\n",
        "96.  INT_ANY-(1-Yes,0-No)\n",
        "\n",
        "\n",
        "\n",
        "\n",
        "\n",
        "\n",
        "\n",
        "\n",
        "\n",
        "\n",
        "\n",
        "\n",
        "\n",
        "\n",
        "\n"
      ],
      "metadata": {
        "id": "aJV4KIxSnxay"
      }
    },
    {
      "cell_type": "markdown",
      "source": [
        "### Check Unique Values for each variable."
      ],
      "metadata": {
        "id": "u3PMJOP6ngxN"
      }
    },
    {
      "cell_type": "code",
      "source": [
        "# Check Unique Values for each variable.\n",
        "for i in col.tolist():\n",
        "    print(f\"The number of unique values in column {i} is {dff[i].nunique()}\")"
      ],
      "metadata": {
        "id": "zms12Yq5n-jE"
      },
      "execution_count": null,
      "outputs": []
    },
    {
      "cell_type": "markdown",
      "source": [
        "## 3. ***Data Wrangling***"
      ],
      "metadata": {
        "id": "dauF4eBmngu3"
      }
    },
    {
      "cell_type": "markdown",
      "source": [
        "Data Cleaning"
      ],
      "metadata": {
        "id": "04fOQnSnqWX9"
      }
    },
    {
      "cell_type": "code",
      "source": [
        "#Dropping unwanted columns\n",
        "dffs=dff.drop(['approxdate', 'extended','specificity','vicinity','summary','crit1','crit2','crit3','multiple','gsubname','gname2','gname3','gsubname2','gsubname3','guncertain1','guncertain2','guncertain3','nperpcap','claim2','claim3','claimmode2','claimmode2_txt','claimmode3','claimmode3_txt','compclaim','weaptype2','weaptype2_txt','weapsubtype2','weapsubtype2_txt','weaptype3','weaptype3_txt','weapsubtype3','weapsubtype3_txt','weaptype4','weaptype4_txt','weapsubtype4','weapsubtype4_txt','nkillus','nkillter','nwoundus','nwoundte','propcomment','nhostkidus','nhours','ndays','ransomamtus','ransompaidus','ransomnote','addnotes','scite1','scite2','scite3','dbsource','INT_LOG','INT_IDEO','INT_MISC','INT_ANY','related','resolution','country','region','location','alternative','suicide','attacktype2','attacktype2_txt','attacktype3','attacktype3_txt','corp1','natlty1','targtype2','targtype2_txt','targsubtype2','targsubtype2_txt','corp2','target2','natlty2','natlty2_txt','targtype3','targtype3_txt','targsubtype3','targsubtype3_txt','corp3','target3','natlty3','natlty3_txt','individual','claimmode','weapdetail','divert','kidhijcountry'],axis=1,inplace=True)"
      ],
      "metadata": {
        "id": "wk-9a2fpoLcV"
      },
      "execution_count": null,
      "outputs": []
    },
    {
      "cell_type": "code",
      "source": [
        "#Renaming columns\n",
        "dff.rename(columns={'eventid':'Id','iyear':'Year','imonth':'Month','iday':'Day',\"country_txt\":\"Country\",\"region_txt\":'Region','provstate':'State/Province','city':'City','doubtterr':'Doubtful_terror_attack','alternative_txt':'Alternatives_to_terror_attack','attacktype1':'Attack_type_code','attacktype1_txt':'Attack_type','targtype1':'Target_code','targtype1_txt':'Target','targsubtype1':'Target_subtype_code',\"targsubtype1_txt\":'Target_subtype','natlty1_txt':'Target_nationality','gname':'Gang_name','motive':\"Motive_of_attack\",'nperps':'Number_of_terrorists','claimed':'Attack_claimed','claimmode_txt':'Mode_of_claiming_attack','weaptype1':'Weapon_type_code','weaptype1_txt':'Weapon_type','weapsubtype1':'Weapon_subtype_code','weapsubtype1_txt':'Weapon_subtype','nkill':'Numbers_killed','nwound':'Numbers_wounded','property':'Property_damage(1-yes/0-No)','propextent':'Property_damage_extent_code','propextent_txt':'Property_damage','propvalue':'Damaged_Property_value','ishostkid':'Hostage_taking/kidnapping(1-yes/0-No)','nhostkid':'Numbers_kidnapped','ransom':'Ransom_demanded(1-yes/0-No)','ransomamt':'Ransom_amount_demanded','ransompaid':'Ransom_amount_paid','hostkidoutcome':'Hostages_outcome_code','hostkidoutcome_txt':'Hostages_outcome','nreleased':'Numbers_hostages_released'},inplace=True)"
      ],
      "metadata": {
        "id": "ae2EgHCh-HuI"
      },
      "execution_count": null,
      "outputs": []
    },
    {
      "cell_type": "code",
      "source": [
        "#Addressing missing or invalid data\n",
        "dff.replace('-','NaN',inplace=True)\n",
        "dff.replace(' ','NaN',inplace=True)\n",
        "dff.replace('*','NaN',inplace=True)\n",
        "dff.replace('?','NaN',inplace=True)\n",
        "dff.replace('-99','NaN',inplace=True)\n",
        "dff.replace(-99,'NaN',inplace=True)\n",
        "dff.replace(-9.0,'NaN',inplace=True)\n",
        "dff.replace(-9,'NaN',inplace=True)\n",
        "dff.replace('nan','NaN',inplace=True)\n",
        "dff.replace('Andhra pradesh','Andhra Pradesh',inplace=True)\n",
        "dff.replace('Orissa','Odisha',inplace=True)"
      ],
      "metadata": {
        "id": "7YwH2vpeJCjt"
      },
      "execution_count": null,
      "outputs": []
    },
    {
      "cell_type": "code",
      "source": [
        "#Addressing missing data\n",
        "#Dropping null values (<10% of total number of values in a column)\n",
        "subset=['State/Province','City','Doubtful_terror_attack','Target_subtype_code','Target_subtype','Target_nationality','Numbers_killed','Hostage_taking/kidnapping(1-yes/0-No)','Numbers_wounded']\n",
        "dff=dff.dropna(subset=subset,axis=0,inplace=False)"
      ],
      "metadata": {
        "id": "bAnxjCf68II4"
      },
      "execution_count": null,
      "outputs": []
    },
    {
      "cell_type": "code",
      "source": [
        "#Addressing invalid data and datatype conversion\n",
        "#Mean infilled inplace of NaN for the following columns and changing datatypes to float.\n",
        "\"\"\"\n",
        "1. Damaged_property_value\n",
        "2. Ransom_amount_demanded\n",
        "3. Ransom_amount_paid\n",
        "4. Numbers_hostages_released\n",
        "5. Number_of_terrorists\n",
        "6. Numbers_killed\n",
        "7. Numbers_wounded\n",
        "8. Numbers_kidnapped\n",
        "\"\"\""
      ],
      "metadata": {
        "id": "UtykfnF0J8tm"
      },
      "execution_count": null,
      "outputs": []
    },
    {
      "cell_type": "code",
      "source": [
        "#Data type conversions\n",
        "dff['Ransom_amount_demanded'] = pd.to_numeric(dff['Ransom_amount_demanded'],errors = 'coerce')\n",
        "dff['Ransom_amount_paid'] = pd.to_numeric(dff['Ransom_amount_paid'],errors = 'coerce')\n",
        "dff['Numbers_hostages_released'] = pd.to_numeric(dff['Numbers_hostages_released'],errors = 'coerce')\n",
        "dff['Numbers_kidnapped'] = pd.to_numeric(dff['Numbers_kidnapped'],errors = 'coerce')\n",
        "dff['Damaged_Property_value'] = pd.to_numeric(dff['Damaged_Property_value'],errors = 'coerce')\n",
        "\n",
        "\n",
        "#Mean value calculation\n",
        "mean_ransomamt=dff[dff['Ransom_demanded(1-yes/0-No)']==1]['Ransom_amount_demanded'].astype(float).mean()\n",
        "mean_ransompaid=dff[dff['Ransom_demanded(1-yes/0-No)']==1]['Ransom_amount_paid'].astype(float).mean()\n",
        "mean_nreleased=dff[dff['Hostage_taking/kidnapping(1-yes/0-No)']==1]['Numbers_hostages_released'].astype(float).mean()\n",
        "mean_nhostkid=dff[dff['Hostage_taking/kidnapping(1-yes/0-No)']==1]['Numbers_kidnapped'].astype(float).mean()\n",
        "mean_prop_value=dff[dff['Property_damage(1-yes/0-No)']==1]['Damaged_Property_value'].astype(float).mean()\n",
        "\n",
        "#Infilling above calculated mean value for NaN\n",
        "dff[dff['Ransom_demanded(1-yes/0-No)']==1]['Ransom_amount_demanded'].fillna(value=mean_ransomamt,inplace=True)\n",
        "dff[dff['Ransom_demanded(1-yes/0-No)']==1]['Ransom_amount_paid'].fillna(value=mean_ransompaid,inplace=True)\n",
        "dff[dff['Ransom_demanded(1-yes/0-No)']==1]['Numbers_hostages_released'].fillna(value=mean_nreleased,inplace=True)\n",
        "dff[dff['Ransom_demanded(1-yes/0-No)']==1]['Numbers_kidnapped'].fillna(value=mean_nhostkid,inplace=True)\n",
        "dff[dff['Property_damage(1-yes/0-No)']==1]['Damaged_Property_value'].fillna(value=mean_prop_value,inplace=True)\n",
        "\n",
        "#Infilling mean in place of missing data and datatype conversion for remaining three columns.\n",
        "al=['Numbers_killed','Numbers_wounded','Number_of_terrorists']\n",
        "for i in al:\n",
        "    dff[i] = pd.to_numeric(dff[i],errors = 'coerce')\n",
        "    dff[i].fillna(value=dff[i].astype(float).mean(),inplace=True)\n",
        "\n",
        "#Handling invalid values\n",
        "#Dropping rows for which month and days values is '0'\n",
        "ld=list(dff[dff['Month']==0].index)\n",
        "lm=list(dff[dff['Day']==0].index)\n",
        "l=list(set(ld+lm))\n",
        "dff.drop(index=l,inplace=True)"
      ],
      "metadata": {
        "id": "TdZcyt9y0oXF"
      },
      "execution_count": null,
      "outputs": []
    },
    {
      "cell_type": "code",
      "source": [
        "#Deduplication for duplicated rows\n",
        "dff.duplicated()"
      ],
      "metadata": {
        "id": "nx7kx2OdR9Xo"
      },
      "execution_count": null,
      "outputs": []
    },
    {
      "cell_type": "markdown",
      "source": [
        "Data enrichment"
      ],
      "metadata": {
        "id": "xUiCh45Sq68k"
      }
    },
    {
      "cell_type": "code",
      "source": [
        "#Column addition and Binning\n",
        "\"\"\"\n",
        "Adding new column 'Decade' with the condition as:-\n",
        " '1970s' if 1970<=x<=1979\n",
        " '1980s' if 1980<=x<=1989\n",
        " '1990s' if 1990<=x<=1999\n",
        " '2000s' if 2000<=x<=2009\n",
        " '2010s' if x>=2000\n",
        "\"\"\"\n",
        "dff['Decade']=dff['Year'].apply(lambda x:'1970s' if 1970<=x<=1979 else '1980s' if 1980<=x<=1989 else '1990s' if 1990<=x<=1999 else '2000s' if 2000<=x<=2009 else '2010s')"
      ],
      "metadata": {
        "id": "PMmMQeDfqRT-"
      },
      "execution_count": null,
      "outputs": []
    },
    {
      "cell_type": "code",
      "source": [
        "#Adding new column Casualty\n",
        "dff['Casualty']=dff['Numbers_killed']+dff['Numbers_wounded']"
      ],
      "metadata": {
        "id": "gF8kOVFJr4NS"
      },
      "execution_count": null,
      "outputs": []
    },
    {
      "cell_type": "code",
      "source": [
        "kl=dff.groupby('Gang_name')['Casualty'].sum()"
      ],
      "metadata": {
        "id": "21Nhjk8BCLKE"
      },
      "execution_count": null,
      "outputs": []
    },
    {
      "cell_type": "code",
      "source": [
        "#Categorising gangs as Severe(S),Dangerous(D) and High(H) based on killings and no. of regions of operation.\n",
        "#Most Dangerous if Casualty>1000 or regions>6\n",
        "#More Dangerous if 100<Casualty<1000 or regions>2-6\n",
        "#Dangerous if Casualty<100  or regions<2\n",
        "\n",
        "reg=dff.groupby('Gang_name')['Region'].nunique()\n",
        "\n",
        "def gang_rating(g):\n",
        "            if (kl[g]>1000) or (reg[g]>6):\n",
        "                return 'Most dangerous'\n",
        "            elif(100<=kl[g]<1000) or (2<reg[g]<=6):\n",
        "                return 'More dangerous'\n",
        "            else:\n",
        "                return 'Dangerous'"
      ],
      "metadata": {
        "id": "HFlz2_0-sEe0"
      },
      "execution_count": null,
      "outputs": []
    },
    {
      "cell_type": "code",
      "source": [
        "#Adding new column 'Gang Category and binning gangs into it.\n",
        "dff['Gang Category']=dff['Gang_name'].apply(gang_rating)"
      ],
      "metadata": {
        "id": "xK2GOjvGsL5r"
      },
      "execution_count": null,
      "outputs": []
    },
    {
      "cell_type": "code",
      "source": [
        "#Subset of India specific data\n",
        "df_india=dff[dff['Country']=='India']"
      ],
      "metadata": {
        "id": "yFvy6hi-tI7f"
      },
      "execution_count": null,
      "outputs": []
    },
    {
      "cell_type": "markdown",
      "source": [
        "Data Aggregation"
      ],
      "metadata": {
        "id": "OYtQbuMjCm9N"
      }
    },
    {
      "cell_type": "code",
      "source": [
        "#Dataframe used for Temporal analysis and spatial count of events\n",
        "dff"
      ],
      "metadata": {
        "id": "TIaCKFF_DfTR"
      },
      "execution_count": null,
      "outputs": []
    },
    {
      "cell_type": "code",
      "source": [
        "#For combining spatial and temporal aspects\n",
        "unidec=dff['Decade'].unique()\n"
      ],
      "metadata": {
        "id": "kykVVMpN09i6"
      },
      "execution_count": null,
      "outputs": []
    },
    {
      "cell_type": "code",
      "source": [
        "#Findings using boxplot\n",
        "dff_dm=dff[['Day','Month']]\n",
        "dff_atw=dff[['Attack_type_code','Target_code','Weapon_type_code']]"
      ],
      "metadata": {
        "id": "MA8LLj5CUyG8"
      },
      "execution_count": null,
      "outputs": []
    },
    {
      "cell_type": "code",
      "source": [
        "#Alternatives to terrorist attack if terror event is doubtful\n",
        "s11=dff['Alternatives_to_terror_attack'].value_counts()\n",
        "#Attack types\n",
        "s12=dff['Attack_type'].value_counts()"
      ],
      "metadata": {
        "id": "gTPxd7WoVPGV"
      },
      "execution_count": null,
      "outputs": []
    },
    {
      "cell_type": "code",
      "source": [
        "#Effect on logistics and supply chain\n",
        "d1=dff[dff['Target']=='Airports & Aircraft']['Country'].value_counts()\n",
        "d2=dff[dff['Target']=='Maritime']['Country'].value_counts()\n",
        "d3=dff[dff['Target']=='Transportation']['Country'].value_counts()\n",
        "d_final=pd.concat([d1,d2,d3],axis=1)"
      ],
      "metadata": {
        "id": "-nanYhx3qxOs"
      },
      "execution_count": null,
      "outputs": []
    },
    {
      "cell_type": "code",
      "source": [
        "#Journalist target\n",
        "s=dff[dff['Target']=='Journalists & Media'][['Country','Motive_of_attack']]\n",
        "s.dropna(inplace=True)\n",
        "#Case-1 PROTEST\n",
        "s1=s[s['Motive_of_attack'].str.contains(pat='protest')].count()\n",
        "#Case-2 WARNING\n",
        "s2=s[s['Motive_of_attack'].str.contains(pat='warn')].count()\n",
        "#Case-3 COMMUNICATION\n",
        "s3=s[s['Motive_of_attack'].str.contains(pat='communi')].count()\n",
        "#Case-4 RETALIATION\n",
        "s4=s[s['Motive_of_attack'].str.contains(pat='retal')].count()\n",
        "#Case-5 INTIMIDATE\n",
        "s5=s[s['Motive_of_attack'].str.contains(pat='intimi')].count()\n",
        "#Case-6 FREEDOM\n",
        "s6=s[s['Motive_of_attack'].str.contains(pat='free')].count()\n",
        "reasons=['Protest','Warning','Communication','Retaliation','Intimidation','Seek_Freedom']\n",
        "ss=[s1['Motive_of_attack'],s2['Motive_of_attack'],s3['Motive_of_attack'],s4['Motive_of_attack'],s5['Motive_of_attack'],s6['Motive_of_attack']]"
      ],
      "metadata": {
        "id": "fJuGsxIb1DvR"
      },
      "execution_count": null,
      "outputs": []
    },
    {
      "cell_type": "code",
      "source": [
        "#Tourist as target\n",
        "sf=dff[dff['Target']=='Tourists'][['Hostage_taking/kidnapping(1-yes/0-No)','Country']]"
      ],
      "metadata": {
        "id": "S166b_AY2hGG"
      },
      "execution_count": null,
      "outputs": []
    },
    {
      "cell_type": "code",
      "source": [
        "#Communal terror-Countries where no. of terror incidents fuelled by communalism is more than 50.\n",
        "ctq=dff[dff['Target']=='Religious Figures/Institutions']['Country'].value_counts()\n",
        "dct=dict(ctq)\n",
        "type(dct)\n",
        "res={}\n",
        "res = {key:val for key,val in dct.items() if val > 50}\n",
        "ct=pd.Series(res)"
      ],
      "metadata": {
        "id": "WERrIIMa2mab"
      },
      "execution_count": null,
      "outputs": []
    },
    {
      "cell_type": "code",
      "source": [
        "#Attack claimed\n",
        "q1=dff[['Attack_claimed','Mode_of_claiming_attack','Property_damage','Hostage_taking/kidnapping(1-yes/0-No)','Casualty']]\n",
        "q2=q1[q1['Attack_claimed']==1.0]\n",
        "q3=q2['Mode_of_claiming_attack'].value_counts()\n"
      ],
      "metadata": {
        "id": "VUFwvXUP22mA"
      },
      "execution_count": null,
      "outputs": []
    },
    {
      "cell_type": "code",
      "source": [
        "#Cities with catastrophic property damage\n",
        "ac=dff[dff['Property_damage']=='Catastrophic (likely >= $1 billion)']['City'].value_counts()\n",
        "#Countries with major property damage\n",
        "az=dff[dff['Property_damage']=='Major (likely >= $1 million but < $1 billion)']\n",
        "#Regions with minor damage\n",
        "ay=dff[dff['Property_damage']=='Minor (likely < $1 million)']['Region'].value_counts()"
      ],
      "metadata": {
        "id": "q2r0UvRS27vk"
      },
      "execution_count": null,
      "outputs": []
    },
    {
      "cell_type": "code",
      "source": [
        "#Weapon analysis\n",
        "w=dff.groupby(dff['Weapon_type']).count()"
      ],
      "metadata": {
        "id": "FRriSiBc5kI6"
      },
      "execution_count": null,
      "outputs": []
    },
    {
      "cell_type": "code",
      "source": [
        "#Successful rescue of hostages\n",
        "h=dff[dff['Hostages_outcome']=='Successful Rescue']"
      ],
      "metadata": {
        "id": "aQk2iT7l2-_z"
      },
      "execution_count": null,
      "outputs": []
    },
    {
      "cell_type": "code",
      "source": [
        "#INDIA Specific\n",
        "#Temporal\n",
        "df_india"
      ],
      "metadata": {
        "id": "4-zlgZ9lxDEv"
      },
      "execution_count": null,
      "outputs": []
    },
    {
      "cell_type": "code",
      "source": [
        "#Spatial\n",
        "gdf_india = gpd.GeoDataFrame(df_india,geometry=gpd.points_from_xy(df_india.longitude, df_india.latitude),crs=\"EPSG:4326\")\n",
        "gdf_india.to_file('my_shapefile.shp', driver='ESRI Shapefile')\n",
        "india_map = gpd.read_file('my_shapefile.shp')"
      ],
      "metadata": {
        "id": "neasaM-W-z8r"
      },
      "execution_count": null,
      "outputs": []
    },
    {
      "cell_type": "code",
      "source": [
        "#Analysing bombing/explosion by day and month\n",
        "d_m=df_india[df_india['Attack_type']=='Bombing/Explosion']['Month'].value_counts()\n",
        "d_d=df_india[df_india['Attack_type']=='Bombing/Explosion']['Day'].value_counts()"
      ],
      "metadata": {
        "id": "dwla9pVz-3X7"
      },
      "execution_count": null,
      "outputs": []
    },
    {
      "cell_type": "code",
      "source": [
        "#Targets of bombing/explosion\n",
        "tb=df_india[df_india['Attack_type']=='Bombing/Explosion']['Target'].value_counts()"
      ],
      "metadata": {
        "id": "9ZtkOPuh0ajx"
      },
      "execution_count": null,
      "outputs": []
    },
    {
      "cell_type": "code",
      "source": [
        "#Targets of hostage takking/barricade incidents\n",
        "th=df_india[df_india['Attack_type']=='Hostage Taking (Barricade Incident)']['Target'].value_counts()"
      ],
      "metadata": {
        "id": "XoRjjEWD0nEw"
      },
      "execution_count": null,
      "outputs": []
    },
    {
      "cell_type": "code",
      "source": [
        "#Businesses targetted by Hostage Taking (Barricade Incident)\n",
        "dbb=df_india[(df_india['Attack_type']=='Hostage Taking (Barricade Incident)') & (df_india['Target']=='Business')]['Target_subtype'].value_counts()"
      ],
      "metadata": {
        "id": "U0kUGkGk0qwU"
      },
      "execution_count": null,
      "outputs": []
    },
    {
      "cell_type": "code",
      "source": [
        "#Gangs targetting businesses\n",
        "dbb1=df_india[(df_india['Attack_type']=='Hostage Taking (Barricade Incident)') & (df_india['Target']=='Business')]['Gang_name'].value_counts()"
      ],
      "metadata": {
        "id": "KVpvBC6e0ziM"
      },
      "execution_count": null,
      "outputs": []
    },
    {
      "cell_type": "code",
      "source": [
        "#Regions where most hostage taking(Barricade incidents) have occurred.\n",
        "dbb4=df_india[df_india['Attack_type']=='Hostage Taking (Barricade Incident)']['State/Province'].value_counts()"
      ],
      "metadata": {
        "id": "RGI5F5xq04PL"
      },
      "execution_count": null,
      "outputs": []
    },
    {
      "cell_type": "code",
      "source": [
        "#Targets of armed assault\n",
        "dbb5=df_india[df_india['Attack_type']=='Armed Assault']['Target'].value_counts()"
      ],
      "metadata": {
        "id": "qhPwmucV_Tx0"
      },
      "execution_count": null,
      "outputs": []
    },
    {
      "cell_type": "code",
      "source": [
        "#Which gangs involved in Hijacking events\n",
        "dbb9=df_india[df_india['Attack_type']=='Hijacking']['Gang_name'].value_counts()"
      ],
      "metadata": {
        "id": "3Xmv8qN-_1pT"
      },
      "execution_count": null,
      "outputs": []
    },
    {
      "cell_type": "code",
      "source": [
        "#Hijacking\n",
        "hij=df_india[df_india['Attack_type']=='Hijacking']\n",
        "hij_grp=hij.groupby(dff['Target']).count()"
      ],
      "metadata": {
        "id": "KB6-BVto1WNW"
      },
      "execution_count": null,
      "outputs": []
    },
    {
      "cell_type": "code",
      "source": [
        "#Foreign targets\n",
        "fo=df_india[(df_india['Target_nationality']!='India')]\n",
        "fo_grp=df_india[(df_india['Target_nationality']!='India')].groupby(dff['Attack_type'])"
      ],
      "metadata": {
        "id": "uUIrL5DdAWge"
      },
      "execution_count": null,
      "outputs": []
    },
    {
      "cell_type": "code",
      "source": [
        "#Assasination events targets\n",
        "dbb0=df_india[df_india['Attack_type']=='Assassination']['Target'].value_counts()"
      ],
      "metadata": {
        "id": "Y-xvK4CTAgzi"
      },
      "execution_count": null,
      "outputs": []
    },
    {
      "cell_type": "code",
      "source": [
        "#Weapons used grouped by terror groups.\n",
        "wep=dff.groupby('Gang_name')['Weapon_type'].unique()"
      ],
      "metadata": {
        "id": "CTzoNML84_xT"
      },
      "execution_count": null,
      "outputs": []
    },
    {
      "cell_type": "code",
      "source": [
        "#What are the types of explosives.\n",
        "exp=dff[dff['Weapon_type']=='Explosives']['Weapon_subtype'].unique()"
      ],
      "metadata": {
        "id": "loYg35wVAg2i"
      },
      "execution_count": null,
      "outputs": []
    },
    {
      "cell_type": "code",
      "source": [
        "#What are the types of firearms.\n",
        "ff=dff[dff['Weapon_type']=='Firearms']['Weapon_subtype'].unique()"
      ],
      "metadata": {
        "id": "FOeB7qobAg5S"
      },
      "execution_count": null,
      "outputs": []
    },
    {
      "cell_type": "code",
      "source": [
        "#Diff types of incendiary\n",
        "ic=dff[dff['Weapon_type']=='Incendiary']['Weapon_subtype'].unique()"
      ],
      "metadata": {
        "id": "wyhe-LnkAg8d"
      },
      "execution_count": null,
      "outputs": []
    },
    {
      "cell_type": "code",
      "source": [
        "#Diff types of Melee\n",
        "me=dff[dff['Weapon_type']=='Melee']['Weapon_subtype'].unique()"
      ],
      "metadata": {
        "id": "2WXaLPWg_kTD"
      },
      "execution_count": null,
      "outputs": []
    },
    {
      "cell_type": "code",
      "source": [
        "#Diff types of Chemical weapons\n",
        "ch=dff[dff['Weapon_type']=='Chemical']['Weapon_subtype'].unique()"
      ],
      "metadata": {
        "id": "_vOUktMwA5sA"
      },
      "execution_count": null,
      "outputs": []
    },
    {
      "cell_type": "code",
      "source": [
        "#Diff types of Bioloical weapons\n",
        "bw=dff[dff['Weapon_type']=='Biological']['Weapon_subtype'].unique()"
      ],
      "metadata": {
        "id": "jg74e36zA5zK"
      },
      "execution_count": null,
      "outputs": []
    },
    {
      "cell_type": "code",
      "source": [
        "#Gangs active in India grouped by category\n",
        "dqp=df_india[['Gang_name','Casualty','Gang Category']]\n",
        "da=dqp.groupby(df_india['Gang Category'])['Casualty'].count()"
      ],
      "metadata": {
        "id": "XFOXy3WUM3i-"
      },
      "execution_count": null,
      "outputs": []
    },
    {
      "cell_type": "code",
      "source": [
        "#Most dangerous gangs by no. of casualties\n",
        "dq_sum=dqp[dqp['Gang_name']!='Unknown'].groupby('Gang Category')['Casualty'].sum()/100"
      ],
      "metadata": {
        "id": "1m2bxGzACSTx"
      },
      "execution_count": null,
      "outputs": []
    },
    {
      "cell_type": "code",
      "source": [
        "#For heat map\n",
        "data1=df_india[['Number_of_terrorists','Casualty','Damaged_Property_value','Ransom_amount_demanded','Attack_claimed']]"
      ],
      "metadata": {
        "id": "9dvt8kvmtkJZ"
      },
      "execution_count": null,
      "outputs": []
    },
    {
      "cell_type": "code",
      "source": [
        "#For pair plot\n",
        "dd=['Day','Month','Number_of_terrorists','Casualty','Damaged_Property_value','Ransom_amount_demanded']"
      ],
      "metadata": {
        "id": "dzePYBVJttxH"
      },
      "execution_count": null,
      "outputs": []
    },
    {
      "cell_type": "markdown",
      "source": [
        "### What all manipulations have you done and insights you found?"
      ],
      "metadata": {
        "id": "MSa1f5Uengrz"
      }
    },
    {
      "cell_type": "markdown",
      "source": [
        "**The following manipulations have been done:-**\n",
        "\n",
        "**Data cleaning**\n",
        "1. Dropping unwanted columns.\n",
        "2. Renaming columns.\n",
        "3. Addressing missing/invalid data.\n",
        "   Dropping rows with invalid data\n",
        "   Replacing invalid values with NaN.\n",
        "   Infilling missing values as NaN.\n",
        "   Dropping null values (<10% of total number of values in a column)\n",
        "   Mean infilled inplace of NaN for few columns.\n",
        "4. Datatype converion\n",
        "5. Deduplicaton of rows\n",
        "\n",
        "**Data enrichment**\n",
        "1. Column addition\n",
        "2. Binning\n",
        "3. Taking subset of dataframe\n",
        "\n",
        "**Data aggregation**\n",
        "1. dff dataframe to be used as a universal dataframe for analysis.\n",
        "2. The unique values of decades are obtained in unidec.\n",
        "3. Subdataframes dff_dm and dff_atw with required columns.\n",
        "4. Counts for various terror attack alternatives and various attack types are stored in series.\n",
        "5. Filtering dff for the no. of times air,marine and transport targets are targetted in various countries.\n",
        "6. Filtering dff for target of attack as Journalists and Media.Taking motive column and obtaining series with counts of presence of some keywords['Protest','Warning','Communication','Retaliation','Intimidation','Seek_Freedom'] as reasons for attacking Journalists).\n",
        "7. Filtering dff for target of attack as Tourists.Taking Countries column and if kidnappings happened for further analysis.\n",
        "8. dff if filtered for countries where more than 50 terror events have targetted religious figures/institutions.A new dictionary is formed with keys:values as coutries and count of such incidents.\n",
        "9. A subdataframe is formed and filtered for attacks which are claimed.Then a count of various modes of claiming the attack is obtained.\n",
        "10. A series with count of terror events causing catastrophic,major and minor property losses is obtained for cities,countries and regions respectively by filtering dff.\n",
        "11. A count of various weapons used in all terror events is obtained.\n",
        "12. dff is filtered to get countries with successful rescue of hostages.\n",
        "\n",
        "**Data aggregation-India specific**\n",
        "1. df_india is a subdataframe, obtained from dff for India specific analyis.\n",
        "2. To plot India map,a geodataframe gdf_india is obtained.Shape file for India map is obtained and is read in object india_map.\n",
        "3. df_india is filtered for date and month of Bombing/Explosion as terror attack type.\n",
        "4. Targets of bombing/explosion are filtered from df_india.\n",
        "5. Targets of hostage taking/barricade incidents are filtered from df_india.\n",
        "6. The count of businesses targetted by hostage taking/barricade incidents is obtained as a series and a series of gangs targetting businesses by hostage taking/barricade incidents is obtained.\n",
        "7. State/Provinces with frequency of hostage taking/barricade incidents is obtained.\n",
        "8. Targets of armed assault and assassination are obtained.\n",
        "9. Gangs involved in hijacking are obtained as a series.\n",
        "10. A count of various targets of hijacking is obtained as a series.\n",
        "11. Targets in India which are not Indians are filtered from df_india,and further grouped based on type of terror attack it faced.\n",
        "12. All gangs in India are categorised based on severity, and then sum of all casualties obtained for all gangs in every category.  \n",
        "\n",
        "**INSIGHTS found:-**\n",
        "1. Original dataframe had 135 columns.The useful dataframe has been reduced to just 45 columns.\n",
        "2. Most columns are vaguely named.They are renamed to be self explanatory.\n",
        "3. Many columns have mixed datatypes.They have been converted to suitable datatypes.\n",
        "4. There are no duplicate rows.\n",
        "5. The missing values in various columns are replaced by NaN for categorical data and mean value for continuous data.\n",
        "6. Date and Month column has some invalid values.The rows corresponding to them are dropped.\n",
        "7. If the column has less than 10% NaN values.Those rows are dropped.\n",
        "8. New columns Decade and Gang Category are added, to categorise Years and Gangs.\n",
        "9. Casualty columns sums the killings and woundings together.\n",
        "10. The resulting datafframe is ready for analysis.A sub dataframe df_India is also taken to analyse terrorism specific to India as a case study.All data aggregation results are used to plot relevant figures using python libraries.\n"
      ],
      "metadata": {
        "id": "LbyXE7I1olp8"
      }
    },
    {
      "cell_type": "markdown",
      "source": [
        "## ***4. Data Vizualization, Storytelling & Experimenting with charts : Understand the relationships between variables***"
      ],
      "metadata": {
        "id": "GF8Ens_Soomf"
      }
    },
    {
      "cell_type": "markdown",
      "source": [
        "#### Chart - 1"
      ],
      "metadata": {
        "id": "0wOQAZs5pc--"
      }
    },
    {
      "cell_type": "code",
      "source": [
        "# Chart - 1 visualization code\n",
        "#Temporal trends of terror events\n",
        "fig, axs = plt.subplots(2, 2)\n",
        "plt.subplots_adjust(wspace=0.4, hspace=0.4)\n",
        "fig.set_size_inches(10, 10)\n",
        "plt.subplot(2,2,1)\n",
        "sns.histplot(data=dff,x='Year')\n",
        "plt.title(\"Terror event count year wise\")\n",
        "plt.xlabel('Year')\n",
        "plt.subplot(2,2,2)\n",
        "sns.lineplot(data=dff,x='Year',y='Casualty')\n",
        "plt.ylabel('Casualty(in thousands)')\n",
        "plt.xlabel('Year')\n",
        "plt.title(\"Year wise trend in terrorism related casualty\")\n",
        "plt.subplot(2,2,3)\n",
        "sns.countplot(data=dff,x='Decade')\n",
        "plt.title(\"Terror event count decade wise\")\n",
        "plt.subplot(2,2,4)\n",
        "sns.countplot(data=dff,x='Month')\n",
        "plt.xlabel('Month')\n",
        "plt.title(\"Terror events count per month\")\n",
        "plt.show()"
      ],
      "metadata": {
        "id": "7v_ESjsspbW7"
      },
      "execution_count": null,
      "outputs": []
    },
    {
      "cell_type": "markdown",
      "source": [
        "##### 1. Why did you pick the specific chart?"
      ],
      "metadata": {
        "id": "K5QZ13OEpz2H"
      }
    },
    {
      "cell_type": "markdown",
      "source": [
        "Various **temporal trends** are to be probed.Variables considered are-**Number of terror events and Number of casualties.**\n",
        "We have to plot their number of occurences,hence **histplot is used for yearwise trends.**\n",
        "**Countplot** is used for **decadewise trends and monthwise** trends in number of terror events.\n",
        "**Lineplot** is used to plot **casualties** against years.\n",
        "All four plots need to be **spaced** carefully, hence **subplots** are used."
      ],
      "metadata": {
        "id": "cOnw6wQsdGhs"
      }
    },
    {
      "cell_type": "markdown",
      "source": [
        "##### 2. What is/are the insight(s) found from the chart?"
      ],
      "metadata": {
        "id": "lQ7QKXXCp7Bj"
      }
    },
    {
      "cell_type": "markdown",
      "source": [
        "1. **Terror event**s have **increased** in recent years.**2014 **recorded the **highest** number of terror events nearing 14000.\n",
        "2. The **decade of 2010-2017** experienced **highest** number of terror events in last five decades with count exceeding 70000.It is disproportionately more than in last 4 decades when terror events were under 30000.\n",
        "3. Terror events have been **distributed almost equally through all months** of the year.However **most** terror events have occured in months of **May**,followed by in July.\n",
        "4.  Terrorism related **casualties(fatalities+wounding) have decresed since 2007, but still hovers above 5000** a year,which is worrisome."
      ],
      "metadata": {
        "id": "C_j1G7yiqdRP"
      }
    },
    {
      "cell_type": "markdown",
      "source": [
        "##### 3. Will the gained insights help creating a positive business impact?\n",
        "Are there any insights that lead to negative growth? Justify with specific reason."
      ],
      "metadata": {
        "id": "448CDAPjqfQr"
      }
    },
    {
      "cell_type": "markdown",
      "source": [
        "1. Increasing terror events create **negative sentiments** for most businesses to operate,hence increasing terror events may lead to **negative growth.**\n",
        "2. To tackle rising terrorism incidents **warrants alert and armed police and security mechanism**, it would create avenues for **businesses related to anti-terror arms,warfare and equipments** to boom."
      ],
      "metadata": {
        "id": "3cspy4FjqxJW"
      }
    },
    {
      "cell_type": "markdown",
      "source": [
        "#### Chart - 2"
      ],
      "metadata": {
        "id": "KSlN3yHqYklG"
      }
    },
    {
      "cell_type": "code",
      "source": [
        "# Chart - 2 visualization code\n",
        "#Spatial distribution of terror events\n",
        "\"\"\"\n",
        "gdf_world = gpd.GeoDataFrame(dff,geometry=gpd.points_from_xy(dff.longitude, dff.latitude),crs=\"EPSG:4326\")\n",
        "gdf_world.to_file('myworld_shapefile.shp', driver='ESRI Shapefile')\n",
        "fig, ax = plt.subplots(figsize = (10,10))\n",
        "world_map = gpd.read_file('myworld_shapefile.shp')\n",
        "world_map.to_crs(epsg=4326).plot(ax=ax, color='lightgrey')\n",
        "gdf_world.plot(ax=ax,alpha=.3,markersize = 10,color='crimson')\n",
        "ax.set_title('Location of terror attacks in the World')\n",
        "plt.show()\n",
        "\"\"\"\n",
        "sns.countplot(data=dff,y='Region')\n",
        "plt.ylabel('Region')\n",
        "plt.title(\"Terror events count for every region\",fontsize=10)\n",
        "plt.show()\n",
        "fig, axs = plt.subplots()\n",
        "fig.set_size_inches(15,50)\n",
        "sns.countplot(data=dff,y='Country')\n",
        "plt.ylabel('Country')\n",
        "plt.title(\"Terror events count for every country\",fontsize=15)\n",
        "plt.show()"
      ],
      "metadata": {
        "id": "R4YgtaqtYklH"
      },
      "execution_count": null,
      "outputs": []
    },
    {
      "cell_type": "markdown",
      "source": [
        "##### 1. Why did you pick the specific chart?"
      ],
      "metadata": {
        "id": "t6dVpIINYklI"
      }
    },
    {
      "cell_type": "markdown",
      "source": [
        "We pick **countplot, with y representing various regions**, to depict the total number of terror events which have occured in various regions of the world since 1970.\n",
        "For **countries comparison, we again use countplot since we have to compare the countries** based on the no. of terror events which happened there.It brings an element of **diversity and visual appeal** in presentation.\n"
      ],
      "metadata": {
        "id": "5aaW0BYyYklI"
      }
    },
    {
      "cell_type": "markdown",
      "source": [
        "##### 2. What is/are the insight(s) found from the chart?"
      ],
      "metadata": {
        "id": "ijmpgYnKYklI"
      }
    },
    {
      "cell_type": "markdown",
      "source": [
        "1. **Middle East & North Africa** has experienced **most terror events** amongst all regions  of the world with count exceeding 40000.\n",
        "2. **South Asia closely follows** Middle East & North Africa with count reaching 40000.Its alarming as it the most populous region of the world.\n",
        "3. Amongst **developed world,Western Europe** has suffered most number of terror related incidents.\n",
        "4. **Iraq **is the country with **most terror related incidents.**\n",
        "5. **Other** countries which have bore the maximum brunt of terror events**(>10000 events) are Pakistan,Afghanistan and India.**"
      ],
      "metadata": {
        "id": "PSx9atu2YklI"
      }
    },
    {
      "cell_type": "markdown",
      "source": [
        "##### 3. Will the gained insights help creating a positive business impact?\n",
        "Are there any insights that lead to negative growth? Justify with specific reason."
      ],
      "metadata": {
        "id": "-JiQyfWJYklI"
      }
    },
    {
      "cell_type": "markdown",
      "source": [
        "1. **Middle East & North Africa is a dangerous** region for businesses to operate.Its particularly worrisome as region houses **petrorefining and transportation firms(major shipping lanes in the region)**.\n",
        "2. Also the region has **scope for solar energy,which calls for necessary measures** to be deployed by companies in the sector operating in the region.\n",
        "3. The regions **ultra rich focus on construction activity,demands that adequate security measures** be deployed by companies in the sector operating in the region.\n",
        "4. **South Asia is a consumer and labour surplus** region, thus its receiving more **investment** as a result of global supply chain restructuring after Covid.Its important that companies take sufficient **precautionary** measures considering terror event history of the region.  "
      ],
      "metadata": {
        "id": "BcBbebzrYklV"
      }
    },
    {
      "cell_type": "markdown",
      "source": [
        "#### Chart - 3"
      ],
      "metadata": {
        "id": "EM7whBJCYoAo"
      }
    },
    {
      "cell_type": "code",
      "source": [
        "# Chart - 3 visualization code\n",
        "#Combining spatial and temporal aspects in terror events occurence\n",
        "f = plt.figure()\n",
        "f.set_figwidth(10)\n",
        "f.set_figheight(50)\n",
        "colours = {'North America': 'C0','South America':'C1','Western Europe':'C2','Central America & Caribbean':'C3', 'Southeast Asia':'C4',\n",
        "       'Middle East & North Africa':'C5', 'Eastern Europe':'C6',\n",
        "       'Australasia & Oceania':'C7', 'South Asia':'C8', 'Sub-Saharan Africa':'C9',\n",
        "       'East Asia':'C10', 'Central Asia':'C11'}\n",
        "for i in range(len(unidec)):\n",
        "        D=dff[dff['Decade']==unidec[i]]['Region'].value_counts()\n",
        "        plt.subplot(len(unidec)+1,1,i+1)\n",
        "        plt.title(f\"Terror events share in {unidec[i]}\")\n",
        "        plt.pie(D.values,labels=D.keys(),autopct='%1.2f%%',colors=[colours[key] for key in D.keys()])\n",
        "        centre_circle = plt.Circle((0, 0), 0.70, fc='white')\n",
        "        fig = plt.gcf()\n",
        "        fig.gca().add_artist(centre_circle)\n",
        "plt.show()\n",
        "\n",
        "fig, axs = plt.subplots()\n",
        "plt.subplots_adjust(wspace=0.4, hspace=0.4)\n",
        "fig.set_size_inches(25,5)\n",
        "sns.countplot(data=dff,x='Region',hue='Decade')\n",
        "plt.xlabel('Region',fontsize=15)\n",
        "plt.title(\"Terror events count for every region\",fontsize=15)\n",
        "plt.show()\n"
      ],
      "metadata": {
        "id": "t6GMdE67YoAp"
      },
      "execution_count": null,
      "outputs": []
    },
    {
      "cell_type": "markdown",
      "source": [
        "##### 1. Why did you pick the specific chart?"
      ],
      "metadata": {
        "id": "fge-S5ZAYoAp"
      }
    },
    {
      "cell_type": "markdown",
      "source": [
        "Donut charts are used to plot trends of number of terror events in every region with decade.It is easily understandable in the situation and is visually pleasing.Along with it, a countplot depicts the trend in no. of terror events for every decade in various regions for better comparison among regions and temporal trends of a region.\n"
      ],
      "metadata": {
        "id": "5dBItgRVYoAp"
      }
    },
    {
      "cell_type": "markdown",
      "source": [
        "##### 2. What is/are the insight(s) found from the chart?"
      ],
      "metadata": {
        "id": "85gYPyotYoAp"
      }
    },
    {
      "cell_type": "markdown",
      "source": [
        "1. **Middle East & North Africa, South Asia, East Europe and SE Asia** has witnessed **consistent increase** on terror events over the past five decades.\n",
        "2. **Sub Saharan Africa, South Asia and Middle East & North Africa** has witnessed **considerable increase in terror events compared to last decade.**\n",
        "3. The **remaining regions** have witnessed a **reduction** in terror activities compared to previous decades.\n",
        "4. The following **regions dominated** in terror events in the **following decades:-\n",
        "  1970s-Western Europe,\n",
        "  1980s-South America,\n",
        "  1990s-S.America,S Asia,Middle East and North Africa,\n",
        "  2000s-S Asia,Middle East and North Africa,\n",
        "  2010s-S Asia,Middle East and North Africa**"
      ],
      "metadata": {
        "id": "4jstXR6OYoAp"
      }
    },
    {
      "cell_type": "markdown",
      "source": [
        "##### 3. Will the gained insights help creating a positive business impact?\n",
        "Are there any insights that lead to negative growth? Justify with specific reason."
      ],
      "metadata": {
        "id": "RoGjAbkUYoAp"
      }
    },
    {
      "cell_type": "markdown",
      "source": [
        "1. **Businesses**, which can afford, may consider **relocating to regions witnessing a downward trend in terror activities** if they are located in S Asia,Middle East and North Africa and Sub Saharan Africa.\n",
        "2. The international effort and resources heralded by **UN** to combat terrorism must **focus on S Asia,Middle East and North Africa and Sub Saharan Africa.**"
      ],
      "metadata": {
        "id": "zfJ8IqMcYoAp"
      }
    },
    {
      "cell_type": "markdown",
      "source": [
        "#### Chart - 4"
      ],
      "metadata": {
        "id": "4Of9eVA-YrdM"
      }
    },
    {
      "cell_type": "code",
      "source": [
        "# Chart - 4 visualization code\n",
        "#Findings using boxplot\n",
        "dff_dm.plot(kind='box', title='Day and Month of terror event')\n",
        "plt.show()\n",
        "dff_atw.plot(kind='box', title='Box plot-Attack types,Target types and Weapon types')\n",
        "plt.show()"
      ],
      "metadata": {
        "id": "irlUoxc8YrdO"
      },
      "execution_count": null,
      "outputs": []
    },
    {
      "cell_type": "markdown",
      "source": [
        "##### 1. Why did you pick the specific chart?"
      ],
      "metadata": {
        "id": "iky9q4vBYrdO"
      }
    },
    {
      "cell_type": "markdown",
      "source": [
        "**Box plots** are used to get **statistical information** like highest,75 percentile,median,25 percentile,lowest and outliers.Here, its used to get **such information for day and month of terror attack,type of terror attack,target types and weapon used.**"
      ],
      "metadata": {
        "id": "aJRCwT6DYrdO"
      }
    },
    {
      "cell_type": "markdown",
      "source": [
        "##### 2. What is/are the insight(s) found from the chart?"
      ],
      "metadata": {
        "id": "JPObXKA7bN_M"
      }
    },
    {
      "cell_type": "markdown",
      "source": [
        "1. **Day box plot reprent normal distribution,whereas month box plot is slightly negatively skewed.**There are **no outliers** in them.\n",
        "2. **Target types are more diverse compared to attack types and weapon types**.All three of them show a **skewed distribution.**Attack types and weapon types display several outliers. **bold text**\n",
        "4. **Median attack type** is **Bombing/explosion** corresponding to code 3.\n",
        "5. **Median target type** is **Military** corresponding to code 4.\n",
        "6. **Median weapon type** is **Explosives** corresponding to code 6."
      ],
      "metadata": {
        "id": "AEiCftKpcCtE"
      }
    },
    {
      "cell_type": "markdown",
      "source": [
        "##### 3. Will the gained insights help creating a positive business impact? Are there any insights that lead to negative growth? Justify with specific reason."
      ],
      "metadata": {
        "id": "F6T5p64dYrdO"
      }
    },
    {
      "cell_type": "markdown",
      "source": [
        "1. **Slight skew in month** needs probe to explain, **whether more terror events happen during certain months** eg-fairs,tourism months etc.\n",
        "2. **Bombing** as the **preferred type and explosives as predominant terror weapon** calls for countries to take stern measures to **regulate the manufacture and use of explosive substamces.It may increase redtapism for explosives manufacturers** negatively affecting the industry growth.\n",
        "3. **Diversity of terror targets** show that **terrorists are less selective,thus increased caution** is advisable for all stake holders, to reduce damage and losses."
      ],
      "metadata": {
        "id": "jLNxxz7MYrdP"
      }
    },
    {
      "cell_type": "markdown",
      "source": [
        "#### Chart - 5"
      ],
      "metadata": {
        "id": "bamQiAODYuh1"
      }
    },
    {
      "cell_type": "code",
      "source": [
        "# Chart - 5 visualization code\n",
        "#Alternatives to terrorist attack if terror event is doubtful\n",
        "f = plt.figure()\n",
        "f.set_figwidth(5)\n",
        "f.set_figheight(23)\n",
        "plt.pie(s11.values,labels=s11.keys(),autopct=\"%1.2f%%\",shadow=False,startangle=0,explode=[0.15,0.1,0.1,0.1,0.1])\n",
        "plt.title(\"Various alternatives to terror attacks\")\n",
        "plt.show()\n",
        "\n",
        "#Attack types\n",
        "f = plt.figure()\n",
        "f.set_figwidth(5)\n",
        "f.set_figheight(23)\n",
        "plt.pie(s12.values,labels=s12.keys(),autopct=\"%1.2f%%\",shadow=False,startangle=0,explode=[0.05,0.01,0.01,0.01,0.01,0.1,.01,.01,.01])\n",
        "plt.title(\"Various Attack types by terror attacks\")\n",
        "plt.show()\n",
        "\n",
        "#Target of terror events\n",
        "sns.countplot(data=dff,y='Target')\n",
        "plt.title('Target of terror events')\n",
        "plt.ylabel('Targets')\n",
        "plt.show()"
      ],
      "metadata": {
        "id": "TIJwrbroYuh3"
      },
      "execution_count": null,
      "outputs": []
    },
    {
      "cell_type": "markdown",
      "source": [
        "##### 1. Why did you pick the specific chart?"
      ],
      "metadata": {
        "id": "QHF8YVU7Yuh3"
      }
    },
    {
      "cell_type": "markdown",
      "source": [
        "**Pie charts** are used to display the percent share of **alternatives** if the event is doubtful to be a terror attack and for various **attack types**.It's picked because of **limited number of unique values** for these variables in the dataframe and **simplicity** in understanding by audiences, besides **visual appeal**.A **countplot** is used to depict count of **targets** of various terror events."
      ],
      "metadata": {
        "id": "dcxuIMRPYuh3"
      }
    },
    {
      "cell_type": "markdown",
      "source": [
        "##### 2. What is/are the insight(s) found from the chart?"
      ],
      "metadata": {
        "id": "GwzvFGzlYuh3"
      }
    },
    {
      "cell_type": "markdown",
      "source": [
        "1. **Insurgency/Guerilla Action has 80% share** among the alternatives,disproportionately more than the others.\n",
        "2. **More than 49% of attack types are Bombing/Explosion** related.Its followed by armed assault 24% and assassination 11%.\n",
        "3. Main **target** of terror events is **private citizen and property(>35000 events)**,followed by military,police and Government(general)."
      ],
      "metadata": {
        "id": "uyqkiB8YYuh3"
      }
    },
    {
      "cell_type": "markdown",
      "source": [
        "##### 3. Will the gained insights help creating a positive business impact?\n",
        "Are there any insights that lead to negative growth? Justify with specific reason."
      ],
      "metadata": {
        "id": "qYpmQ266Yuh3"
      }
    },
    {
      "cell_type": "markdown",
      "source": [
        "1. **Insurgency/Guerilla Action** is a major **impediment** in operation of businesses.Many **targets** of such insurgency are **corporates**.Thus, its important that concerns of all groups be taken into account specially of locals to avert such a situation and businesses may prosper.\n",
        "2. Its of utmost **importance in tribal,rural belts like NE India,Plateau belts rich in minerals like Katanga plateau(Africa)** etc.\n",
        "3. **Targetting private citizen and property affects purchasing power and disposable income** in the economy,resulting in a slowdown.\n",
        "4. **Bombing** as the preferred type and **explosives as predominant terror weapon** calls for countries to take stern **measures to regulate the manufacture and use of explosive substances**.It may increase redtapism for explosives manufacturers negatively affecting the industry growth."
      ],
      "metadata": {
        "id": "_WtzZ_hCYuh4"
      }
    },
    {
      "cell_type": "markdown",
      "source": [
        "#### Chart - 6"
      ],
      "metadata": {
        "id": "OH-pJp9IphqM"
      }
    },
    {
      "cell_type": "code",
      "source": [
        "# Chart - 6 visualization code\n",
        "#Effect on logistics and Supplychain\n",
        "#Aero targets\n",
        "d_final.plot(y='Country',kind='barh',stacked=True, width=0.4,figsize=(10,100),color=['Green','RED','Yellow'])\n",
        "plt.legend(['Air_count','Maritime_count','Transportation_count'])\n",
        "plt.title('Stacked bar chart showing air,maritime and transport as terror targets in each country')\n",
        "plt.show()"
      ],
      "metadata": {
        "id": "kuRf4wtuphqN"
      },
      "execution_count": null,
      "outputs": []
    },
    {
      "cell_type": "markdown",
      "source": [
        "##### 1. Why did you pick the specific chart?"
      ],
      "metadata": {
        "id": "bbFf2-_FphqN"
      }
    },
    {
      "cell_type": "markdown",
      "source": [
        "We intend to analyse the **effects of terror threats on logistics and supply chain, therefore stacked bar chart** is used to plot the number of occurences ,where the target of terror events is Airports & Aircraft,Maritime and Transporation,with y representing the countries."
      ],
      "metadata": {
        "id": "loh7H2nzphqN"
      }
    },
    {
      "cell_type": "markdown",
      "source": [
        "##### 2. What is/are the insight(s) found from the chart?"
      ],
      "metadata": {
        "id": "_ouA3fa0phqN"
      }
    },
    {
      "cell_type": "markdown",
      "source": [
        "1. **Airports,aircrafts and airline officer/personnel** are the aero based targets.\n",
        "\n",
        "  **Top target countries** are:-**Afghanistan,Columbia,Italy**,Pakistan,US,France,Spain,Lebanon,Turkey, Japan,Somalia,Peru,Libya,Iraq,UK\n",
        "   \n",
        "2. **Maritime targets** are Oil tankers,Civilian maritime,Commercial maritime and Ports.\n",
        "  \n",
        "  **Top target countries** are:-**Phillipines,Sri Lanka,Somalia**,Nicaragua,Nigeria,Yemen\n",
        "\n",
        "3. **Transportation targets** includes bus,train,highway,subway,bus atation,bridge,taxi/rickshaw.\n",
        "  \n",
        "  **Top target countries** are:- **India,Pakistan,Iraq**,Columbia,Peru"
      ],
      "metadata": {
        "id": "VECbqPI7phqN"
      }
    },
    {
      "cell_type": "markdown",
      "source": [
        "##### 3. Will the gained insights help creating a positive business impact?\n",
        "Are there any insights that lead to negative growth? Justify with specific reason."
      ],
      "metadata": {
        "id": "Seke61FWphqN"
      }
    },
    {
      "cell_type": "markdown",
      "source": [
        "1. The insights focus on **locations prone to terror attacks, which may disrupt supply chain and logistics movement.**\n",
        "2. Any **international freight or consignment passing through air or searoutes involving top target countries** need greater protection.\n",
        "3. It may **increase the costs for insuring** the cargo, increasing the cost of doing business.\n",
        "4. Major businesses which may be affected are-**gems and jewellery,pharma and chemicals(air cargo) and automotive,petrochemical refinery products,raw material(eg coal) imports(maritime cargo)**.\n",
        "5. Maritime choke points like **Straits,Ports** etc need greater security arrangements.\n",
        "6. **Intracountry threats** are more in top target countries where transport is targetted.Its concerning for **businesses as most of them are in developing world**, where the businesses are growing."
      ],
      "metadata": {
        "id": "DW4_bGpfphqN"
      }
    },
    {
      "cell_type": "markdown",
      "source": [
        "#### Chart - 7"
      ],
      "metadata": {
        "id": "PIIx-8_IphqN"
      }
    },
    {
      "cell_type": "code",
      "source": [
        "# Chart - 7 visualization code\n",
        "#Journalist target\n",
        "squarify.plot(ss, label=reasons,pad=1,bar_kwargs={'alpha':0.7}, text_kwargs={'fontsize':10})\n",
        "plt.title('Motives for terror attacks on journalists and media',size=10)\n",
        "plt.show()\n"
      ],
      "metadata": {
        "id": "lqAIGUfyphqO"
      },
      "execution_count": null,
      "outputs": []
    },
    {
      "cell_type": "markdown",
      "source": [
        "##### 1. Why did you pick the specific chart?"
      ],
      "metadata": {
        "id": "t27r6nlMphqO"
      }
    },
    {
      "cell_type": "markdown",
      "source": [
        "**Journalism and media** plays crucial role in diffusion of information and creating awareness about the topics of concern.As such, they are **top targets of terror attacks**.Thus we use a **treemap** to identify the **key motives** behind such attacks,"
      ],
      "metadata": {
        "id": "iv6ro40sphqO"
      }
    },
    {
      "cell_type": "markdown",
      "source": [
        "##### 2. What is/are the insight(s) found from the chart?"
      ],
      "metadata": {
        "id": "r2jJGEOYphqO"
      }
    },
    {
      "cell_type": "markdown",
      "source": [
        "1. **Terror groups have targetted journalists majorly to mark protest,retaliate against government and as a medium of communicating their ideologies**\n",
        "2. Attacks are more in countries like Columbia,Peru,Pakistan,Mexico,El-Salvador,Iraq,Somalia,Algeria,Afghanistan,Phillipines etc(mostly developing countries, where democratic traditons are new).War zones like Gaza,Afghanistan etc are particularly dangerous for media.\n",
        "3. **Warning,intimidating and seeking freedom** too are significant motives for such attacks."
      ],
      "metadata": {
        "id": "Po6ZPi4hphqO"
      }
    },
    {
      "cell_type": "markdown",
      "source": [
        "##### 3. Will the gained insights help creating a positive business impact?\n",
        "Are there any insights that lead to negative growth? Justify with specific reason."
      ],
      "metadata": {
        "id": "b0JNsNcRphqO"
      }
    },
    {
      "cell_type": "markdown",
      "source": [
        "1. **Businesses** in media sector may be **pressured** to take sides in countries where attacks are more on journalists.It would **compromise media independence and ethics.**\n",
        "2. **Media** must be **cautious** to take a more **balanced and independent** stand on issues.\n",
        "3. **Governments and businesses** must take sufficient steps to **safeguard** them aginst such threats.It may **increase costs of doing business.**\n",
        ".\n",
        "3. Other businesses too seek stability to prosper, thus even liberal countries may fail to provide business friendly environment given rise in threats.\n"
      ],
      "metadata": {
        "id": "xvSq8iUTphqO"
      }
    },
    {
      "cell_type": "markdown",
      "source": [
        "#### Chart - 8"
      ],
      "metadata": {
        "id": "BZR9WyysphqO"
      }
    },
    {
      "cell_type": "code",
      "source": [
        "# Chart - 8 visualization code\n",
        "#Tourist as target\n",
        "f = plt.figure()\n",
        "f.set_figwidth(5)\n",
        "f.set_figheight(30)\n",
        "sns.swarmplot(data=sf,hue='Hostage_taking/kidnapping(1-yes/0-No)',y='Country',size=10,linewidth=2)\n",
        "plt.xlabel(\"Each dot indicate an incident of Tourist targetting\")\n",
        "plt.title(\"Countrywise incidents of tourists targetting\")\n",
        "plt.show()"
      ],
      "metadata": {
        "id": "TdPTWpAVphqO"
      },
      "execution_count": null,
      "outputs": []
    },
    {
      "cell_type": "markdown",
      "source": [
        "##### 1. Why did you pick the specific chart?"
      ],
      "metadata": {
        "id": "jj7wYXLtphqO"
      }
    },
    {
      "cell_type": "markdown",
      "source": [
        "**Terrorrist** attacks pose a major **threat to tourists**.Thus we use a **swarmplot** to analyse the terror events the worldover with tourists as targets.Swarmplot displays **dots indicating such events are easily understandable** for such case.**Counting the dots,one gets idea about no. of terror events in every country,with ones involving kidnappings,displayed as orange dots.**"
      ],
      "metadata": {
        "id": "Ob8u6rCTphqO"
      }
    },
    {
      "cell_type": "markdown",
      "source": [
        "##### 2. What is/are the insight(s) found from the chart?"
      ],
      "metadata": {
        "id": "eZrbJ2SmphqO"
      }
    },
    {
      "cell_type": "markdown",
      "source": [
        "1. **Tourists** are mostly targetted**(15 or more events)** in **India,Egypt,Yemen,Spain,Israel,France,Peru,Columbia,Turkey.**\n",
        "\n",
        "2. Most tourists are **kidnapped(3 or more events) in Yemen,Columbia,Egypt,Turkey,Algeria,Phillipines,Tunisia and Pakistan.**\n",
        "\n",
        "3. **Kidnappings(more than 50% of events)** have occured in **Columbia,Mauritania,Zimbabwe,Niger,Mexico,China,Yemen,Cambodia,Eritrea,Senegal,Ecuador,Mali,Uganda,Malaysia,Kyrgyzstan,Iran,Democratic republic of congo,Cameroon and Tunisia.**"
      ],
      "metadata": {
        "id": "mZtgC_hjphqO"
      }
    },
    {
      "cell_type": "markdown",
      "source": [
        "##### 3. Will the gained insights help creating a positive business impact?\n",
        "Are there any insights that lead to negative growth? Justify with specific reason."
      ],
      "metadata": {
        "id": "rFu4xreNphqO"
      }
    },
    {
      "cell_type": "markdown",
      "source": [
        "1. **Tourism firms** may be affected as popular tourist **hubs like India,Egypt etc are experiencing rising terror attacks** on tourists.\n",
        "2. **Attacks on tourist travel agencie**s creative **instability** for businesses to operate.It may lead to negative growth.\n",
        "3. **Tourist inflow may reduce** in such countries **negatively affecting their balance of payments,employment generation** etc.\n",
        "4. Countries with significant **kidnapping** events should s**trengthen security infrastructure** to thwart any such incident.\n"
      ],
      "metadata": {
        "id": "ey_0qi68phqO"
      }
    },
    {
      "cell_type": "markdown",
      "source": [
        "#### Chart - 9"
      ],
      "metadata": {
        "id": "YJ55k-q6phqO"
      }
    },
    {
      "cell_type": "code",
      "source": [
        "# Chart - 9 visualization code\n",
        "#Communal terror\n",
        "squarify.plot(ct.values,label=ct.keys(),pad=1,bar_kwargs={'alpha':0.7}, text_kwargs={'fontsize':10})\n",
        "plt.title('Communalism driving terror',size=10)\n",
        "plt.show()"
      ],
      "metadata": {
        "id": "B2aS4O1ophqO"
      },
      "execution_count": null,
      "outputs": []
    },
    {
      "cell_type": "markdown",
      "source": [
        "##### 1. Why did you pick the specific chart?"
      ],
      "metadata": {
        "id": "gCFgpxoyphqP"
      }
    },
    {
      "cell_type": "markdown",
      "source": [
        "**Communal sentiment is a important driver of terrorism**.Hence, we analyze where in the world have **religion fed into terrorism** based on religious figures/institutions as the target of terror events.We use **treemap** as its clear representation of countries where **no. of terror incidents due to religion is more than 50 .**"
      ],
      "metadata": {
        "id": "TVxDimi2phqP"
      }
    },
    {
      "cell_type": "markdown",
      "source": [
        "##### 2. What is/are the insight(s) found from the chart?"
      ],
      "metadata": {
        "id": "OVtJsKN_phqQ"
      }
    },
    {
      "cell_type": "markdown",
      "source": [
        "1. Terror attacks targetting religious symbols and places of worship have occured frequently in **Iraq,Pakistan,Nigeria,Indonesia,India,Bangladesh,Afghanistan,Chile,Egypt,France,Syria,Colombia,Phillipines,USA,UK**\n",
        "2. Most incidents have occured in countries with **religiously diverse population.**"
      ],
      "metadata": {
        "id": "ngGi97qjphqQ"
      }
    },
    {
      "cell_type": "markdown",
      "source": [
        "##### 3. Will the gained insights help creating a positive business impact?\n",
        "Are there any insights that lead to negative growth? Justify with specific reason."
      ],
      "metadata": {
        "id": "lssrdh5qphqQ"
      }
    },
    {
      "cell_type": "markdown",
      "source": [
        "1. Such communal reasons of terror attacks create **discord in society creating instability and negatively affecting the economy**.\n",
        "2. However such societies tends to** veer away from secularism, consequently religion drives the economy.Thus businesses related to fairs,religious symbols,ceremony,religious tourism booms.**\n",
        "3. Attacking places of worship(mostly of minorities) leads to huze **loss of property values, but also there is a surge in infrastructure related to some other community.**"
      ],
      "metadata": {
        "id": "tBpY5ekJphqQ"
      }
    },
    {
      "cell_type": "markdown",
      "source": [
        "#### Chart - 10"
      ],
      "metadata": {
        "id": "U2RJ9gkRphqQ"
      }
    },
    {
      "cell_type": "code",
      "source": [
        "# Chart - 10 visualization code\n",
        "#Gang category\n",
        "sns.countplot(y='Region',data=dff,hue='Gang Category')\n",
        "plt.show()"
      ],
      "metadata": {
        "id": "GM7a4YP4phqQ"
      },
      "execution_count": null,
      "outputs": []
    },
    {
      "cell_type": "code",
      "source": [
        "#Most resorted to attack type categorised by Gangs\n",
        "ax=sns.countplot(data=dff,hue='Attack_type',x='Gang Category')\n",
        "ax.legend(bbox_to_anchor=(1, 1.5), loc='upper left')\n",
        "plt.title(\"Attack types resorted to by various gangs\")\n",
        "plt.show()"
      ],
      "metadata": {
        "id": "G2T709Q9Hqbi"
      },
      "execution_count": null,
      "outputs": []
    },
    {
      "cell_type": "code",
      "source": [
        "#Targets of various Gangs\n",
        "fig, axs = plt.subplots()\n",
        "ax=sns.countplot(data=dff,hue='Target',x='Gang Category')\n",
        "ax.legend(bbox_to_anchor=(1, 1.5), loc='upper left')\n",
        "fig.set_size_inches(10,10)\n",
        "plt.title(\"Targets of various gangs\")\n",
        "plt.show()"
      ],
      "metadata": {
        "id": "uF2SPo8oHqxb"
      },
      "execution_count": null,
      "outputs": []
    },
    {
      "cell_type": "markdown",
      "source": [
        "##### 1. Why did you pick the specific chart?"
      ],
      "metadata": {
        "id": "1M8mcRywphqQ"
      }
    },
    {
      "cell_type": "markdown",
      "source": [
        "We intend to find, **how many events in various regions are done by  most dangerous gangs,more dangerous gangs and dangerous gangs respectively.Thus we use count plot** to categorise the events in various regions.\n",
        "Also, **for all the three categories of gangs, we find their resorted attack types and their targets. Again we use countplot** for this purpose for its simplicity and visual clarity for audience."
      ],
      "metadata": {
        "id": "8agQvks0phqQ"
      }
    },
    {
      "cell_type": "markdown",
      "source": [
        "##### 2. What is/are the insight(s) found from the chart?"
      ],
      "metadata": {
        "id": "tgIPom80phqQ"
      }
    },
    {
      "cell_type": "markdown",
      "source": [
        "1. **Most of the terror events** in various **regions **are the handworks of the **most dangerous gangs**.\n",
        "2. **Bombing/Explosion followed by armed assault and assassination** are the **prefarable mode of attacks** for most of the gangs irresepective of the categories.\n",
        "3. **Private citizens and property is the chief target**s of all the gangs irresepective of the categories.It is followed by military,police,government(general) and business."
      ],
      "metadata": {
        "id": "Qp13pnNzphqQ"
      }
    },
    {
      "cell_type": "markdown",
      "source": [
        "##### 3. Will the gained insights help creating a positive business impact?\n",
        "Are there any insights that lead to negative growth? Justify with specific reason."
      ],
      "metadata": {
        "id": "JMzcOPDDphqR"
      }
    },
    {
      "cell_type": "markdown",
      "source": [
        "1. **Most dangerous gangs should be prioritised to be targetted** by state enforecement agencies to establish rule of law and ensure ease of doing business.\n",
        "2. **Explosives manufacturing needs to be regulated**, it may create **impediments for genuine businesses** too.\n",
        "3. **Businesses too figure prominently among chief targets** of various gangs, hence they must adopt adequate **safeguards to operate** smoothly.It may dampen business activities in few regions."
      ],
      "metadata": {
        "id": "R4Ka1PC2phqR"
      }
    },
    {
      "cell_type": "markdown",
      "source": [
        "#### Chart - 11"
      ],
      "metadata": {
        "id": "x-EpHcCOp1ci"
      }
    },
    {
      "cell_type": "code",
      "source": [
        "# Chart - 11 visualization code\n",
        "#Overall Claims mode share\n",
        "plt.pie(q3.values,labels = q3.keys(),autopct=\"%1.2f%%\",shadow=True)\n",
        "plt.title('Share of different modes of claiming a terror attack')\n",
        "plt.show()\n"
      ],
      "metadata": {
        "id": "mAQTIvtqp1cj"
      },
      "execution_count": null,
      "outputs": []
    },
    {
      "cell_type": "code",
      "source": [
        "#Correlating claims mode with Casualties and property damage\n",
        "fig, axs = plt.subplots()\n",
        "fig.set_size_inches(10,10)\n",
        "ax=sns.scatterplot(data=dff,y='Casualty',x='Damaged_Property_value',hue='Attack_claimed')\n",
        "plt.title(\"Correlating Casualities and property damage for both claimed and unclaimed terror events\")\n",
        "plt.yscale('log')\n",
        "plt.xscale('log')\n",
        "plt.show()"
      ],
      "metadata": {
        "id": "XYssWHw9gm3u"
      },
      "execution_count": null,
      "outputs": []
    },
    {
      "cell_type": "markdown",
      "source": [
        "##### 1. Why did you pick the specific chart?"
      ],
      "metadata": {
        "id": "X_VqEhTip1ck"
      }
    },
    {
      "cell_type": "markdown",
      "source": [
        "We need to find the **share of various mediums used to claim the terror event by terrorists, hence a pie chart with %share** is used.Next, a **scatterplot** is used to **correlate Casualities and property damage value in terror events for both claimed and unclaimed attacks.**\n"
      ],
      "metadata": {
        "id": "-vsMzt_np1ck"
      }
    },
    {
      "cell_type": "markdown",
      "source": [
        "##### 2. What is/are the insight(s) found from the chart?"
      ],
      "metadata": {
        "id": "8zGJKyg5p1ck"
      }
    },
    {
      "cell_type": "markdown",
      "source": [
        "1. The **three top mode of claiming** a terror event used by terrorists are **Personal Claim(27.25%),Posted to website,blog(23.28%) and Unknown(20.95%)**.Other predominant mode are calls(post incident),note left at scene and e-mail.\n",
        "2. **Most terror events with high Casualty(>100) or high propertyvalue loss are claimed by one or the other gang.**\n",
        "3. **Unclaimed terror events are almost uniformily distributed, however none unclaimed has casualty over 100.**\n",
        "4. **Slight positive correlation** exist between **value of property damaged and casualty.**"
      ],
      "metadata": {
        "id": "ZYdMsrqVp1ck"
      }
    },
    {
      "cell_type": "markdown",
      "source": [
        "##### 3. Will the gained insights help creating a positive business impact?\n",
        "Are there any insights that lead to negative growth? Justify with specific reason."
      ],
      "metadata": {
        "id": "PVzmfK_Ep1ck"
      }
    },
    {
      "cell_type": "markdown",
      "source": [
        "1. Claim mode has kept pace with technology,in **future more IT and social media based claim can be expected.**It puts a moral responsibility on **IT businesses to ensure detecting uncivial elements on the platforms.**\n",
        "2. **Security agencies may target gangs** involved in claiming attcks, it would improve security in the region , which creates **pro business sentiment.**"
      ],
      "metadata": {
        "id": "druuKYZpp1ck"
      }
    },
    {
      "cell_type": "markdown",
      "source": [
        "#### Chart - 12"
      ],
      "metadata": {
        "id": "n3dbpmDWp1ck"
      }
    },
    {
      "cell_type": "code",
      "source": [
        "# Chart - 12 visualization code\n",
        "#Property damage analysis. Which areas more property damage.\n",
        "sns.countplot(data=dff,y='Region',hue='Property_damage')\n",
        "plt.title(\"Extent of property damage regionwise\")\n",
        "plt.show()"
      ],
      "metadata": {
        "id": "bwevp1tKp1ck"
      },
      "execution_count": null,
      "outputs": []
    },
    {
      "cell_type": "code",
      "source": [
        "#Cities with catastrophic property damage\n",
        "plt.pie(ac.values,labels=ac.keys(),autopct=\"%1.2f%%\",shadow=False,startangle=89)\n",
        "plt.title(\"Cities with catastrophic damage\",fontsize=12)\n",
        "plt.show()"
      ],
      "metadata": {
        "id": "jhD0yr8Yg3X3"
      },
      "execution_count": null,
      "outputs": []
    },
    {
      "cell_type": "code",
      "source": [
        "#Countries with major property damage\n",
        "fig, axs = plt.subplots()\n",
        "fig.set_size_inches(20,20)\n",
        "sns.countplot(data=az,y='Country')\n",
        "plt.title(\"Countries with major property damage\",fontsize=20)\n",
        "plt.show()"
      ],
      "metadata": {
        "id": "_9YPjK4lg9Ss"
      },
      "execution_count": null,
      "outputs": []
    },
    {
      "cell_type": "code",
      "source": [
        "#Regions with minor damage\n",
        "plt.pie(ay.values,labels=ay.keys(),autopct=\"%1.2f%%\",shadow=False,startangle=0)\n",
        "plt.title(\"Regions with minor property damage\",fontsize=12)\n",
        "plt.show()"
      ],
      "metadata": {
        "id": "QNdBWsnKhQml"
      },
      "execution_count": null,
      "outputs": []
    },
    {
      "cell_type": "markdown",
      "source": [
        "##### 1. Why did you pick the specific chart?"
      ],
      "metadata": {
        "id": "ylSl6qgtp1ck"
      }
    },
    {
      "cell_type": "markdown",
      "source": [
        "**Extent of property damage regionwise **is depicted by **countchart** with hue parameters to account for three category of property extent damage.It makes it easily understandable.\n",
        "\n",
        "Then, we depict the **areas which faced the three category of damages.**\n",
        "\n",
        "**Pie chart** is used to depict **number of events with catastrophic damage in cities as limited categories of data** can be neatly represented by it.\n",
        "\n",
        "**Count plot** is used to depict number of **events with major damage in various countries** as **large number of countries data** can be clearly visualised using it.\n",
        "\n",
        "As **limited number of regions are involved, the count of events with minor damage** can be neatly represented using a **pie chart.**"
      ],
      "metadata": {
        "id": "m2xqNkiQp1ck"
      }
    },
    {
      "cell_type": "markdown",
      "source": [
        "##### 2. What is/are the insight(s) found from the chart?"
      ],
      "metadata": {
        "id": "ZWILFDl5p1ck"
      }
    },
    {
      "cell_type": "markdown",
      "source": [
        "1. **Most terror events** have led to **minor damages** irrespective of the regions of the world.\n",
        "2. **Catastrophic damage** events have occured in **NewYork,London,Manchester,Shanksville and Arlington.**\n",
        "3. Most events causing **major property damage** have occured in **Columbia,Iraq,USA,UK(>40 events)**\n",
        "4.  **South Asia and Middle east North Africa** together account for **more than half of all events causing minor property damage.**\n"
      ],
      "metadata": {
        "id": "x-lUsV2mp1ck"
      }
    },
    {
      "cell_type": "markdown",
      "source": [
        "##### 3. Will the gained insights help creating a positive business impact?\n",
        "Are there any insights that lead to negative growth? Justify with specific reason."
      ],
      "metadata": {
        "id": "M7G43BXep1ck"
      }
    },
    {
      "cell_type": "markdown",
      "source": [
        "1. **Minor damage accounting for ppp would be large enough in developing world**.Thus, there is a **scope for reconstruction **of damaged infrastructure and a **hope for builders and infra businesses.**\n",
        "2. Similar **hope for boom in infra and housing exist for cities and countries facing catastrophic and major damages**.\n",
        "3. However, **frequent infra destruction also acts as disincentive for brick and mortar businesses.**It may prompt most **businesses to go online with limited physical presence** and that too in safe localities."
      ],
      "metadata": {
        "id": "5wwDJXsLp1cl"
      }
    },
    {
      "cell_type": "markdown",
      "source": [
        "#### Chart - 13"
      ],
      "metadata": {
        "id": "Ag9LCva-p1cl"
      }
    },
    {
      "cell_type": "code",
      "source": [
        "# Chart - 13 visualization code\n",
        "#Weapon analysis\n",
        "ax=w.plot(kind='pie',y='Weapon_type_code',autopct=\"%1.2f%%\",shadow=False,startangle=0)\n",
        "ax.legend(bbox_to_anchor=(1, 1.5), loc='upper left')\n",
        "plt.title(\"Share of weapons used in all terror events\",fontsize=12)\n",
        "plt.show()"
      ],
      "metadata": {
        "id": "EUfxeq9-p1cl"
      },
      "execution_count": null,
      "outputs": []
    },
    {
      "cell_type": "markdown",
      "source": [
        "##### 1. Why did you pick the specific chart?"
      ],
      "metadata": {
        "id": "OHRCP-l22Nci"
      }
    },
    {
      "cell_type": "markdown",
      "source": [
        "A **pie chart is used to depict the count and share of the weapons used** by terrorists in all terror attacks from 1970 to 2017.\n",
        "Since there are **limited categories of weapons which are used,pie chart** give precise,clear and understandable visualization."
      ],
      "metadata": {
        "id": "6YCd2u842Ncy"
      }
    },
    {
      "cell_type": "markdown",
      "source": [
        "##### 2. What is/are the insight(s) found from the chart?"
      ],
      "metadata": {
        "id": "WOds5ymM2Ncy"
      }
    },
    {
      "cell_type": "markdown",
      "source": [
        "Most terror events have used **explosives, followed by firearms.**"
      ],
      "metadata": {
        "id": "fb-r5vHy2Ncz"
      }
    },
    {
      "cell_type": "markdown",
      "source": [
        "##### 3. Will the gained insights help creating a positive business impact?\n",
        "Are there any insights that lead to negative growth? Justify with specific reason."
      ],
      "metadata": {
        "id": "YgqFNPtj2Ncz"
      }
    },
    {
      "cell_type": "markdown",
      "source": [
        "1. There seems to be a** parallel economy supplying explosives and firearms to terror group**s.Opium trade,smuggling,money laundering etc are implicated.Government must** tighten regulations and enforcement to counter **them as it creates loss to exchequer besides loss of lives and property.\n",
        "2.** Genuine businesses may face some impediments if governments acts according to regulations, which may act as impediment to ease of doing business.**"
      ],
      "metadata": {
        "id": "XF9kUghU2Ncz"
      }
    },
    {
      "cell_type": "markdown",
      "source": [
        "#### Chart - 14"
      ],
      "metadata": {
        "id": "IWIKcBaISOll"
      }
    },
    {
      "cell_type": "code",
      "source": [
        "# Chart - 14 visualization code\n",
        "#Analysing kidnappings year wise\n",
        "sns.lineplot(data=dff,y='Numbers_kidnapped',x='Year')\n",
        "plt.title(\"Yearwise trend in no. of hostages taken\")\n",
        "plt.show()"
      ],
      "metadata": {
        "id": "GidPjjrCSOlw"
      },
      "execution_count": null,
      "outputs": []
    },
    {
      "cell_type": "code",
      "source": [
        "#Countries involved in successful rescue of hostages\n",
        "fig, axs = plt.subplots()\n",
        "fig.set_size_inches(20,20)\n",
        "sns.countplot(data=h,y='Country')\n",
        "plt.title(\"Successful rescue count countrywise\",fontsize=20)\n",
        "plt.show()"
      ],
      "metadata": {
        "id": "2TQJDgYCSssX"
      },
      "execution_count": null,
      "outputs": []
    },
    {
      "cell_type": "markdown",
      "source": [
        "##### 1. Why did you pick the specific chart?"
      ],
      "metadata": {
        "id": "YXMWWLI62URz"
      }
    },
    {
      "cell_type": "markdown",
      "source": [
        "A **temporal trend in number of persons taken hostages in various terror events is desired,hence line plot** can best serve the purpose, due to clarity and neat visualization of two continuous variables.\n",
        "\n",
        "A countplot is used to record successful rescue of hostages by various countries.As **large number of countries are present, a countchart aptly presents the data.**"
      ],
      "metadata": {
        "id": "KksOjlEG2UR-"
      }
    },
    {
      "cell_type": "markdown",
      "source": [
        "##### 2. What is/are the insight(s) found from the chart?"
      ],
      "metadata": {
        "id": "IZJk0FTK2UR_"
      }
    },
    {
      "cell_type": "markdown",
      "source": [
        "1. **Fluctuating trend** is seen in number of hostages taken.**Peaks of 80 occurs during 1980s to as low as 0 in many events.**\n",
        "2. **Since 2010, the no. of persons taken as hostages have remained low(<20) in various terror events.**\n",
        "3. **India **figures at **top among countries with most events having successful rescue of hostages.**\n",
        "4. Columbia,Pakistan,Afghanistan and Phillipines also have over 30 successful rescue events."
      ],
      "metadata": {
        "id": "uDPm9Aot2UR_"
      }
    },
    {
      "cell_type": "markdown",
      "source": [
        "##### 3. Will the gained insights help creating a positive business impact?\n",
        "Are there any insights that lead to negative growth? Justify with specific reason."
      ],
      "metadata": {
        "id": "zQIcm3jc2USA"
      }
    },
    {
      "cell_type": "markdown",
      "source": [
        "1. Governments should **continue efforts to prevent acts of kidnappings.UN may provide a blueprint for it.**\n",
        "2. Countries having experience of** successful rescue may be involved in knowledge sharing at global platforms like UN.**\n",
        "3. **Businesses get confidence** to operate in such countries."
      ],
      "metadata": {
        "id": "JGocdnpW2USA"
      }
    },
    {
      "cell_type": "markdown",
      "source": [
        "#### Chart - 15-India Specific"
      ],
      "metadata": {
        "id": "WBBIWmXlSMQT"
      }
    },
    {
      "cell_type": "code",
      "source": [
        "#Temporal\n",
        "sns.histplot(data=df_india,x='Year')\n",
        "plt.title(\"Frequency of terror events in India yearwise\")\n",
        "plt.show()"
      ],
      "metadata": {
        "id": "gJTX1v40SMQU"
      },
      "execution_count": null,
      "outputs": []
    },
    {
      "cell_type": "code",
      "source": [
        "#Spatial\n",
        "fig, ax = plt.subplots(figsize = (10,10))\n",
        "india_map.to_crs(epsg=4326).plot(ax=ax, color='lightgrey')\n",
        "gdf_india.plot(ax=ax,alpha=.3,markersize = 10,color='crimson')\n",
        "ax.set_title('Location of terror attacks in India')\n",
        "plt.show()\n",
        "fig, axs = plt.subplots()\n",
        "fig.set_size_inches(7,7)\n",
        "sns.countplot(data=df_india,y='State/Province')\n",
        "plt.title(\"Count of terror events in India statewise\")\n",
        "plt.show()"
      ],
      "metadata": {
        "id": "kbniCpMKTF4Q"
      },
      "execution_count": null,
      "outputs": []
    },
    {
      "cell_type": "code",
      "source": [
        "#Spatial distribution of various attack types in India.\n",
        "fig, ax = plt.subplots(figsize = (10,10))\n",
        "india_map.to_crs(epsg=4326).plot(ax=ax, color='lightgrey')\n",
        "gdf_india.plot(ax=ax,alpha=0.6,markersize = 10,column='Attack_type',legend=True)\n",
        "ax.set_title('Location of various terror attacks categorised by types in India')\n",
        "plt.show()"
      ],
      "metadata": {
        "id": "b2pkvcnkR0IS"
      },
      "execution_count": null,
      "outputs": []
    },
    {
      "cell_type": "code",
      "source": [
        "#Combining temporal and spatial aspects\n",
        "fig, axs = plt.subplots()\n",
        "fig.set_size_inches(10,25)\n",
        "sns.histplot(data=df_india,y='Decade',fill=False)\n",
        "sns.countplot(data=df_india,hue='State/Province',y='Decade')\n",
        "plt.title(\"Count of terror events in India statewise\",fontsize=12)\n",
        "plt.show()"
      ],
      "metadata": {
        "id": "7nhOwHisTJqq"
      },
      "execution_count": null,
      "outputs": []
    },
    {
      "cell_type": "code",
      "source": [
        "#Alternatives to terror events\n",
        "sns.countplot(data=df_india,y='Alternatives_to_terror_attack')\n",
        "plt.title(\"Count of alternatives to terror events\",fontsize=12)\n",
        "plt.show()"
      ],
      "metadata": {
        "id": "KmkF8OX9TOXl"
      },
      "execution_count": null,
      "outputs": []
    },
    {
      "cell_type": "code",
      "source": [
        "#Mean casualities for various terror attack types in India\n",
        "sns.barplot(data=df_india,x='Casualty',y='Attack_type',estimator='mean')\n",
        "plt.title(\"Mean casualities for various terror attack types in India\")\n",
        "plt.show()"
      ],
      "metadata": {
        "id": "VBMucPN0pR7W"
      },
      "execution_count": null,
      "outputs": []
    },
    {
      "cell_type": "code",
      "source": [
        "#Analysing bombing/explosion by day and month in India.\n",
        "plt.subplot(2,1,1)\n",
        "sns.lineplot(x=d_m.index, y=d_m.values)\n",
        "plt.title(\"Monthwise bombing events in India\",fontsize=10)\n",
        "plt.show()\n",
        "plt.subplot(2,1,2)\n",
        "sns.lineplot(x=d_d.index,y=d_d.values)\n",
        "plt.title(\"Daywise bombing events in India\",fontsize=10)\n",
        "plt.show()"
      ],
      "metadata": {
        "id": "QKVvhAxNpYwR"
      },
      "execution_count": null,
      "outputs": []
    },
    {
      "cell_type": "code",
      "source": [
        "#Targets of bombing/explosion\n",
        "squarify.plot(tb.values, label=tb.index, pad=1, bar_kwargs={'alpha':0.7}, text_kwargs={'fontsize':10} )\n",
        "plt.title(\"Targets of bombing/Explosion\",size=10)\n",
        "plt.show()"
      ],
      "metadata": {
        "id": "3Qib59tfphAm"
      },
      "execution_count": null,
      "outputs": []
    },
    {
      "cell_type": "code",
      "source": [
        "#Targets of hostage takking/barricade incidents\n",
        "squarify.plot(th.values, label=th.index, pad=1, bar_kwargs={'alpha':0.7}, text_kwargs={'fontsize':10} )\n",
        "plt.title(\"Targets of Hostage Taking (Barricade Incident)\",size=10)\n",
        "plt.show()"
      ],
      "metadata": {
        "id": "DFvSjiKspyA5"
      },
      "execution_count": null,
      "outputs": []
    },
    {
      "cell_type": "code",
      "source": [
        "#Businesses targetted by Hostage Taking (Barricade Incident)\n",
        "plt.pie(dbb.values,labels=dbb.keys(),autopct=\"%1.2f%%\")\n",
        "plt.title(\"Businesses targetted by Hostage Taking (Barricade Incident)\")\n",
        "plt.show()"
      ],
      "metadata": {
        "id": "Dv2N7Yo6ql5O"
      },
      "execution_count": null,
      "outputs": []
    },
    {
      "cell_type": "code",
      "source": [
        "#Gangs targetting businesses\n",
        "squarify.plot(dbb1.values, label=dbb1.keys())\n",
        "plt.title(\"Gangs targetting businesses\")\n",
        "plt.show()"
      ],
      "metadata": {
        "id": "za22QYqLquUK"
      },
      "execution_count": null,
      "outputs": []
    },
    {
      "cell_type": "code",
      "source": [
        "#Regions where most hostage taking(Barricade incidents) have occurred.\n",
        "plt.pie(labels=dbb4.keys(),x=dbb4.values,autopct=\"%1.2f%%\")\n",
        "plt.title(\"Regions of Hostage Taking (Barricade Incident)\")\n",
        "centre_circle = plt.Circle((0, 0), 0.70, fc='white')\n",
        "fig = plt.gcf()\n",
        "fig.gca().add_artist(centre_circle)\n",
        "plt.show()"
      ],
      "metadata": {
        "id": "jPMmnbEdq7vN"
      },
      "execution_count": null,
      "outputs": []
    },
    {
      "cell_type": "code",
      "source": [
        "#Targets of armed assault\n",
        "squarify.plot(dbb5.values, label=dbb5.index, pad=1, bar_kwargs={'alpha':0.7}, text_kwargs={'fontsize':10} )\n",
        "plt.title(\"Targets of Armed Assault\",size=10)\n",
        "plt.show()"
      ],
      "metadata": {
        "id": "gLphkD2Hvull"
      },
      "execution_count": null,
      "outputs": []
    },
    {
      "cell_type": "code",
      "source": [
        "#Which gangs involved in Hijacking events\n",
        "plt.pie(labels=dbb9.keys(),x=dbb9.values,autopct=\"%1.2f%%\")\n",
        "centre_circle = plt.Circle((0, 0), 0.70, fc='white')\n",
        "fig = plt.gcf()\n",
        "fig.gca().add_artist(centre_circle)\n",
        "plt.title(\"Gangs involved in Hijacking\")\n",
        "plt.show()"
      ],
      "metadata": {
        "id": "09x5xBmrTR1d"
      },
      "execution_count": null,
      "outputs": []
    },
    {
      "cell_type": "code",
      "source": [
        "#Targets of Hijacking\n",
        "ax=hij_grp.plot(kind='pie',y='Target',autopct=\"%1.2f%%\",shadow=False,startangle=0)\n",
        "ax.legend(bbox_to_anchor=(1, 1.5), loc='upper left')\n",
        "plt.title(\"Hijacking targets in India\",fontsize=12)\n",
        "plt.show()"
      ],
      "metadata": {
        "id": "GbePGMdVTW53"
      },
      "execution_count": null,
      "outputs": []
    },
    {
      "cell_type": "code",
      "source": [
        "#Hijacking correlation with date\n",
        "sns.scatterplot(data=hij,y='Id',x='Day')\n",
        "plt.title(\"Hijacking events correlation to day of occurrence in India\")\n",
        "plt.show()"
      ],
      "metadata": {
        "id": "BDbyJ8v0hxt-"
      },
      "execution_count": null,
      "outputs": []
    },
    {
      "cell_type": "code",
      "source": [
        "#Hijacking correlation with month\n",
        "sns.scatterplot(data=hij,y='Id',x='Month')\n",
        "plt.title(\"Hijacking events correlation to month of occurrence in India\")\n",
        "plt.show()"
      ],
      "metadata": {
        "id": "zKm09hG4TjVy"
      },
      "execution_count": null,
      "outputs": []
    },
    {
      "cell_type": "code",
      "source": [
        "#Modusoperandi of terrorists targetting foreigners in India\n",
        "fo_grp=fo['Attack_type'].value_counts()\n",
        "plt.pie(fo_grp.values, labels=fo_grp.keys(),autopct=\"%1.2f%%\")\n",
        "plt.title(\"Methods used to attack foreign targets in India\",fontsize=12)\n",
        "plt.show()"
      ],
      "metadata": {
        "id": "li82gSy5T36S"
      },
      "execution_count": null,
      "outputs": []
    },
    {
      "cell_type": "code",
      "source": [
        "#Which foreign countries were targetted\n",
        "fig, axs = plt.subplots()\n",
        "fig.set_size_inches(10,10)\n",
        "sns.countplot(data=fo,y='Target_nationality')\n",
        "plt.title(\"Which foreign country most targetted in India\")\n",
        "plt.show()"
      ],
      "metadata": {
        "id": "3pKjXghEUGJz"
      },
      "execution_count": null,
      "outputs": []
    },
    {
      "cell_type": "code",
      "source": [
        "#Assasination events targets\n",
        "squarify.plot(dbb0.values, label=dbb0.index, pad=1, bar_kwargs={'alpha':0.7}, text_kwargs={'fontsize':10} )\n",
        "plt.title(\"Targets of Assassination events in India\",size=10)\n",
        "plt.show()"
      ],
      "metadata": {
        "id": "2MdbhppLUSUv"
      },
      "execution_count": null,
      "outputs": []
    },
    {
      "cell_type": "code",
      "source": [
        "#Share of incidents in India categorised by gangs(aggregated as categories).\n",
        "plt.pie(da.values,labels=da.index,autopct=\"%1.2f%%\")\n",
        "plt.title(\"Share of terror events in India committed by gangs categorised by severity\",fontsize=12)\n",
        "plt.show()\n",
        "\n",
        "#Total casualties by Gangs,categorised by category\n",
        "fig = plt.figure(\n",
        "    FigureClass = Waffle,\n",
        "    rows = 15,\n",
        "    values = dq_sum.values,\n",
        "    labels= list(dq_sum.keys())\n",
        ")\n",
        "plt.show()"
      ],
      "metadata": {
        "id": "nTaQ6VzVUYTI"
      },
      "execution_count": null,
      "outputs": []
    },
    {
      "cell_type": "markdown",
      "source": [
        "##### 1. Why did you pick the specific chart?"
      ],
      "metadata": {
        "id": "E6MkPsBcp1cl"
      }
    },
    {
      "cell_type": "markdown",
      "source": [
        "**India**, the most populous contry is seen as a **bright economic spot** in postcovid world. However, the country has suffered a lot due to **terrorist activities**.It warrants a **special analysis of India as a case study.**\n",
        "\n",
        "1. **Yearwise frequency** of terror events is desired,hence a **histplot** is appropriate for the purpose as year is a continuous entity.\n",
        "2. **Spatial distribution of terror events** in India is shown on a **map** of India using **geopandas module**.Further, a **countplot** is used to display count of terror events in India **state/province wise.**\n",
        "3. Also **spatial distribution** of terror events in India **diaggregated by attacktypes** is shown on map of India using **geopandas**.\n",
        "4. **Spatial and temporal aspects** are combined.**Decadewise terror** events count is shown using a **no fill histogram,state wise distribution of terror events in a particular decade **is shown by **countplots** within the histbar of the respective decade.\n",
        "5. Owing to **limited no. of alternatives**, alternative to terror events is shown by a **countplot.**\n",
        "6. A **barchart** is plotted between **attacktypes and casualty to get mean casualty for various attack types** in India.\n",
        "7. **Bombing events** in India are analysed **monthwise and daywise** and are represented by a **lineplot** since value_counts() series index and values can be suitably represented.\n",
        "8. **Targets of bombing/explosion,hostage taking(barricade),armed assault,assassination events and gangs targetting businesses** are represented on a **treemap.**It brings **clarity** in visual representation.\n",
        "9. **Businesses targetted by Hostage Taking (Barricade Incident)** are represented by a **pie chart as limited no. of such businesses** can be clearly shown.\n",
        "10. **Regions where most hostage taking(Barricade incidents) have occurred and gangs involved in hijacking events** are reprented by a donut chart to bring diversity in presentation.\n",
        "11. **Targets of hijacking**, being limited are represented by a **pie chart.**\n",
        "12. **Scatterplot** is used to **correlate hijacking event to month and day of occurence**.This has been done since the **month/day are categorical while event count is continuous variable**.\n",
        "13. **Methods used to attack foreign targets** in India are limited, so their count share is represented by a **pie chart.**\n",
        "14. The **most targetted foreign country in India** is represented using a **count chart** as no. of countries is large.\n",
        "15. **Share of incidents in India categorised by gangs category** are shown on **pie chart** as catgories are limited to 3.**Total casualties by Gangs**,categorised by category are shown using **waffle chart** as it brings **diversity in presentation.**\n"
      ],
      "metadata": {
        "id": "V22bRsFWp1cl"
      }
    },
    {
      "cell_type": "markdown",
      "source": [
        "##### 2. What is/are the insight(s) found from the chart?"
      ],
      "metadata": {
        "id": "2cELzS2fp1cl"
      }
    },
    {
      "cell_type": "markdown",
      "source": [
        "1. **Frequency** of terror events per year in India is **on the rise**.The **recent years** have witnessed **more no. of terror events per year compared to earlier ones.**\n",
        "\n",
        "2. **Red dots** represent locations of terror incidents.Major clusters can be found in **North India,NE India and parts of East and Central India.**\n",
        "  **Most terror events** have occured in **Jammu & Kashmir, followed by NE States like Manipur and Assam. Substantial no. of Terror incidents have also occured in Punjab.Besides left wing extremism dominates the states of Bihar,Jharkhand,Chattisgarh,Odisha and West Bengal**\n",
        "3. With regard to **spatial distribution of various types of terror attack:-**\n",
        "  \n",
        "  **Most assassinations have happened in Punjab**\n",
        "\n",
        "  **Armed assaults are common in J&K and border areas of NE**\n",
        "\n",
        "  **Bombings/Explosion have occured all through the country, with majority in areas of more terror like NE**\n",
        "\n",
        "  **Facility/infrastructure attacks are more common in central and E.India like Jharkhand,Chattisgarh etc.**\n",
        "\n",
        "  **Hijacking** mostly happens in **Eastern** part of India.\n",
        "\n",
        "  **Hostage taking** has mostly occured in **Punjab,parts of Cg,Od etc.**\n",
        "\n",
        "  **Unarmed assult** is mostly concentrated in **East and NE India.**\n",
        "3. **No. of terror incidents have grown decadewise** in India.\n",
        "\n",
        "  **1970s** witnessed **few terror events**.\n",
        "\n",
        "  **1980s** show terror events **concentration in Punjab**.\n",
        "  \n",
        "  **1990s**-**Jammu & Kashmir overtakes Punjab,more terror nuclii emerges in NE India and Tribal areas** of central India.\n",
        "  \n",
        "  **2000s**-The nuclii keeps on **growing**.\n",
        "  \n",
        "  **2010s**-Substantial terror activity in varous regions including J&K,NE,Central India etc.\n",
        "5. **Insurgency/Guerilla** action dominates among **alternative to terror events.**\n",
        "5. **Bombing/Explosion and Hostage taking(barricade incident)** dominates the **mean casualities** for various terror events in India.\n",
        "6. **Most bombing** events in India have occured in the month of **April**.Its followed by August,January and November.\n",
        "7. **15th Day** of the month has experienced **most bombings.It is closely followed by 26 and 8**.**15 August and 26 Jan being national days is noteworthy.**\n",
        "8. The **targets of most bombing/explosion** were **Police,Private citizen,Transportation,Government(general),Military and business**.\n",
        "9. **Hostage(Barricade)** is defined as the **unlawful denial of access to an area by an individual who threatens harm to his or her person or those seeking entry.****Main target of barricade inncidents are Businesses,Transportation,Private citizen and property and military.**\n",
        "10. Among **businesses,Construction,Hotel/Resort,Mining,Industrial textile/factory and MNCs are most impacted.**\n",
        "11. **Major gangs involved in barricade are Maoists,Deccan Mujahedden,People liberation front,RCC,CPI(Maoist).****And these incidents are prevalent in Jharkhand,J&K,Bihar,Maharashtra,Chattisgarh.**\n",
        "12. **Police,Private citizens/property,Military are major targets of armed assault.**\n",
        "13. **Unknown elements,CPI(Maoist),LeT,Sikh Extremists dominates among gangs involved in hijacking activities in India.**\n",
        "14. **Transportation is the most frequent hijacking target in India.Its followed by private citizens,aircrafts and police.**\n",
        "15. **Most hijacking incidents have occured beyond 15th day of any month.Though most hijacking incidents have occured in September.**\n",
        "16. **CPI(Maoist) is the known gang most involved in targetting foreign targets in India.** **Most foreign targetting events involve bombing,armed assault,hostage taking(Kidnapping) and assassination.**\n",
        "18. **Most targetted foreign nations in India are US,Britain,Pak,Bangladesh and SriLanka.**\n",
        "19. **Governmen(General) entities are biggest target of assassination events in India.**\n",
        "20. **Most terror events in India by count as well as total casualty  are committed by most dangerous gangs(77.43%).**"
      ],
      "metadata": {
        "id": "ozQPc2_Ip1cl"
      }
    },
    {
      "cell_type": "markdown",
      "source": [
        "##### 3. Will the gained insights help creating a positive business impact?\n",
        "Are there any insights that lead to negative growth? Justify with specific reason."
      ],
      "metadata": {
        "id": "3MPXvC8up1cl"
      }
    },
    {
      "cell_type": "markdown",
      "source": [
        "1. **Regions of terror activity dominance in India coincide with areas of low gdp per capita eg-NE,Bihar.Jharkhand,J&K etc.**\n",
        "2. Terror activity in **central India also coincide with region rich in coal and minerals.Thus the involved businesess may face more headwinds operating in the region.**\n",
        "3. **Insurgency/Guerilla action,make businesses operation difficult.**\n",
        "4. **Most bombings in April damages tourism as April weather is pro tourist in India.**\n",
        "5. **15 and 26 seem to be targetted days for bombing beinig independence day and republic day.It warrants additional security measures.**\n",
        "6. **Police must be fortified strongly.Also businesses are major targets of bombing and barricade, it may stall business activities in the regions like Bihar,J&K,Jharkhand etc.**\n",
        "7. **Construction,Hotel/Resort,Mining,Industrial textile/factory and MNCs are most impacted businesses.**\n",
        "8. **Gangs involved in barrricade must be shortlistd to be dealt on priority to create pro business sentiment.**\n",
        "9. **Hijacking is more prevalent after 15th day.This fact can be used to plan security arrangements.**\n",
        "10. **US and Britain being most targetted forign nations have to be dealt with sternly,as diplomatic prestige is at stake.Also large no. of US based MNCs may relocate,affecting economic situation in India.**\n",
        "11. **Security must be tightened of government fuctionaries eg-Parliament etc given they are top targets of assassination attacks.**\n",
        "12. **Most dangerous gangs are involved in most terror activity in India,they must be listed and banned under PMLA,UAPA etc.**"
      ],
      "metadata": {
        "id": "GL8l1tdLp1cl"
      }
    },
    {
      "cell_type": "markdown",
      "source": [
        "#### Chart - 16 - Correlation Heatmap"
      ],
      "metadata": {
        "id": "NC_X3p0fY2L0"
      }
    },
    {
      "cell_type": "code",
      "source": [
        "# Correlation Heatmap visualization code\n",
        "sns.heatmap(data1.drop(['Attack_claimed'],axis=1).corr(),cmap='coolwarm',annot=True)\n",
        "plt.title(\"Correlation heatmap for data1, a subset of India specific terror event dataframe\")\n",
        "plt.show()"
      ],
      "metadata": {
        "id": "xyC9zolEZNRQ"
      },
      "execution_count": null,
      "outputs": []
    },
    {
      "cell_type": "markdown",
      "source": [
        "##### 1. Why did you pick the specific chart?"
      ],
      "metadata": {
        "id": "UV0SzAkaZNRQ"
      }
    },
    {
      "cell_type": "markdown",
      "source": [
        "A correlation between continuous variables was demanded.Thus a subdataframe was selected and heatmap with corr() function used to diaplay the relationship between all possible pairs of selected variables."
      ],
      "metadata": {
        "id": "DVPuT8LYZNRQ"
      }
    },
    {
      "cell_type": "markdown",
      "source": [
        "##### 2. What is/are the insight(s) found from the chart?"
      ],
      "metadata": {
        "id": "YPEH6qLeZNRQ"
      }
    },
    {
      "cell_type": "markdown",
      "source": [
        "1. Number of perpetrators(nperps) is positively correlated with Casualty and value of property*propvalue) damaged in terror event.\n",
        "2. Number of perpetrators is negatively correlated with ransom amount, which seem ironic.\n",
        "3. Casualty is negatively correlated with property value and ransom amount.\n",
        "4. Property value is directly proportional to ransom amount.\n"
      ],
      "metadata": {
        "id": "bfSqtnDqZNRR"
      }
    },
    {
      "cell_type": "markdown",
      "source": [
        "#### Chart - 17 - Pair Plot"
      ],
      "metadata": {
        "id": "q29F0dvdveiT"
      }
    },
    {
      "cell_type": "code",
      "source": [
        "# Pair Plot visualization code\n",
        "sns.pairplot(df_india,vars=dd,dropna=True)\n",
        "plt.show()\n",
        "# Pairplot with hue parameter\n",
        "sns.pairplot(df_india,vars=dd,hue='Attack_type',dropna=True)\n",
        "plt.show()"
      ],
      "metadata": {
        "id": "o58-TEIhveiU"
      },
      "execution_count": null,
      "outputs": []
    },
    {
      "cell_type": "markdown",
      "source": [
        "##### 1. Why did you pick the specific chart?"
      ],
      "metadata": {
        "id": "EXh0U9oCveiU"
      }
    },
    {
      "cell_type": "markdown",
      "source": [
        "A correlation between continuous variables was demanded.Thus a subdataframe was selected and pairplot function used to display the relationship between all possible pairs of variables in the dataframe."
      ],
      "metadata": {
        "id": "eMmPjTByveiU"
      }
    },
    {
      "cell_type": "markdown",
      "source": [
        "##### 2. What is/are the insight(s) found from the chart?"
      ],
      "metadata": {
        "id": "22aHeOlLveiV"
      }
    },
    {
      "cell_type": "markdown",
      "source": [
        "1. Ransomamt is directly correlated to day.\n",
        "2. No. of petrators(nperps) and casualty is inversely related to ransomamt\n",
        "3. propvalue is inversely related to nperps and casualty.\n",
        "4. Casualty increease towards end of days and inversely related to nperps.\n",
        "5. More perpetrators are involved in bombing and adrmed assault.\n",
        "6. More casualty in bombing/explosion\n",
        "7. Facility/infrastructue attacks cause propvalue damage\n",
        "8. Ransom demanded in hostage taking/kidnapping.\n"
      ],
      "metadata": {
        "id": "uPQ8RGwHveiV"
      }
    },
    {
      "cell_type": "markdown",
      "source": [
        "## **5. Solution to Business Objective**"
      ],
      "metadata": {
        "id": "JcMwzZxoAimU"
      }
    },
    {
      "cell_type": "markdown",
      "source": [
        "#### What do you suggest the client to achieve Business Objective ?\n",
        "Explain Briefly."
      ],
      "metadata": {
        "id": "8G2x9gOozGDZ"
      }
    },
    {
      "cell_type": "markdown",
      "source": [
        "Based on the analysis, the following solutions are recommended:-\n",
        "1.\n"
      ],
      "metadata": {
        "id": "pASKb0qOza21"
      }
    },
    {
      "cell_type": "markdown",
      "source": [
        "# **Conclusion**"
      ],
      "metadata": {
        "id": "gCX9965dhzqZ"
      }
    },
    {
      "cell_type": "markdown",
      "source": [
        "Write the conclusion here."
      ],
      "metadata": {
        "id": "Fjb1IsQkh3yE"
      }
    },
    {
      "cell_type": "markdown",
      "source": [
        "### ***Hurrah! You have successfully completed your EDA Capstone Project !!!***"
      ],
      "metadata": {
        "id": "gIfDvo9L0UH2"
      }
    }
  ]
}